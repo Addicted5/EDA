{
 "cells": [
  {
   "cell_type": "markdown",
   "id": "40873be7",
   "metadata": {},
   "source": [
    "# Importing Libraries"
   ]
  },
  {
   "cell_type": "code",
   "execution_count": 36,
   "id": "f95abf3f",
   "metadata": {},
   "outputs": [],
   "source": [
    "# Just run on 1st instance on Local machine\n",
    "# !pip install plotly plotly-geo\n",
    "#!pip install pycountry_convert"
   ]
  },
  {
   "cell_type": "code",
   "execution_count": 37,
   "id": "1548b508",
   "metadata": {},
   "outputs": [],
   "source": [
    "import numpy as np\n",
    "import pandas as pd\n",
    "import warnings\n",
    "warnings.filterwarnings(\"ignore\")\n",
    "#import matplotlib.pyplot as plt\n",
    "#import seaborn as sns\n",
    "#import squarify\n",
    "import pycountry_convert as pc\n",
    "import os\n",
    "import plotly.express as px\n",
    "import plotly.graph_objects as go\n",
    "from plotly.subplots import make_subplots"
   ]
  },
  {
   "cell_type": "code",
   "execution_count": 38,
   "id": "5eea5c74",
   "metadata": {},
   "outputs": [],
   "source": [
    "# Default theme & color code I will be using\n",
    "#plt.style.use('seaborn-dark')\n",
    "#theme = 'plotly_dark'\n",
    "green = '#009473'\n",
    "red = '#dd4124'"
   ]
  },
  {
   "cell_type": "markdown",
   "id": "376837ea",
   "metadata": {},
   "source": [
    "# Happiness Index\n",
    "\n",
    "We'll be doing pure **Explanatory data analysis** to extract as much as information as possible.\n",
    "We'll also import Population databse to see any correlation between Happiness Index data & Population.\n",
    "Since data is already cleaned, there isn't much to do except renaming few columns & dropping few. \n",
    "\n",
    "I'll be using only Plotly library to visualize the data & hope to learn the library while doing this analysis."
   ]
  },
  {
   "cell_type": "code",
   "execution_count": 39,
   "id": "1f4c0ba0",
   "metadata": {},
   "outputs": [],
   "source": [
    "#### Importing files & copying it\n",
    "happiness2021 = pd.read_csv('world-happiness-report-2021.csv')\n",
    "happiness = pd.read_csv('world-happiness-report.csv')\n",
    "pop = pd.read_csv('population_by_country_2020.csv')"
   ]
  },
  {
   "cell_type": "code",
   "execution_count": 40,
   "id": "0b066f88",
   "metadata": {},
   "outputs": [],
   "source": [
    "df1 = happiness2021.copy()\n",
    "df2 = happiness.copy()"
   ]
  },
  {
   "cell_type": "markdown",
   "id": "b93bd5cd",
   "metadata": {},
   "source": [
    "## We'll be doing pure Explanatory data analysis\n",
    "\n",
    "\n",
    "Steps:\n",
    "- **Overview (Top 10, Buttom 10 overview Continent?, Top & Bottom)**\n",
    "- Does population has anything to do with it?\n",
    "- **Top 10, Buttom 10; for further analysis**\n",
    "- Scatter Plot\n",
    "- - However we'll do for India\n",
    "- - **Life Expectancy on the x-axis, HappinessIndex on Y, GDP per Capita as the size of the circles,and region - Western Europe shown in green vs Rest of world in Orange**\n",
    "- - Life Expectancy on the x-axis, HappinessIndex on Y, GDP per Capita as the size of the circles,and region - Africa shown in green vs Rest of world in Orange\n",
    "- Scatter Plot 2\n",
    "- - Happiness score, Freedom on X, Corruption on Y\n",
    "- Continental View\n",
    "- **Continent Wise Happiness score & Life expentencies**\n",
    "- Make 2 bin, above mean happiness index & below.\n",
    "- - Plot all features at once.\n",
    "- India & ourside india as different color code. Happiness Index Y, Median Age X, Population size of circle\n"
   ]
  },
  {
   "cell_type": "markdown",
   "id": "043c54e6",
   "metadata": {},
   "source": [
    "## Let's take a overlook at the data & Fix few columns"
   ]
  },
  {
   "cell_type": "code",
   "execution_count": 41,
   "id": "7062cd67",
   "metadata": {
    "scrolled": true
   },
   "outputs": [
    {
     "output_type": "execute_result",
     "data": {
      "text/plain": [
       "  Country name Regional indicator  Ladder score  \\\n",
       "0      Finland     Western Europe         7.842   \n",
       "1      Denmark     Western Europe         7.620   \n",
       "2  Switzerland     Western Europe         7.571   \n",
       "\n",
       "   Standard error of ladder score  upperwhisker  lowerwhisker  \\\n",
       "0                           0.032         7.904         7.780   \n",
       "1                           0.035         7.687         7.552   \n",
       "2                           0.036         7.643         7.500   \n",
       "\n",
       "   Logged GDP per capita  Social support  Healthy life expectancy  \\\n",
       "0                 10.775           0.954                     72.0   \n",
       "1                 10.933           0.954                     72.7   \n",
       "2                 11.117           0.942                     74.4   \n",
       "\n",
       "   Freedom to make life choices  Generosity  Perceptions of corruption  \\\n",
       "0                         0.949      -0.098                      0.186   \n",
       "1                         0.946       0.030                      0.179   \n",
       "2                         0.919       0.025                      0.292   \n",
       "\n",
       "   Ladder score in Dystopia  Explained by: Log GDP per capita  \\\n",
       "0                      2.43                             1.446   \n",
       "1                      2.43                             1.502   \n",
       "2                      2.43                             1.566   \n",
       "\n",
       "   Explained by: Social support  Explained by: Healthy life expectancy  \\\n",
       "0                         1.106                                  0.741   \n",
       "1                         1.108                                  0.763   \n",
       "2                         1.079                                  0.816   \n",
       "\n",
       "   Explained by: Freedom to make life choices  Explained by: Generosity  \\\n",
       "0                                       0.691                     0.124   \n",
       "1                                       0.686                     0.208   \n",
       "2                                       0.653                     0.204   \n",
       "\n",
       "   Explained by: Perceptions of corruption  Dystopia + residual  \n",
       "0                                    0.481                3.253  \n",
       "1                                    0.485                2.868  \n",
       "2                                    0.413                2.839  "
      ],
      "text/html": "<div>\n<style scoped>\n    .dataframe tbody tr th:only-of-type {\n        vertical-align: middle;\n    }\n\n    .dataframe tbody tr th {\n        vertical-align: top;\n    }\n\n    .dataframe thead th {\n        text-align: right;\n    }\n</style>\n<table border=\"1\" class=\"dataframe\">\n  <thead>\n    <tr style=\"text-align: right;\">\n      <th></th>\n      <th>Country name</th>\n      <th>Regional indicator</th>\n      <th>Ladder score</th>\n      <th>Standard error of ladder score</th>\n      <th>upperwhisker</th>\n      <th>lowerwhisker</th>\n      <th>Logged GDP per capita</th>\n      <th>Social support</th>\n      <th>Healthy life expectancy</th>\n      <th>Freedom to make life choices</th>\n      <th>Generosity</th>\n      <th>Perceptions of corruption</th>\n      <th>Ladder score in Dystopia</th>\n      <th>Explained by: Log GDP per capita</th>\n      <th>Explained by: Social support</th>\n      <th>Explained by: Healthy life expectancy</th>\n      <th>Explained by: Freedom to make life choices</th>\n      <th>Explained by: Generosity</th>\n      <th>Explained by: Perceptions of corruption</th>\n      <th>Dystopia + residual</th>\n    </tr>\n  </thead>\n  <tbody>\n    <tr>\n      <th>0</th>\n      <td>Finland</td>\n      <td>Western Europe</td>\n      <td>7.842</td>\n      <td>0.032</td>\n      <td>7.904</td>\n      <td>7.780</td>\n      <td>10.775</td>\n      <td>0.954</td>\n      <td>72.0</td>\n      <td>0.949</td>\n      <td>-0.098</td>\n      <td>0.186</td>\n      <td>2.43</td>\n      <td>1.446</td>\n      <td>1.106</td>\n      <td>0.741</td>\n      <td>0.691</td>\n      <td>0.124</td>\n      <td>0.481</td>\n      <td>3.253</td>\n    </tr>\n    <tr>\n      <th>1</th>\n      <td>Denmark</td>\n      <td>Western Europe</td>\n      <td>7.620</td>\n      <td>0.035</td>\n      <td>7.687</td>\n      <td>7.552</td>\n      <td>10.933</td>\n      <td>0.954</td>\n      <td>72.7</td>\n      <td>0.946</td>\n      <td>0.030</td>\n      <td>0.179</td>\n      <td>2.43</td>\n      <td>1.502</td>\n      <td>1.108</td>\n      <td>0.763</td>\n      <td>0.686</td>\n      <td>0.208</td>\n      <td>0.485</td>\n      <td>2.868</td>\n    </tr>\n    <tr>\n      <th>2</th>\n      <td>Switzerland</td>\n      <td>Western Europe</td>\n      <td>7.571</td>\n      <td>0.036</td>\n      <td>7.643</td>\n      <td>7.500</td>\n      <td>11.117</td>\n      <td>0.942</td>\n      <td>74.4</td>\n      <td>0.919</td>\n      <td>0.025</td>\n      <td>0.292</td>\n      <td>2.43</td>\n      <td>1.566</td>\n      <td>1.079</td>\n      <td>0.816</td>\n      <td>0.653</td>\n      <td>0.204</td>\n      <td>0.413</td>\n      <td>2.839</td>\n    </tr>\n  </tbody>\n</table>\n</div>"
     },
     "metadata": {},
     "execution_count": 41
    }
   ],
   "source": [
    "df1.head(3)"
   ]
  },
  {
   "cell_type": "markdown",
   "id": "7234a4b6",
   "metadata": {},
   "source": [
    "- We need to fix few column names"
   ]
  },
  {
   "cell_type": "code",
   "execution_count": 42,
   "id": "c7d171b2",
   "metadata": {},
   "outputs": [],
   "source": [
    "df1.rename(columns={'Country name': 'Country',\n",
    "                    \"Healthy life expectancy\":\"Life Expectancy\",\n",
    "                    \"Freedom to make life choices\":\"Freedom\",\n",
    "                    \"Perceptions of corruption\":\"Corruption\",\n",
    "                   'Logged GDP per capita': 'GDP per capita'},inplace=True)"
   ]
  },
  {
   "cell_type": "markdown",
   "id": "4a3eb155",
   "metadata": {},
   "source": [
    "- We don't need few columns, dropping them for now"
   ]
  },
  {
   "cell_type": "code",
   "execution_count": 43,
   "id": "1a36d967",
   "metadata": {},
   "outputs": [],
   "source": [
    "df1.drop(['Explained by: Log GDP per capita','Explained by: Social support','Explained by: Healthy life expectancy','Ladder score in Dystopia',\n",
    "          'Explained by: Freedom to make life choices','Explained by: Generosity','Explained by: Perceptions of corruption','Dystopia + residual',\n",
    "         'Standard error of ladder score','upperwhisker','lowerwhisker'], axis=1,inplace=True)"
   ]
  },
  {
   "cell_type": "code",
   "execution_count": 44,
   "id": "dbb504b9",
   "metadata": {
    "scrolled": true
   },
   "outputs": [
    {
     "output_type": "execute_result",
     "data": {
      "text/plain": [
       "  Country name  year  Life Ladder  Log GDP per capita  Social support  \\\n",
       "0  Afghanistan  2008        3.724               7.370           0.451   \n",
       "1  Afghanistan  2009        4.402               7.540           0.552   \n",
       "2  Afghanistan  2010        4.758               7.647           0.539   \n",
       "\n",
       "   Healthy life expectancy at birth  Freedom to make life choices  Generosity  \\\n",
       "0                              50.8                         0.718       0.168   \n",
       "1                              51.2                         0.679       0.190   \n",
       "2                              51.6                         0.600       0.121   \n",
       "\n",
       "   Perceptions of corruption  Positive affect  Negative affect  \n",
       "0                      0.882            0.518            0.258  \n",
       "1                      0.850            0.584            0.237  \n",
       "2                      0.707            0.618            0.275  "
      ],
      "text/html": "<div>\n<style scoped>\n    .dataframe tbody tr th:only-of-type {\n        vertical-align: middle;\n    }\n\n    .dataframe tbody tr th {\n        vertical-align: top;\n    }\n\n    .dataframe thead th {\n        text-align: right;\n    }\n</style>\n<table border=\"1\" class=\"dataframe\">\n  <thead>\n    <tr style=\"text-align: right;\">\n      <th></th>\n      <th>Country name</th>\n      <th>year</th>\n      <th>Life Ladder</th>\n      <th>Log GDP per capita</th>\n      <th>Social support</th>\n      <th>Healthy life expectancy at birth</th>\n      <th>Freedom to make life choices</th>\n      <th>Generosity</th>\n      <th>Perceptions of corruption</th>\n      <th>Positive affect</th>\n      <th>Negative affect</th>\n    </tr>\n  </thead>\n  <tbody>\n    <tr>\n      <th>0</th>\n      <td>Afghanistan</td>\n      <td>2008</td>\n      <td>3.724</td>\n      <td>7.370</td>\n      <td>0.451</td>\n      <td>50.8</td>\n      <td>0.718</td>\n      <td>0.168</td>\n      <td>0.882</td>\n      <td>0.518</td>\n      <td>0.258</td>\n    </tr>\n    <tr>\n      <th>1</th>\n      <td>Afghanistan</td>\n      <td>2009</td>\n      <td>4.402</td>\n      <td>7.540</td>\n      <td>0.552</td>\n      <td>51.2</td>\n      <td>0.679</td>\n      <td>0.190</td>\n      <td>0.850</td>\n      <td>0.584</td>\n      <td>0.237</td>\n    </tr>\n    <tr>\n      <th>2</th>\n      <td>Afghanistan</td>\n      <td>2010</td>\n      <td>4.758</td>\n      <td>7.647</td>\n      <td>0.539</td>\n      <td>51.6</td>\n      <td>0.600</td>\n      <td>0.121</td>\n      <td>0.707</td>\n      <td>0.618</td>\n      <td>0.275</td>\n    </tr>\n  </tbody>\n</table>\n</div>"
     },
     "metadata": {},
     "execution_count": 44
    }
   ],
   "source": [
    "df2.head(3)"
   ]
  },
  {
   "cell_type": "markdown",
   "id": "cf61df8e",
   "metadata": {},
   "source": [
    " - df2 seems cleaned mostly, but i can't make sense of few columns"
   ]
  },
  {
   "cell_type": "code",
   "execution_count": 45,
   "id": "53c4cf0c",
   "metadata": {},
   "outputs": [],
   "source": [
    "df2.rename(columns={'Country name': 'Country',\n",
    "                    'Healthy life expectancy at birth': 'Life Expectancy',\n",
    "                    'Freedom to make life choices': 'Freedom',\n",
    "                    'Perceptions of corruption': 'Corruption',\n",
    "                   'Log GDP per capita': 'GDP per capita','Life Ladder':'Ladder score'},inplace=True)"
   ]
  },
  {
   "cell_type": "code",
   "execution_count": 46,
   "id": "f557afde",
   "metadata": {},
   "outputs": [],
   "source": [
    "df2.drop(['Positive affect','Negative affect'],axis=1,inplace=True)"
   ]
  },
  {
   "cell_type": "code",
   "execution_count": 47,
   "id": "eb0a1f4d",
   "metadata": {
    "scrolled": true
   },
   "outputs": [
    {
     "output_type": "execute_result",
     "data": {
      "text/plain": [
       "  Country (or dependency)  Population (2020) Yearly Change  Net Change  \\\n",
       "0                   China         1440297825        0.39 %     5540090   \n",
       "1                   India         1382345085        0.99 %    13586631   \n",
       "2           United States          331341050        0.59 %     1937734   \n",
       "\n",
       "   Density (P/Km²)  Land Area (Km²)  Migrants (net) Fert. Rate Med. Age  \\\n",
       "0              153          9388211       -348399.0        1.7       38   \n",
       "1              464          2973190       -532687.0        2.2       28   \n",
       "2               36          9147420        954806.0        1.8       38   \n",
       "\n",
       "  Urban Pop % World Share  \n",
       "0        61 %     18.47 %  \n",
       "1        35 %     17.70 %  \n",
       "2        83 %      4.25 %  "
      ],
      "text/html": "<div>\n<style scoped>\n    .dataframe tbody tr th:only-of-type {\n        vertical-align: middle;\n    }\n\n    .dataframe tbody tr th {\n        vertical-align: top;\n    }\n\n    .dataframe thead th {\n        text-align: right;\n    }\n</style>\n<table border=\"1\" class=\"dataframe\">\n  <thead>\n    <tr style=\"text-align: right;\">\n      <th></th>\n      <th>Country (or dependency)</th>\n      <th>Population (2020)</th>\n      <th>Yearly Change</th>\n      <th>Net Change</th>\n      <th>Density (P/Km²)</th>\n      <th>Land Area (Km²)</th>\n      <th>Migrants (net)</th>\n      <th>Fert. Rate</th>\n      <th>Med. Age</th>\n      <th>Urban Pop %</th>\n      <th>World Share</th>\n    </tr>\n  </thead>\n  <tbody>\n    <tr>\n      <th>0</th>\n      <td>China</td>\n      <td>1440297825</td>\n      <td>0.39 %</td>\n      <td>5540090</td>\n      <td>153</td>\n      <td>9388211</td>\n      <td>-348399.0</td>\n      <td>1.7</td>\n      <td>38</td>\n      <td>61 %</td>\n      <td>18.47 %</td>\n    </tr>\n    <tr>\n      <th>1</th>\n      <td>India</td>\n      <td>1382345085</td>\n      <td>0.99 %</td>\n      <td>13586631</td>\n      <td>464</td>\n      <td>2973190</td>\n      <td>-532687.0</td>\n      <td>2.2</td>\n      <td>28</td>\n      <td>35 %</td>\n      <td>17.70 %</td>\n    </tr>\n    <tr>\n      <th>2</th>\n      <td>United States</td>\n      <td>331341050</td>\n      <td>0.59 %</td>\n      <td>1937734</td>\n      <td>36</td>\n      <td>9147420</td>\n      <td>954806.0</td>\n      <td>1.8</td>\n      <td>38</td>\n      <td>83 %</td>\n      <td>4.25 %</td>\n    </tr>\n  </tbody>\n</table>\n</div>"
     },
     "metadata": {},
     "execution_count": 47
    }
   ],
   "source": [
    "pop.head(3)"
   ]
  },
  {
   "cell_type": "code",
   "execution_count": 48,
   "id": "faeb6dae",
   "metadata": {},
   "outputs": [],
   "source": [
    "pop.rename(columns={'Country (or dependency)': 'Country'},inplace=True)"
   ]
  },
  {
   "cell_type": "markdown",
   "id": "e034ea5f",
   "metadata": {},
   "source": [
    "## Happiest & Unhappiest Countries in 2021\n",
    "\n",
    "We are going to take a look at Top 6 & Bottom 6 Countries in the List. Happiness is measured through the Ladder score."
   ]
  },
  {
   "cell_type": "code",
   "execution_count": 49,
   "id": "89099525",
   "metadata": {},
   "outputs": [],
   "source": [
    "t_6=df1.head(6)\n",
    "b_6=df1.tail(6)"
   ]
  },
  {
   "cell_type": "code",
   "execution_count": 50,
   "id": "dff0dff7",
   "metadata": {},
   "outputs": [
    {
     "output_type": "display_data",
     "data": {
      "application/vnd.plotly.v1+json": {
       "config": {
        "plotlyServerURL": "https://plot.ly"
       },
       "data": [
        {
         "marker": {
          "color": "#009473",
          "line": {
           "color": "#009473",
           "width": 1
          }
         },
         "name": "",
         "orientation": "h",
         "text": [
          "Western Europe",
          "Western Europe",
          "Western Europe",
          "Western Europe",
          "Western Europe",
          "Western Europe"
         ],
         "type": "bar",
         "x": [
          7.842,
          7.62,
          7.571,
          7.554,
          7.464,
          7.392
         ],
         "xaxis": "x",
         "y": [
          "Finland",
          "Denmark",
          "Switzerland",
          "Iceland",
          "Netherlands",
          "Norway"
         ],
         "yaxis": "y"
        },
        {
         "marker": {
          "color": "#dd4124",
          "line": {
           "color": "#dd4124",
           "width": 1
          }
         },
         "name": "",
         "orientation": "h",
         "text": [
          "Sub-Saharan Africa",
          "Sub-Saharan Africa",
          "Sub-Saharan Africa",
          "Sub-Saharan Africa",
          "Sub-Saharan Africa",
          "South Asia"
         ],
         "type": "bar",
         "x": [
          3.6,
          3.512,
          3.467,
          3.415,
          3.145,
          2.523
         ],
         "xaxis": "x2",
         "y": [
          "Malawi",
          "Lesotho",
          "Botswana",
          "Rwanda",
          "Zimbabwe",
          "Afghanistan"
         ],
         "yaxis": "y2"
        }
       ],
       "layout": {
        "annotations": [
         {
          "font": {
           "size": 16
          },
          "showarrow": false,
          "text": "Top 6 Countries in Index",
          "x": 0.225,
          "xanchor": "center",
          "xref": "paper",
          "y": 1,
          "yanchor": "bottom",
          "yref": "paper",
          "yshift": 5
         },
         {
          "font": {
           "size": 16
          },
          "showarrow": false,
          "text": "Bottom 6 Countries in Index",
          "x": 0.775,
          "xanchor": "center",
          "xref": "paper",
          "y": 1,
          "yanchor": "bottom",
          "yref": "paper",
          "yshift": 5
         }
        ],
        "showlegend": false,
        "template": {
         "data": {
          "bar": [
           {
            "error_x": {
             "color": "#2a3f5f"
            },
            "error_y": {
             "color": "#2a3f5f"
            },
            "marker": {
             "line": {
              "color": "#E5ECF6",
              "width": 0.5
             }
            },
            "type": "bar"
           }
          ],
          "barpolar": [
           {
            "marker": {
             "line": {
              "color": "#E5ECF6",
              "width": 0.5
             }
            },
            "type": "barpolar"
           }
          ],
          "carpet": [
           {
            "aaxis": {
             "endlinecolor": "#2a3f5f",
             "gridcolor": "white",
             "linecolor": "white",
             "minorgridcolor": "white",
             "startlinecolor": "#2a3f5f"
            },
            "baxis": {
             "endlinecolor": "#2a3f5f",
             "gridcolor": "white",
             "linecolor": "white",
             "minorgridcolor": "white",
             "startlinecolor": "#2a3f5f"
            },
            "type": "carpet"
           }
          ],
          "choropleth": [
           {
            "colorbar": {
             "outlinewidth": 0,
             "ticks": ""
            },
            "type": "choropleth"
           }
          ],
          "contour": [
           {
            "colorbar": {
             "outlinewidth": 0,
             "ticks": ""
            },
            "colorscale": [
             [
              0,
              "#0d0887"
             ],
             [
              0.1111111111111111,
              "#46039f"
             ],
             [
              0.2222222222222222,
              "#7201a8"
             ],
             [
              0.3333333333333333,
              "#9c179e"
             ],
             [
              0.4444444444444444,
              "#bd3786"
             ],
             [
              0.5555555555555556,
              "#d8576b"
             ],
             [
              0.6666666666666666,
              "#ed7953"
             ],
             [
              0.7777777777777778,
              "#fb9f3a"
             ],
             [
              0.8888888888888888,
              "#fdca26"
             ],
             [
              1,
              "#f0f921"
             ]
            ],
            "type": "contour"
           }
          ],
          "contourcarpet": [
           {
            "colorbar": {
             "outlinewidth": 0,
             "ticks": ""
            },
            "type": "contourcarpet"
           }
          ],
          "heatmap": [
           {
            "colorbar": {
             "outlinewidth": 0,
             "ticks": ""
            },
            "colorscale": [
             [
              0,
              "#0d0887"
             ],
             [
              0.1111111111111111,
              "#46039f"
             ],
             [
              0.2222222222222222,
              "#7201a8"
             ],
             [
              0.3333333333333333,
              "#9c179e"
             ],
             [
              0.4444444444444444,
              "#bd3786"
             ],
             [
              0.5555555555555556,
              "#d8576b"
             ],
             [
              0.6666666666666666,
              "#ed7953"
             ],
             [
              0.7777777777777778,
              "#fb9f3a"
             ],
             [
              0.8888888888888888,
              "#fdca26"
             ],
             [
              1,
              "#f0f921"
             ]
            ],
            "type": "heatmap"
           }
          ],
          "heatmapgl": [
           {
            "colorbar": {
             "outlinewidth": 0,
             "ticks": ""
            },
            "colorscale": [
             [
              0,
              "#0d0887"
             ],
             [
              0.1111111111111111,
              "#46039f"
             ],
             [
              0.2222222222222222,
              "#7201a8"
             ],
             [
              0.3333333333333333,
              "#9c179e"
             ],
             [
              0.4444444444444444,
              "#bd3786"
             ],
             [
              0.5555555555555556,
              "#d8576b"
             ],
             [
              0.6666666666666666,
              "#ed7953"
             ],
             [
              0.7777777777777778,
              "#fb9f3a"
             ],
             [
              0.8888888888888888,
              "#fdca26"
             ],
             [
              1,
              "#f0f921"
             ]
            ],
            "type": "heatmapgl"
           }
          ],
          "histogram": [
           {
            "marker": {
             "colorbar": {
              "outlinewidth": 0,
              "ticks": ""
             }
            },
            "type": "histogram"
           }
          ],
          "histogram2d": [
           {
            "colorbar": {
             "outlinewidth": 0,
             "ticks": ""
            },
            "colorscale": [
             [
              0,
              "#0d0887"
             ],
             [
              0.1111111111111111,
              "#46039f"
             ],
             [
              0.2222222222222222,
              "#7201a8"
             ],
             [
              0.3333333333333333,
              "#9c179e"
             ],
             [
              0.4444444444444444,
              "#bd3786"
             ],
             [
              0.5555555555555556,
              "#d8576b"
             ],
             [
              0.6666666666666666,
              "#ed7953"
             ],
             [
              0.7777777777777778,
              "#fb9f3a"
             ],
             [
              0.8888888888888888,
              "#fdca26"
             ],
             [
              1,
              "#f0f921"
             ]
            ],
            "type": "histogram2d"
           }
          ],
          "histogram2dcontour": [
           {
            "colorbar": {
             "outlinewidth": 0,
             "ticks": ""
            },
            "colorscale": [
             [
              0,
              "#0d0887"
             ],
             [
              0.1111111111111111,
              "#46039f"
             ],
             [
              0.2222222222222222,
              "#7201a8"
             ],
             [
              0.3333333333333333,
              "#9c179e"
             ],
             [
              0.4444444444444444,
              "#bd3786"
             ],
             [
              0.5555555555555556,
              "#d8576b"
             ],
             [
              0.6666666666666666,
              "#ed7953"
             ],
             [
              0.7777777777777778,
              "#fb9f3a"
             ],
             [
              0.8888888888888888,
              "#fdca26"
             ],
             [
              1,
              "#f0f921"
             ]
            ],
            "type": "histogram2dcontour"
           }
          ],
          "mesh3d": [
           {
            "colorbar": {
             "outlinewidth": 0,
             "ticks": ""
            },
            "type": "mesh3d"
           }
          ],
          "parcoords": [
           {
            "line": {
             "colorbar": {
              "outlinewidth": 0,
              "ticks": ""
             }
            },
            "type": "parcoords"
           }
          ],
          "pie": [
           {
            "automargin": true,
            "type": "pie"
           }
          ],
          "scatter": [
           {
            "marker": {
             "colorbar": {
              "outlinewidth": 0,
              "ticks": ""
             }
            },
            "type": "scatter"
           }
          ],
          "scatter3d": [
           {
            "line": {
             "colorbar": {
              "outlinewidth": 0,
              "ticks": ""
             }
            },
            "marker": {
             "colorbar": {
              "outlinewidth": 0,
              "ticks": ""
             }
            },
            "type": "scatter3d"
           }
          ],
          "scattercarpet": [
           {
            "marker": {
             "colorbar": {
              "outlinewidth": 0,
              "ticks": ""
             }
            },
            "type": "scattercarpet"
           }
          ],
          "scattergeo": [
           {
            "marker": {
             "colorbar": {
              "outlinewidth": 0,
              "ticks": ""
             }
            },
            "type": "scattergeo"
           }
          ],
          "scattergl": [
           {
            "marker": {
             "colorbar": {
              "outlinewidth": 0,
              "ticks": ""
             }
            },
            "type": "scattergl"
           }
          ],
          "scattermapbox": [
           {
            "marker": {
             "colorbar": {
              "outlinewidth": 0,
              "ticks": ""
             }
            },
            "type": "scattermapbox"
           }
          ],
          "scatterpolar": [
           {
            "marker": {
             "colorbar": {
              "outlinewidth": 0,
              "ticks": ""
             }
            },
            "type": "scatterpolar"
           }
          ],
          "scatterpolargl": [
           {
            "marker": {
             "colorbar": {
              "outlinewidth": 0,
              "ticks": ""
             }
            },
            "type": "scatterpolargl"
           }
          ],
          "scatterternary": [
           {
            "marker": {
             "colorbar": {
              "outlinewidth": 0,
              "ticks": ""
             }
            },
            "type": "scatterternary"
           }
          ],
          "surface": [
           {
            "colorbar": {
             "outlinewidth": 0,
             "ticks": ""
            },
            "colorscale": [
             [
              0,
              "#0d0887"
             ],
             [
              0.1111111111111111,
              "#46039f"
             ],
             [
              0.2222222222222222,
              "#7201a8"
             ],
             [
              0.3333333333333333,
              "#9c179e"
             ],
             [
              0.4444444444444444,
              "#bd3786"
             ],
             [
              0.5555555555555556,
              "#d8576b"
             ],
             [
              0.6666666666666666,
              "#ed7953"
             ],
             [
              0.7777777777777778,
              "#fb9f3a"
             ],
             [
              0.8888888888888888,
              "#fdca26"
             ],
             [
              1,
              "#f0f921"
             ]
            ],
            "type": "surface"
           }
          ],
          "table": [
           {
            "cells": {
             "fill": {
              "color": "#EBF0F8"
             },
             "line": {
              "color": "white"
             }
            },
            "header": {
             "fill": {
              "color": "#C8D4E3"
             },
             "line": {
              "color": "white"
             }
            },
            "type": "table"
           }
          ]
         },
         "layout": {
          "annotationdefaults": {
           "arrowcolor": "#2a3f5f",
           "arrowhead": 0,
           "arrowwidth": 1
          },
          "autotypenumbers": "strict",
          "coloraxis": {
           "colorbar": {
            "outlinewidth": 0,
            "ticks": ""
           }
          },
          "colorscale": {
           "diverging": [
            [
             0,
             "#8e0152"
            ],
            [
             0.1,
             "#c51b7d"
            ],
            [
             0.2,
             "#de77ae"
            ],
            [
             0.3,
             "#f1b6da"
            ],
            [
             0.4,
             "#fde0ef"
            ],
            [
             0.5,
             "#f7f7f7"
            ],
            [
             0.6,
             "#e6f5d0"
            ],
            [
             0.7,
             "#b8e186"
            ],
            [
             0.8,
             "#7fbc41"
            ],
            [
             0.9,
             "#4d9221"
            ],
            [
             1,
             "#276419"
            ]
           ],
           "sequential": [
            [
             0,
             "#0d0887"
            ],
            [
             0.1111111111111111,
             "#46039f"
            ],
            [
             0.2222222222222222,
             "#7201a8"
            ],
            [
             0.3333333333333333,
             "#9c179e"
            ],
            [
             0.4444444444444444,
             "#bd3786"
            ],
            [
             0.5555555555555556,
             "#d8576b"
            ],
            [
             0.6666666666666666,
             "#ed7953"
            ],
            [
             0.7777777777777778,
             "#fb9f3a"
            ],
            [
             0.8888888888888888,
             "#fdca26"
            ],
            [
             1,
             "#f0f921"
            ]
           ],
           "sequentialminus": [
            [
             0,
             "#0d0887"
            ],
            [
             0.1111111111111111,
             "#46039f"
            ],
            [
             0.2222222222222222,
             "#7201a8"
            ],
            [
             0.3333333333333333,
             "#9c179e"
            ],
            [
             0.4444444444444444,
             "#bd3786"
            ],
            [
             0.5555555555555556,
             "#d8576b"
            ],
            [
             0.6666666666666666,
             "#ed7953"
            ],
            [
             0.7777777777777778,
             "#fb9f3a"
            ],
            [
             0.8888888888888888,
             "#fdca26"
            ],
            [
             1,
             "#f0f921"
            ]
           ]
          },
          "colorway": [
           "#636efa",
           "#EF553B",
           "#00cc96",
           "#ab63fa",
           "#FFA15A",
           "#19d3f3",
           "#FF6692",
           "#B6E880",
           "#FF97FF",
           "#FECB52"
          ],
          "font": {
           "color": "#2a3f5f"
          },
          "geo": {
           "bgcolor": "white",
           "lakecolor": "white",
           "landcolor": "#E5ECF6",
           "showlakes": true,
           "showland": true,
           "subunitcolor": "white"
          },
          "hoverlabel": {
           "align": "left"
          },
          "hovermode": "closest",
          "mapbox": {
           "style": "light"
          },
          "paper_bgcolor": "white",
          "plot_bgcolor": "#E5ECF6",
          "polar": {
           "angularaxis": {
            "gridcolor": "white",
            "linecolor": "white",
            "ticks": ""
           },
           "bgcolor": "#E5ECF6",
           "radialaxis": {
            "gridcolor": "white",
            "linecolor": "white",
            "ticks": ""
           }
          },
          "scene": {
           "xaxis": {
            "backgroundcolor": "#E5ECF6",
            "gridcolor": "white",
            "gridwidth": 2,
            "linecolor": "white",
            "showbackground": true,
            "ticks": "",
            "zerolinecolor": "white"
           },
           "yaxis": {
            "backgroundcolor": "#E5ECF6",
            "gridcolor": "white",
            "gridwidth": 2,
            "linecolor": "white",
            "showbackground": true,
            "ticks": "",
            "zerolinecolor": "white"
           },
           "zaxis": {
            "backgroundcolor": "#E5ECF6",
            "gridcolor": "white",
            "gridwidth": 2,
            "linecolor": "white",
            "showbackground": true,
            "ticks": "",
            "zerolinecolor": "white"
           }
          },
          "shapedefaults": {
           "line": {
            "color": "#2a3f5f"
           }
          },
          "ternary": {
           "aaxis": {
            "gridcolor": "white",
            "linecolor": "white",
            "ticks": ""
           },
           "baxis": {
            "gridcolor": "white",
            "linecolor": "white",
            "ticks": ""
           },
           "bgcolor": "#E5ECF6",
           "caxis": {
            "gridcolor": "white",
            "linecolor": "white",
            "ticks": ""
           }
          },
          "title": {
           "x": 0.05
          },
          "xaxis": {
           "automargin": true,
           "gridcolor": "white",
           "linecolor": "white",
           "ticks": "",
           "title": {
            "standoff": 15
           },
           "zerolinecolor": "white",
           "zerolinewidth": 2
          },
          "yaxis": {
           "automargin": true,
           "gridcolor": "white",
           "linecolor": "white",
           "ticks": "",
           "title": {
            "standoff": 15
           },
           "zerolinecolor": "white",
           "zerolinewidth": 2
          }
         }
        },
        "title": {
         "font": {
          "size": 24
         },
         "text": "Overview of World Happiness Index 2021"
        },
        "xaxis": {
         "anchor": "y",
         "domain": [
          0,
          0.45
         ]
        },
        "xaxis2": {
         "anchor": "y2",
         "domain": [
          0.55,
          1
         ]
        },
        "yaxis": {
         "anchor": "x",
         "domain": [
          0,
          1
         ]
        },
        "yaxis2": {
         "anchor": "x2",
         "domain": [
          0,
          1
         ]
        }
       }
      }
     },
     "metadata": {}
    }
   ],
   "source": [
    "fig = make_subplots(rows=1, cols=2,\n",
    "                   column_width=[0.5,0.5],\n",
    "                   subplot_titles=['Top 6 Countries in Index', 'Bottom 6 Countries in Index'])\n",
    "fig.append_trace(go.Bar(x=t_6['Ladder score'],\n",
    "                       y=t_6['Country'],\n",
    "                       orientation='h',\n",
    "                       marker={'color': green,'line': dict(color=green, width=1)},\n",
    "                       name='',\n",
    "                       text=t_6['Regional indicator']\n",
    "                       ), 1,1\n",
    "                )\n",
    "fig.append_trace(go.Bar(x=b_6['Ladder score'],\n",
    "                       y=b_6['Country'],\n",
    "                        orientation='h',\n",
    "                        marker={'color': red,'line': dict(color=red, width=1)},\n",
    "                        name='',\n",
    "                        text=b_6['Regional indicator']\n",
    "                       ), 1,2\n",
    "                )\n",
    "fig.update_layout(\n",
    "    #template='plotly_dark',\n",
    "    showlegend=False,\n",
    "    title_text='Overview of World Happiness Index 2021',\n",
    "    title_font_size=24)\n",
    "fig.update_annotations(yshift=5) # Shifts Title of subplot little above figure\n",
    "fig.show()"
   ]
  },
  {
   "cell_type": "markdown",
   "id": "6fd00170",
   "metadata": {},
   "source": [
    "## Let's see Region wise Happiness Score"
   ]
  },
  {
   "cell_type": "markdown",
   "id": "3d5a2cba",
   "metadata": {},
   "source": [
    "### Let's see Ladder Score values in a Boxplot & get mean, median"
   ]
  },
  {
   "cell_type": "code",
   "execution_count": 51,
   "id": "a4bcee75",
   "metadata": {
    "scrolled": true
   },
   "outputs": [
    {
     "output_type": "display_data",
     "data": {
      "application/vnd.plotly.v1+json": {
       "config": {
        "plotlyServerURL": "https://plot.ly"
       },
       "data": [
        {
         "alignmentgroup": "True",
         "hovertemplate": "Happiness Score=%{x}<extra></extra>",
         "legendgroup": "",
         "marker": {
          "color": "#636efa"
         },
         "name": "",
         "notched": false,
         "offsetgroup": "",
         "orientation": "h",
         "showlegend": false,
         "type": "box",
         "x": [
          7.842,
          7.62,
          7.571,
          7.554,
          7.464,
          7.392,
          7.363,
          7.324,
          7.277,
          7.268,
          7.183,
          7.157,
          7.155,
          7.103,
          7.085,
          7.069,
          7.064,
          6.965,
          6.951,
          6.834,
          6.69,
          6.647,
          6.602,
          6.584,
          6.561,
          6.494,
          6.491,
          6.483,
          6.461,
          6.435,
          6.431,
          6.377,
          6.372,
          6.331,
          6.33,
          6.317,
          6.309,
          6.255,
          6.223,
          6.189,
          6.18,
          6.179,
          6.172,
          6.166,
          6.152,
          6.14,
          6.106,
          6.078,
          6.061,
          6.049,
          6.032,
          6.012,
          5.992,
          5.985,
          5.972,
          5.94,
          5.929,
          5.929,
          5.919,
          5.882,
          5.88,
          5.845,
          5.84,
          5.813,
          5.766,
          5.764,
          5.744,
          5.723,
          5.716,
          5.677,
          5.653,
          5.581,
          5.545,
          5.536,
          5.534,
          5.477,
          5.477,
          5.466,
          5.411,
          5.41,
          5.384,
          5.345,
          5.342,
          5.339,
          5.306,
          5.283,
          5.269,
          5.266,
          5.198,
          5.171,
          5.142,
          5.132,
          5.117,
          5.101,
          5.088,
          5.074,
          5.066,
          5.051,
          5.045,
          5.03,
          5.025,
          4.984,
          4.956,
          4.948,
          4.934,
          4.918,
          4.892,
          4.891,
          4.887,
          4.875,
          4.854,
          4.852,
          4.834,
          4.83,
          4.794,
          4.759,
          4.723,
          4.721,
          4.636,
          4.625,
          4.607,
          4.596,
          4.584,
          4.574,
          4.517,
          4.426,
          4.395,
          4.355,
          4.325,
          4.308,
          4.289,
          4.283,
          4.275,
          4.227,
          4.208,
          4.107,
          4.073,
          3.849,
          3.819,
          3.775,
          3.658,
          3.623,
          3.615,
          3.6,
          3.512,
          3.467,
          3.415,
          3.145,
          2.523
         ],
         "x0": " ",
         "xaxis": "x",
         "y0": " ",
         "yaxis": "y"
        }
       ],
       "layout": {
        "boxmode": "group",
        "height": 300,
        "legend": {
         "tracegroupgap": 0
        },
        "margin": {
         "t": 60
        },
        "template": {
         "data": {
          "bar": [
           {
            "error_x": {
             "color": "#2a3f5f"
            },
            "error_y": {
             "color": "#2a3f5f"
            },
            "marker": {
             "line": {
              "color": "#E5ECF6",
              "width": 0.5
             }
            },
            "type": "bar"
           }
          ],
          "barpolar": [
           {
            "marker": {
             "line": {
              "color": "#E5ECF6",
              "width": 0.5
             }
            },
            "type": "barpolar"
           }
          ],
          "carpet": [
           {
            "aaxis": {
             "endlinecolor": "#2a3f5f",
             "gridcolor": "white",
             "linecolor": "white",
             "minorgridcolor": "white",
             "startlinecolor": "#2a3f5f"
            },
            "baxis": {
             "endlinecolor": "#2a3f5f",
             "gridcolor": "white",
             "linecolor": "white",
             "minorgridcolor": "white",
             "startlinecolor": "#2a3f5f"
            },
            "type": "carpet"
           }
          ],
          "choropleth": [
           {
            "colorbar": {
             "outlinewidth": 0,
             "ticks": ""
            },
            "type": "choropleth"
           }
          ],
          "contour": [
           {
            "colorbar": {
             "outlinewidth": 0,
             "ticks": ""
            },
            "colorscale": [
             [
              0,
              "#0d0887"
             ],
             [
              0.1111111111111111,
              "#46039f"
             ],
             [
              0.2222222222222222,
              "#7201a8"
             ],
             [
              0.3333333333333333,
              "#9c179e"
             ],
             [
              0.4444444444444444,
              "#bd3786"
             ],
             [
              0.5555555555555556,
              "#d8576b"
             ],
             [
              0.6666666666666666,
              "#ed7953"
             ],
             [
              0.7777777777777778,
              "#fb9f3a"
             ],
             [
              0.8888888888888888,
              "#fdca26"
             ],
             [
              1,
              "#f0f921"
             ]
            ],
            "type": "contour"
           }
          ],
          "contourcarpet": [
           {
            "colorbar": {
             "outlinewidth": 0,
             "ticks": ""
            },
            "type": "contourcarpet"
           }
          ],
          "heatmap": [
           {
            "colorbar": {
             "outlinewidth": 0,
             "ticks": ""
            },
            "colorscale": [
             [
              0,
              "#0d0887"
             ],
             [
              0.1111111111111111,
              "#46039f"
             ],
             [
              0.2222222222222222,
              "#7201a8"
             ],
             [
              0.3333333333333333,
              "#9c179e"
             ],
             [
              0.4444444444444444,
              "#bd3786"
             ],
             [
              0.5555555555555556,
              "#d8576b"
             ],
             [
              0.6666666666666666,
              "#ed7953"
             ],
             [
              0.7777777777777778,
              "#fb9f3a"
             ],
             [
              0.8888888888888888,
              "#fdca26"
             ],
             [
              1,
              "#f0f921"
             ]
            ],
            "type": "heatmap"
           }
          ],
          "heatmapgl": [
           {
            "colorbar": {
             "outlinewidth": 0,
             "ticks": ""
            },
            "colorscale": [
             [
              0,
              "#0d0887"
             ],
             [
              0.1111111111111111,
              "#46039f"
             ],
             [
              0.2222222222222222,
              "#7201a8"
             ],
             [
              0.3333333333333333,
              "#9c179e"
             ],
             [
              0.4444444444444444,
              "#bd3786"
             ],
             [
              0.5555555555555556,
              "#d8576b"
             ],
             [
              0.6666666666666666,
              "#ed7953"
             ],
             [
              0.7777777777777778,
              "#fb9f3a"
             ],
             [
              0.8888888888888888,
              "#fdca26"
             ],
             [
              1,
              "#f0f921"
             ]
            ],
            "type": "heatmapgl"
           }
          ],
          "histogram": [
           {
            "marker": {
             "colorbar": {
              "outlinewidth": 0,
              "ticks": ""
             }
            },
            "type": "histogram"
           }
          ],
          "histogram2d": [
           {
            "colorbar": {
             "outlinewidth": 0,
             "ticks": ""
            },
            "colorscale": [
             [
              0,
              "#0d0887"
             ],
             [
              0.1111111111111111,
              "#46039f"
             ],
             [
              0.2222222222222222,
              "#7201a8"
             ],
             [
              0.3333333333333333,
              "#9c179e"
             ],
             [
              0.4444444444444444,
              "#bd3786"
             ],
             [
              0.5555555555555556,
              "#d8576b"
             ],
             [
              0.6666666666666666,
              "#ed7953"
             ],
             [
              0.7777777777777778,
              "#fb9f3a"
             ],
             [
              0.8888888888888888,
              "#fdca26"
             ],
             [
              1,
              "#f0f921"
             ]
            ],
            "type": "histogram2d"
           }
          ],
          "histogram2dcontour": [
           {
            "colorbar": {
             "outlinewidth": 0,
             "ticks": ""
            },
            "colorscale": [
             [
              0,
              "#0d0887"
             ],
             [
              0.1111111111111111,
              "#46039f"
             ],
             [
              0.2222222222222222,
              "#7201a8"
             ],
             [
              0.3333333333333333,
              "#9c179e"
             ],
             [
              0.4444444444444444,
              "#bd3786"
             ],
             [
              0.5555555555555556,
              "#d8576b"
             ],
             [
              0.6666666666666666,
              "#ed7953"
             ],
             [
              0.7777777777777778,
              "#fb9f3a"
             ],
             [
              0.8888888888888888,
              "#fdca26"
             ],
             [
              1,
              "#f0f921"
             ]
            ],
            "type": "histogram2dcontour"
           }
          ],
          "mesh3d": [
           {
            "colorbar": {
             "outlinewidth": 0,
             "ticks": ""
            },
            "type": "mesh3d"
           }
          ],
          "parcoords": [
           {
            "line": {
             "colorbar": {
              "outlinewidth": 0,
              "ticks": ""
             }
            },
            "type": "parcoords"
           }
          ],
          "pie": [
           {
            "automargin": true,
            "type": "pie"
           }
          ],
          "scatter": [
           {
            "marker": {
             "colorbar": {
              "outlinewidth": 0,
              "ticks": ""
             }
            },
            "type": "scatter"
           }
          ],
          "scatter3d": [
           {
            "line": {
             "colorbar": {
              "outlinewidth": 0,
              "ticks": ""
             }
            },
            "marker": {
             "colorbar": {
              "outlinewidth": 0,
              "ticks": ""
             }
            },
            "type": "scatter3d"
           }
          ],
          "scattercarpet": [
           {
            "marker": {
             "colorbar": {
              "outlinewidth": 0,
              "ticks": ""
             }
            },
            "type": "scattercarpet"
           }
          ],
          "scattergeo": [
           {
            "marker": {
             "colorbar": {
              "outlinewidth": 0,
              "ticks": ""
             }
            },
            "type": "scattergeo"
           }
          ],
          "scattergl": [
           {
            "marker": {
             "colorbar": {
              "outlinewidth": 0,
              "ticks": ""
             }
            },
            "type": "scattergl"
           }
          ],
          "scattermapbox": [
           {
            "marker": {
             "colorbar": {
              "outlinewidth": 0,
              "ticks": ""
             }
            },
            "type": "scattermapbox"
           }
          ],
          "scatterpolar": [
           {
            "marker": {
             "colorbar": {
              "outlinewidth": 0,
              "ticks": ""
             }
            },
            "type": "scatterpolar"
           }
          ],
          "scatterpolargl": [
           {
            "marker": {
             "colorbar": {
              "outlinewidth": 0,
              "ticks": ""
             }
            },
            "type": "scatterpolargl"
           }
          ],
          "scatterternary": [
           {
            "marker": {
             "colorbar": {
              "outlinewidth": 0,
              "ticks": ""
             }
            },
            "type": "scatterternary"
           }
          ],
          "surface": [
           {
            "colorbar": {
             "outlinewidth": 0,
             "ticks": ""
            },
            "colorscale": [
             [
              0,
              "#0d0887"
             ],
             [
              0.1111111111111111,
              "#46039f"
             ],
             [
              0.2222222222222222,
              "#7201a8"
             ],
             [
              0.3333333333333333,
              "#9c179e"
             ],
             [
              0.4444444444444444,
              "#bd3786"
             ],
             [
              0.5555555555555556,
              "#d8576b"
             ],
             [
              0.6666666666666666,
              "#ed7953"
             ],
             [
              0.7777777777777778,
              "#fb9f3a"
             ],
             [
              0.8888888888888888,
              "#fdca26"
             ],
             [
              1,
              "#f0f921"
             ]
            ],
            "type": "surface"
           }
          ],
          "table": [
           {
            "cells": {
             "fill": {
              "color": "#EBF0F8"
             },
             "line": {
              "color": "white"
             }
            },
            "header": {
             "fill": {
              "color": "#C8D4E3"
             },
             "line": {
              "color": "white"
             }
            },
            "type": "table"
           }
          ]
         },
         "layout": {
          "annotationdefaults": {
           "arrowcolor": "#2a3f5f",
           "arrowhead": 0,
           "arrowwidth": 1
          },
          "autotypenumbers": "strict",
          "coloraxis": {
           "colorbar": {
            "outlinewidth": 0,
            "ticks": ""
           }
          },
          "colorscale": {
           "diverging": [
            [
             0,
             "#8e0152"
            ],
            [
             0.1,
             "#c51b7d"
            ],
            [
             0.2,
             "#de77ae"
            ],
            [
             0.3,
             "#f1b6da"
            ],
            [
             0.4,
             "#fde0ef"
            ],
            [
             0.5,
             "#f7f7f7"
            ],
            [
             0.6,
             "#e6f5d0"
            ],
            [
             0.7,
             "#b8e186"
            ],
            [
             0.8,
             "#7fbc41"
            ],
            [
             0.9,
             "#4d9221"
            ],
            [
             1,
             "#276419"
            ]
           ],
           "sequential": [
            [
             0,
             "#0d0887"
            ],
            [
             0.1111111111111111,
             "#46039f"
            ],
            [
             0.2222222222222222,
             "#7201a8"
            ],
            [
             0.3333333333333333,
             "#9c179e"
            ],
            [
             0.4444444444444444,
             "#bd3786"
            ],
            [
             0.5555555555555556,
             "#d8576b"
            ],
            [
             0.6666666666666666,
             "#ed7953"
            ],
            [
             0.7777777777777778,
             "#fb9f3a"
            ],
            [
             0.8888888888888888,
             "#fdca26"
            ],
            [
             1,
             "#f0f921"
            ]
           ],
           "sequentialminus": [
            [
             0,
             "#0d0887"
            ],
            [
             0.1111111111111111,
             "#46039f"
            ],
            [
             0.2222222222222222,
             "#7201a8"
            ],
            [
             0.3333333333333333,
             "#9c179e"
            ],
            [
             0.4444444444444444,
             "#bd3786"
            ],
            [
             0.5555555555555556,
             "#d8576b"
            ],
            [
             0.6666666666666666,
             "#ed7953"
            ],
            [
             0.7777777777777778,
             "#fb9f3a"
            ],
            [
             0.8888888888888888,
             "#fdca26"
            ],
            [
             1,
             "#f0f921"
            ]
           ]
          },
          "colorway": [
           "#636efa",
           "#EF553B",
           "#00cc96",
           "#ab63fa",
           "#FFA15A",
           "#19d3f3",
           "#FF6692",
           "#B6E880",
           "#FF97FF",
           "#FECB52"
          ],
          "font": {
           "color": "#2a3f5f"
          },
          "geo": {
           "bgcolor": "white",
           "lakecolor": "white",
           "landcolor": "#E5ECF6",
           "showlakes": true,
           "showland": true,
           "subunitcolor": "white"
          },
          "hoverlabel": {
           "align": "left"
          },
          "hovermode": "closest",
          "mapbox": {
           "style": "light"
          },
          "paper_bgcolor": "white",
          "plot_bgcolor": "#E5ECF6",
          "polar": {
           "angularaxis": {
            "gridcolor": "white",
            "linecolor": "white",
            "ticks": ""
           },
           "bgcolor": "#E5ECF6",
           "radialaxis": {
            "gridcolor": "white",
            "linecolor": "white",
            "ticks": ""
           }
          },
          "scene": {
           "xaxis": {
            "backgroundcolor": "#E5ECF6",
            "gridcolor": "white",
            "gridwidth": 2,
            "linecolor": "white",
            "showbackground": true,
            "ticks": "",
            "zerolinecolor": "white"
           },
           "yaxis": {
            "backgroundcolor": "#E5ECF6",
            "gridcolor": "white",
            "gridwidth": 2,
            "linecolor": "white",
            "showbackground": true,
            "ticks": "",
            "zerolinecolor": "white"
           },
           "zaxis": {
            "backgroundcolor": "#E5ECF6",
            "gridcolor": "white",
            "gridwidth": 2,
            "linecolor": "white",
            "showbackground": true,
            "ticks": "",
            "zerolinecolor": "white"
           }
          },
          "shapedefaults": {
           "line": {
            "color": "#2a3f5f"
           }
          },
          "ternary": {
           "aaxis": {
            "gridcolor": "white",
            "linecolor": "white",
            "ticks": ""
           },
           "baxis": {
            "gridcolor": "white",
            "linecolor": "white",
            "ticks": ""
           },
           "bgcolor": "#E5ECF6",
           "caxis": {
            "gridcolor": "white",
            "linecolor": "white",
            "ticks": ""
           }
          },
          "title": {
           "x": 0.05
          },
          "xaxis": {
           "automargin": true,
           "gridcolor": "white",
           "linecolor": "white",
           "ticks": "",
           "title": {
            "standoff": 15
           },
           "zerolinecolor": "white",
           "zerolinewidth": 2
          },
          "yaxis": {
           "automargin": true,
           "gridcolor": "white",
           "linecolor": "white",
           "ticks": "",
           "title": {
            "standoff": 15
           },
           "zerolinecolor": "white",
           "zerolinewidth": 2
          }
         }
        },
        "title": {
         "font": {
          "size": 24
         },
         "text": "Box Plot of Ladder Score"
        },
        "width": 800,
        "xaxis": {
         "anchor": "y",
         "domain": [
          0,
          1
         ],
         "title": {
          "text": "Happiness Score"
         }
        },
        "yaxis": {
         "anchor": "x",
         "domain": [
          0,
          1
         ]
        }
       }
      }
     },
     "metadata": {}
    },
    {
     "output_type": "stream",
     "name": "stdout",
     "text": [
      "mean= 5.532838926174497\nmedian= 5.534\n"
     ]
    }
   ],
   "source": [
    "fig = px.box(data_frame=df1,\n",
    "            x='Ladder score',orientation='h',width=800,height=300,\n",
    "            labels={'Ladder score': 'Happiness Score'})\n",
    "fig.update_layout(\n",
    "    #template='plotly_dark',\n",
    "    title_text='Box Plot of Ladder Score',\n",
    "    title_font_size=24)\n",
    "fig.show()\n",
    "mean_lad=df1['Ladder score'].mean()\n",
    "median_lad=df1['Ladder score'].median()\n",
    "print('mean=',mean_lad)\n",
    "print('median=',median_lad)"
   ]
  },
  {
   "cell_type": "markdown",
   "id": "6047ebf4",
   "metadata": {},
   "source": [
    "## Region wise Comparision using mean"
   ]
  },
  {
   "cell_type": "code",
   "execution_count": 52,
   "id": "6192ba77",
   "metadata": {
    "scrolled": true
   },
   "outputs": [],
   "source": [
    "region_score = df1.groupby('Regional indicator')['Life Expectancy',\n",
    "                                                 'GDP per capita','Corruption',\n",
    "                                                 'Freedom','Ladder score'].mean().round(decimals=2).sort_values('Ladder score').reset_index()"
   ]
  },
  {
   "cell_type": "markdown",
   "id": "8f33aba7",
   "metadata": {},
   "source": [
    "### Let's see the Table"
   ]
  },
  {
   "cell_type": "code",
   "execution_count": 53,
   "id": "60016adf",
   "metadata": {
    "scrolled": true
   },
   "outputs": [
    {
     "output_type": "execute_result",
     "data": {
      "text/plain": [
       "                   Regional indicator  Life Expectancy  GDP per capita  \\\n",
       "0                          South Asia            62.68            8.68   \n",
       "1                  Sub-Saharan Africa            55.89            8.08   \n",
       "2        Middle East and North Africa            65.61            9.67   \n",
       "3                      Southeast Asia            64.89            9.42   \n",
       "4  Commonwealth of Independent States            65.01            9.40   \n",
       "5                           East Asia            71.25           10.37   \n",
       "6         Latin America and Caribbean            67.08            9.37   \n",
       "7          Central and Eastern Europe            68.34           10.11   \n",
       "8                      Western Europe            73.03           10.82   \n",
       "9               North America and ANZ            72.32           10.81   \n",
       "\n",
       "   Corruption  Freedom  Ladder score  \n",
       "0        0.80     0.76          4.44  \n",
       "1        0.77     0.72          4.49  \n",
       "2        0.76     0.72          5.22  \n",
       "3        0.71     0.91          5.41  \n",
       "4        0.73     0.82          5.47  \n",
       "5        0.68     0.76          5.81  \n",
       "6        0.79     0.83          5.91  \n",
       "7        0.85     0.80          5.98  \n",
       "8        0.52     0.86          6.91  \n",
       "9        0.45     0.90          7.13  "
      ],
      "text/html": "<div>\n<style scoped>\n    .dataframe tbody tr th:only-of-type {\n        vertical-align: middle;\n    }\n\n    .dataframe tbody tr th {\n        vertical-align: top;\n    }\n\n    .dataframe thead th {\n        text-align: right;\n    }\n</style>\n<table border=\"1\" class=\"dataframe\">\n  <thead>\n    <tr style=\"text-align: right;\">\n      <th></th>\n      <th>Regional indicator</th>\n      <th>Life Expectancy</th>\n      <th>GDP per capita</th>\n      <th>Corruption</th>\n      <th>Freedom</th>\n      <th>Ladder score</th>\n    </tr>\n  </thead>\n  <tbody>\n    <tr>\n      <th>0</th>\n      <td>South Asia</td>\n      <td>62.68</td>\n      <td>8.68</td>\n      <td>0.80</td>\n      <td>0.76</td>\n      <td>4.44</td>\n    </tr>\n    <tr>\n      <th>1</th>\n      <td>Sub-Saharan Africa</td>\n      <td>55.89</td>\n      <td>8.08</td>\n      <td>0.77</td>\n      <td>0.72</td>\n      <td>4.49</td>\n    </tr>\n    <tr>\n      <th>2</th>\n      <td>Middle East and North Africa</td>\n      <td>65.61</td>\n      <td>9.67</td>\n      <td>0.76</td>\n      <td>0.72</td>\n      <td>5.22</td>\n    </tr>\n    <tr>\n      <th>3</th>\n      <td>Southeast Asia</td>\n      <td>64.89</td>\n      <td>9.42</td>\n      <td>0.71</td>\n      <td>0.91</td>\n      <td>5.41</td>\n    </tr>\n    <tr>\n      <th>4</th>\n      <td>Commonwealth of Independent States</td>\n      <td>65.01</td>\n      <td>9.40</td>\n      <td>0.73</td>\n      <td>0.82</td>\n      <td>5.47</td>\n    </tr>\n    <tr>\n      <th>5</th>\n      <td>East Asia</td>\n      <td>71.25</td>\n      <td>10.37</td>\n      <td>0.68</td>\n      <td>0.76</td>\n      <td>5.81</td>\n    </tr>\n    <tr>\n      <th>6</th>\n      <td>Latin America and Caribbean</td>\n      <td>67.08</td>\n      <td>9.37</td>\n      <td>0.79</td>\n      <td>0.83</td>\n      <td>5.91</td>\n    </tr>\n    <tr>\n      <th>7</th>\n      <td>Central and Eastern Europe</td>\n      <td>68.34</td>\n      <td>10.11</td>\n      <td>0.85</td>\n      <td>0.80</td>\n      <td>5.98</td>\n    </tr>\n    <tr>\n      <th>8</th>\n      <td>Western Europe</td>\n      <td>73.03</td>\n      <td>10.82</td>\n      <td>0.52</td>\n      <td>0.86</td>\n      <td>6.91</td>\n    </tr>\n    <tr>\n      <th>9</th>\n      <td>North America and ANZ</td>\n      <td>72.32</td>\n      <td>10.81</td>\n      <td>0.45</td>\n      <td>0.90</td>\n      <td>7.13</td>\n    </tr>\n  </tbody>\n</table>\n</div>"
     },
     "metadata": {},
     "execution_count": 53
    }
   ],
   "source": [
    "region_score"
   ]
  },
  {
   "cell_type": "code",
   "execution_count": 54,
   "id": "8c953bf6",
   "metadata": {},
   "outputs": [
    {
     "output_type": "display_data",
     "data": {
      "application/vnd.plotly.v1+json": {
       "config": {
        "plotlyServerURL": "https://plot.ly"
       },
       "data": [
        {
         "marker": {
          "color": [
           "#dd4124",
           "#dd4124",
           "#dd4124",
           "#dd4124",
           "#dd4124",
           "#009473",
           "#009473",
           "#009473",
           "#009473",
           "#009473"
          ],
          "line": {
           "color": [
            "#dd4124",
            "#dd4124",
            "#dd4124",
            "#dd4124",
            "#dd4124",
            "#009473",
            "#009473",
            "#009473",
            "#009473",
            "#009473"
           ],
           "width": 1
          }
         },
         "orientation": "h",
         "type": "bar",
         "x": [
          4.44,
          4.49,
          5.22,
          5.41,
          5.47,
          5.81,
          5.91,
          5.98,
          6.91,
          7.13
         ],
         "y": [
          "South Asia",
          "Sub-Saharan Africa",
          "Middle East and North Africa",
          "Southeast Asia",
          "Commonwealth of Independent States",
          "East Asia",
          "Latin America and Caribbean",
          "Central and Eastern Europe",
          "Western Europe",
          "North America and ANZ"
         ]
        }
       ],
       "layout": {
        "template": {
         "data": {
          "bar": [
           {
            "error_x": {
             "color": "#2a3f5f"
            },
            "error_y": {
             "color": "#2a3f5f"
            },
            "marker": {
             "line": {
              "color": "#E5ECF6",
              "width": 0.5
             }
            },
            "type": "bar"
           }
          ],
          "barpolar": [
           {
            "marker": {
             "line": {
              "color": "#E5ECF6",
              "width": 0.5
             }
            },
            "type": "barpolar"
           }
          ],
          "carpet": [
           {
            "aaxis": {
             "endlinecolor": "#2a3f5f",
             "gridcolor": "white",
             "linecolor": "white",
             "minorgridcolor": "white",
             "startlinecolor": "#2a3f5f"
            },
            "baxis": {
             "endlinecolor": "#2a3f5f",
             "gridcolor": "white",
             "linecolor": "white",
             "minorgridcolor": "white",
             "startlinecolor": "#2a3f5f"
            },
            "type": "carpet"
           }
          ],
          "choropleth": [
           {
            "colorbar": {
             "outlinewidth": 0,
             "ticks": ""
            },
            "type": "choropleth"
           }
          ],
          "contour": [
           {
            "colorbar": {
             "outlinewidth": 0,
             "ticks": ""
            },
            "colorscale": [
             [
              0,
              "#0d0887"
             ],
             [
              0.1111111111111111,
              "#46039f"
             ],
             [
              0.2222222222222222,
              "#7201a8"
             ],
             [
              0.3333333333333333,
              "#9c179e"
             ],
             [
              0.4444444444444444,
              "#bd3786"
             ],
             [
              0.5555555555555556,
              "#d8576b"
             ],
             [
              0.6666666666666666,
              "#ed7953"
             ],
             [
              0.7777777777777778,
              "#fb9f3a"
             ],
             [
              0.8888888888888888,
              "#fdca26"
             ],
             [
              1,
              "#f0f921"
             ]
            ],
            "type": "contour"
           }
          ],
          "contourcarpet": [
           {
            "colorbar": {
             "outlinewidth": 0,
             "ticks": ""
            },
            "type": "contourcarpet"
           }
          ],
          "heatmap": [
           {
            "colorbar": {
             "outlinewidth": 0,
             "ticks": ""
            },
            "colorscale": [
             [
              0,
              "#0d0887"
             ],
             [
              0.1111111111111111,
              "#46039f"
             ],
             [
              0.2222222222222222,
              "#7201a8"
             ],
             [
              0.3333333333333333,
              "#9c179e"
             ],
             [
              0.4444444444444444,
              "#bd3786"
             ],
             [
              0.5555555555555556,
              "#d8576b"
             ],
             [
              0.6666666666666666,
              "#ed7953"
             ],
             [
              0.7777777777777778,
              "#fb9f3a"
             ],
             [
              0.8888888888888888,
              "#fdca26"
             ],
             [
              1,
              "#f0f921"
             ]
            ],
            "type": "heatmap"
           }
          ],
          "heatmapgl": [
           {
            "colorbar": {
             "outlinewidth": 0,
             "ticks": ""
            },
            "colorscale": [
             [
              0,
              "#0d0887"
             ],
             [
              0.1111111111111111,
              "#46039f"
             ],
             [
              0.2222222222222222,
              "#7201a8"
             ],
             [
              0.3333333333333333,
              "#9c179e"
             ],
             [
              0.4444444444444444,
              "#bd3786"
             ],
             [
              0.5555555555555556,
              "#d8576b"
             ],
             [
              0.6666666666666666,
              "#ed7953"
             ],
             [
              0.7777777777777778,
              "#fb9f3a"
             ],
             [
              0.8888888888888888,
              "#fdca26"
             ],
             [
              1,
              "#f0f921"
             ]
            ],
            "type": "heatmapgl"
           }
          ],
          "histogram": [
           {
            "marker": {
             "colorbar": {
              "outlinewidth": 0,
              "ticks": ""
             }
            },
            "type": "histogram"
           }
          ],
          "histogram2d": [
           {
            "colorbar": {
             "outlinewidth": 0,
             "ticks": ""
            },
            "colorscale": [
             [
              0,
              "#0d0887"
             ],
             [
              0.1111111111111111,
              "#46039f"
             ],
             [
              0.2222222222222222,
              "#7201a8"
             ],
             [
              0.3333333333333333,
              "#9c179e"
             ],
             [
              0.4444444444444444,
              "#bd3786"
             ],
             [
              0.5555555555555556,
              "#d8576b"
             ],
             [
              0.6666666666666666,
              "#ed7953"
             ],
             [
              0.7777777777777778,
              "#fb9f3a"
             ],
             [
              0.8888888888888888,
              "#fdca26"
             ],
             [
              1,
              "#f0f921"
             ]
            ],
            "type": "histogram2d"
           }
          ],
          "histogram2dcontour": [
           {
            "colorbar": {
             "outlinewidth": 0,
             "ticks": ""
            },
            "colorscale": [
             [
              0,
              "#0d0887"
             ],
             [
              0.1111111111111111,
              "#46039f"
             ],
             [
              0.2222222222222222,
              "#7201a8"
             ],
             [
              0.3333333333333333,
              "#9c179e"
             ],
             [
              0.4444444444444444,
              "#bd3786"
             ],
             [
              0.5555555555555556,
              "#d8576b"
             ],
             [
              0.6666666666666666,
              "#ed7953"
             ],
             [
              0.7777777777777778,
              "#fb9f3a"
             ],
             [
              0.8888888888888888,
              "#fdca26"
             ],
             [
              1,
              "#f0f921"
             ]
            ],
            "type": "histogram2dcontour"
           }
          ],
          "mesh3d": [
           {
            "colorbar": {
             "outlinewidth": 0,
             "ticks": ""
            },
            "type": "mesh3d"
           }
          ],
          "parcoords": [
           {
            "line": {
             "colorbar": {
              "outlinewidth": 0,
              "ticks": ""
             }
            },
            "type": "parcoords"
           }
          ],
          "pie": [
           {
            "automargin": true,
            "type": "pie"
           }
          ],
          "scatter": [
           {
            "marker": {
             "colorbar": {
              "outlinewidth": 0,
              "ticks": ""
             }
            },
            "type": "scatter"
           }
          ],
          "scatter3d": [
           {
            "line": {
             "colorbar": {
              "outlinewidth": 0,
              "ticks": ""
             }
            },
            "marker": {
             "colorbar": {
              "outlinewidth": 0,
              "ticks": ""
             }
            },
            "type": "scatter3d"
           }
          ],
          "scattercarpet": [
           {
            "marker": {
             "colorbar": {
              "outlinewidth": 0,
              "ticks": ""
             }
            },
            "type": "scattercarpet"
           }
          ],
          "scattergeo": [
           {
            "marker": {
             "colorbar": {
              "outlinewidth": 0,
              "ticks": ""
             }
            },
            "type": "scattergeo"
           }
          ],
          "scattergl": [
           {
            "marker": {
             "colorbar": {
              "outlinewidth": 0,
              "ticks": ""
             }
            },
            "type": "scattergl"
           }
          ],
          "scattermapbox": [
           {
            "marker": {
             "colorbar": {
              "outlinewidth": 0,
              "ticks": ""
             }
            },
            "type": "scattermapbox"
           }
          ],
          "scatterpolar": [
           {
            "marker": {
             "colorbar": {
              "outlinewidth": 0,
              "ticks": ""
             }
            },
            "type": "scatterpolar"
           }
          ],
          "scatterpolargl": [
           {
            "marker": {
             "colorbar": {
              "outlinewidth": 0,
              "ticks": ""
             }
            },
            "type": "scatterpolargl"
           }
          ],
          "scatterternary": [
           {
            "marker": {
             "colorbar": {
              "outlinewidth": 0,
              "ticks": ""
             }
            },
            "type": "scatterternary"
           }
          ],
          "surface": [
           {
            "colorbar": {
             "outlinewidth": 0,
             "ticks": ""
            },
            "colorscale": [
             [
              0,
              "#0d0887"
             ],
             [
              0.1111111111111111,
              "#46039f"
             ],
             [
              0.2222222222222222,
              "#7201a8"
             ],
             [
              0.3333333333333333,
              "#9c179e"
             ],
             [
              0.4444444444444444,
              "#bd3786"
             ],
             [
              0.5555555555555556,
              "#d8576b"
             ],
             [
              0.6666666666666666,
              "#ed7953"
             ],
             [
              0.7777777777777778,
              "#fb9f3a"
             ],
             [
              0.8888888888888888,
              "#fdca26"
             ],
             [
              1,
              "#f0f921"
             ]
            ],
            "type": "surface"
           }
          ],
          "table": [
           {
            "cells": {
             "fill": {
              "color": "#EBF0F8"
             },
             "line": {
              "color": "white"
             }
            },
            "header": {
             "fill": {
              "color": "#C8D4E3"
             },
             "line": {
              "color": "white"
             }
            },
            "type": "table"
           }
          ]
         },
         "layout": {
          "annotationdefaults": {
           "arrowcolor": "#2a3f5f",
           "arrowhead": 0,
           "arrowwidth": 1
          },
          "autotypenumbers": "strict",
          "coloraxis": {
           "colorbar": {
            "outlinewidth": 0,
            "ticks": ""
           }
          },
          "colorscale": {
           "diverging": [
            [
             0,
             "#8e0152"
            ],
            [
             0.1,
             "#c51b7d"
            ],
            [
             0.2,
             "#de77ae"
            ],
            [
             0.3,
             "#f1b6da"
            ],
            [
             0.4,
             "#fde0ef"
            ],
            [
             0.5,
             "#f7f7f7"
            ],
            [
             0.6,
             "#e6f5d0"
            ],
            [
             0.7,
             "#b8e186"
            ],
            [
             0.8,
             "#7fbc41"
            ],
            [
             0.9,
             "#4d9221"
            ],
            [
             1,
             "#276419"
            ]
           ],
           "sequential": [
            [
             0,
             "#0d0887"
            ],
            [
             0.1111111111111111,
             "#46039f"
            ],
            [
             0.2222222222222222,
             "#7201a8"
            ],
            [
             0.3333333333333333,
             "#9c179e"
            ],
            [
             0.4444444444444444,
             "#bd3786"
            ],
            [
             0.5555555555555556,
             "#d8576b"
            ],
            [
             0.6666666666666666,
             "#ed7953"
            ],
            [
             0.7777777777777778,
             "#fb9f3a"
            ],
            [
             0.8888888888888888,
             "#fdca26"
            ],
            [
             1,
             "#f0f921"
            ]
           ],
           "sequentialminus": [
            [
             0,
             "#0d0887"
            ],
            [
             0.1111111111111111,
             "#46039f"
            ],
            [
             0.2222222222222222,
             "#7201a8"
            ],
            [
             0.3333333333333333,
             "#9c179e"
            ],
            [
             0.4444444444444444,
             "#bd3786"
            ],
            [
             0.5555555555555556,
             "#d8576b"
            ],
            [
             0.6666666666666666,
             "#ed7953"
            ],
            [
             0.7777777777777778,
             "#fb9f3a"
            ],
            [
             0.8888888888888888,
             "#fdca26"
            ],
            [
             1,
             "#f0f921"
            ]
           ]
          },
          "colorway": [
           "#636efa",
           "#EF553B",
           "#00cc96",
           "#ab63fa",
           "#FFA15A",
           "#19d3f3",
           "#FF6692",
           "#B6E880",
           "#FF97FF",
           "#FECB52"
          ],
          "font": {
           "color": "#2a3f5f"
          },
          "geo": {
           "bgcolor": "white",
           "lakecolor": "white",
           "landcolor": "#E5ECF6",
           "showlakes": true,
           "showland": true,
           "subunitcolor": "white"
          },
          "hoverlabel": {
           "align": "left"
          },
          "hovermode": "closest",
          "mapbox": {
           "style": "light"
          },
          "paper_bgcolor": "white",
          "plot_bgcolor": "#E5ECF6",
          "polar": {
           "angularaxis": {
            "gridcolor": "white",
            "linecolor": "white",
            "ticks": ""
           },
           "bgcolor": "#E5ECF6",
           "radialaxis": {
            "gridcolor": "white",
            "linecolor": "white",
            "ticks": ""
           }
          },
          "scene": {
           "xaxis": {
            "backgroundcolor": "#E5ECF6",
            "gridcolor": "white",
            "gridwidth": 2,
            "linecolor": "white",
            "showbackground": true,
            "ticks": "",
            "zerolinecolor": "white"
           },
           "yaxis": {
            "backgroundcolor": "#E5ECF6",
            "gridcolor": "white",
            "gridwidth": 2,
            "linecolor": "white",
            "showbackground": true,
            "ticks": "",
            "zerolinecolor": "white"
           },
           "zaxis": {
            "backgroundcolor": "#E5ECF6",
            "gridcolor": "white",
            "gridwidth": 2,
            "linecolor": "white",
            "showbackground": true,
            "ticks": "",
            "zerolinecolor": "white"
           }
          },
          "shapedefaults": {
           "line": {
            "color": "#2a3f5f"
           }
          },
          "ternary": {
           "aaxis": {
            "gridcolor": "white",
            "linecolor": "white",
            "ticks": ""
           },
           "baxis": {
            "gridcolor": "white",
            "linecolor": "white",
            "ticks": ""
           },
           "bgcolor": "#E5ECF6",
           "caxis": {
            "gridcolor": "white",
            "linecolor": "white",
            "ticks": ""
           }
          },
          "title": {
           "x": 0.05
          },
          "xaxis": {
           "automargin": true,
           "gridcolor": "white",
           "linecolor": "white",
           "ticks": "",
           "title": {
            "standoff": 15
           },
           "zerolinecolor": "white",
           "zerolinewidth": 2
          },
          "yaxis": {
           "automargin": true,
           "gridcolor": "white",
           "linecolor": "white",
           "ticks": "",
           "title": {
            "standoff": 15
           },
           "zerolinecolor": "white",
           "zerolinewidth": 2
          }
         }
        },
        "title": {
         "font": {
          "size": 22
         },
         "text": "Mean Ladder score In different Region"
        }
       }
      }
     },
     "metadata": {}
    }
   ],
   "source": [
    "color_dict = []\n",
    "for i in region_score['Ladder score']:\n",
    "    if i>df1['Ladder score'].mean():\n",
    "        color_dict.append(green)\n",
    "    else:\n",
    "        color_dict.append(red)\n",
    "fig = go.Figure()\n",
    "fig.add_trace(go.Bar(x=region_score['Ladder score'],\n",
    "                     y=region_score['Regional indicator'],\n",
    "                     orientation='h',\n",
    "                     marker=dict(\n",
    "                     color=color_dict,\n",
    "                     line=dict(color=color_dict, width=1)\n",
    "                )))\n",
    "fig.update_layout(title_text='Mean Ladder score In different Region',\n",
    "                  title_font_size=22)\n",
    "fig.show()"
   ]
  },
  {
   "cell_type": "code",
   "execution_count": 55,
   "id": "d4b85c0a",
   "metadata": {
    "scrolled": false
   },
   "outputs": [
    {
     "output_type": "display_data",
     "data": {
      "application/vnd.plotly.v1+json": {
       "config": {
        "plotlyServerURL": "https://plot.ly"
       },
       "data": [
        {
         "customdata": [
          [
           "South Asia"
          ]
         ],
         "hovertemplate": "<b>%{hovertext}</b><br><br>Life Expectancy=%{x}<br>Happiness Score=%{y}<br>GDP per capita=%{marker.size}<extra></extra>",
         "hovertext": [
          "South Asia"
         ],
         "legendgroup": "South Asia",
         "marker": {
          "color": "#636efa",
          "opacity": 0.7,
          "size": [
           8.68
          ],
          "sizemode": "diameter",
          "sizeref": 0.22081632653061226,
          "symbol": "circle"
         },
         "mode": "markers",
         "name": "South Asia",
         "orientation": "v",
         "showlegend": true,
         "type": "scatter",
         "x": [
          62.68
         ],
         "xaxis": "x",
         "y": [
          4.44
         ],
         "yaxis": "y"
        },
        {
         "customdata": [
          [
           "Sub-Saharan Africa"
          ]
         ],
         "hovertemplate": "<b>%{hovertext}</b><br><br>Life Expectancy=%{x}<br>Happiness Score=%{y}<br>GDP per capita=%{marker.size}<extra></extra>",
         "hovertext": [
          "Sub-Saharan Africa"
         ],
         "legendgroup": "Sub-Saharan Africa",
         "marker": {
          "color": "#EF553B",
          "opacity": 0.7,
          "size": [
           8.08
          ],
          "sizemode": "diameter",
          "sizeref": 0.22081632653061226,
          "symbol": "circle"
         },
         "mode": "markers",
         "name": "Sub-Saharan Africa",
         "orientation": "v",
         "showlegend": true,
         "type": "scatter",
         "x": [
          55.89
         ],
         "xaxis": "x",
         "y": [
          4.49
         ],
         "yaxis": "y"
        },
        {
         "customdata": [
          [
           "Middle East and North Africa"
          ]
         ],
         "hovertemplate": "<b>%{hovertext}</b><br><br>Life Expectancy=%{x}<br>Happiness Score=%{y}<br>GDP per capita=%{marker.size}<extra></extra>",
         "hovertext": [
          "Middle East and North Africa"
         ],
         "legendgroup": "Middle East and North Africa",
         "marker": {
          "color": "#00cc96",
          "opacity": 0.7,
          "size": [
           9.67
          ],
          "sizemode": "diameter",
          "sizeref": 0.22081632653061226,
          "symbol": "circle"
         },
         "mode": "markers",
         "name": "Middle East and North Africa",
         "orientation": "v",
         "showlegend": true,
         "type": "scatter",
         "x": [
          65.61
         ],
         "xaxis": "x",
         "y": [
          5.22
         ],
         "yaxis": "y"
        },
        {
         "customdata": [
          [
           "Southeast Asia"
          ]
         ],
         "hovertemplate": "<b>%{hovertext}</b><br><br>Life Expectancy=%{x}<br>Happiness Score=%{y}<br>GDP per capita=%{marker.size}<extra></extra>",
         "hovertext": [
          "Southeast Asia"
         ],
         "legendgroup": "Southeast Asia",
         "marker": {
          "color": "#ab63fa",
          "opacity": 0.7,
          "size": [
           9.42
          ],
          "sizemode": "diameter",
          "sizeref": 0.22081632653061226,
          "symbol": "circle"
         },
         "mode": "markers",
         "name": "Southeast Asia",
         "orientation": "v",
         "showlegend": true,
         "type": "scatter",
         "x": [
          64.89
         ],
         "xaxis": "x",
         "y": [
          5.41
         ],
         "yaxis": "y"
        },
        {
         "customdata": [
          [
           "Commonwealth of Independent States"
          ]
         ],
         "hovertemplate": "<b>%{hovertext}</b><br><br>Life Expectancy=%{x}<br>Happiness Score=%{y}<br>GDP per capita=%{marker.size}<extra></extra>",
         "hovertext": [
          "Commonwealth of Independent States"
         ],
         "legendgroup": "Commonwealth of Independent States",
         "marker": {
          "color": "#FFA15A",
          "opacity": 0.7,
          "size": [
           9.4
          ],
          "sizemode": "diameter",
          "sizeref": 0.22081632653061226,
          "symbol": "circle"
         },
         "mode": "markers",
         "name": "Commonwealth of Independent States",
         "orientation": "v",
         "showlegend": true,
         "type": "scatter",
         "x": [
          65.01
         ],
         "xaxis": "x",
         "y": [
          5.47
         ],
         "yaxis": "y"
        },
        {
         "customdata": [
          [
           "East Asia"
          ]
         ],
         "hovertemplate": "<b>%{hovertext}</b><br><br>Life Expectancy=%{x}<br>Happiness Score=%{y}<br>GDP per capita=%{marker.size}<extra></extra>",
         "hovertext": [
          "East Asia"
         ],
         "legendgroup": "East Asia",
         "marker": {
          "color": "#19d3f3",
          "opacity": 0.7,
          "size": [
           10.37
          ],
          "sizemode": "diameter",
          "sizeref": 0.22081632653061226,
          "symbol": "circle"
         },
         "mode": "markers",
         "name": "East Asia",
         "orientation": "v",
         "showlegend": true,
         "type": "scatter",
         "x": [
          71.25
         ],
         "xaxis": "x",
         "y": [
          5.81
         ],
         "yaxis": "y"
        },
        {
         "customdata": [
          [
           "Latin America and Caribbean"
          ]
         ],
         "hovertemplate": "<b>%{hovertext}</b><br><br>Life Expectancy=%{x}<br>Happiness Score=%{y}<br>GDP per capita=%{marker.size}<extra></extra>",
         "hovertext": [
          "Latin America and Caribbean"
         ],
         "legendgroup": "Latin America and Caribbean",
         "marker": {
          "color": "#FF6692",
          "opacity": 0.7,
          "size": [
           9.37
          ],
          "sizemode": "diameter",
          "sizeref": 0.22081632653061226,
          "symbol": "circle"
         },
         "mode": "markers",
         "name": "Latin America and Caribbean",
         "orientation": "v",
         "showlegend": true,
         "type": "scatter",
         "x": [
          67.08
         ],
         "xaxis": "x",
         "y": [
          5.91
         ],
         "yaxis": "y"
        },
        {
         "customdata": [
          [
           "Central and Eastern Europe"
          ]
         ],
         "hovertemplate": "<b>%{hovertext}</b><br><br>Life Expectancy=%{x}<br>Happiness Score=%{y}<br>GDP per capita=%{marker.size}<extra></extra>",
         "hovertext": [
          "Central and Eastern Europe"
         ],
         "legendgroup": "Central and Eastern Europe",
         "marker": {
          "color": "#B6E880",
          "opacity": 0.7,
          "size": [
           10.11
          ],
          "sizemode": "diameter",
          "sizeref": 0.22081632653061226,
          "symbol": "circle"
         },
         "mode": "markers",
         "name": "Central and Eastern Europe",
         "orientation": "v",
         "showlegend": true,
         "type": "scatter",
         "x": [
          68.34
         ],
         "xaxis": "x",
         "y": [
          5.98
         ],
         "yaxis": "y"
        },
        {
         "customdata": [
          [
           "Western Europe"
          ]
         ],
         "hovertemplate": "<b>%{hovertext}</b><br><br>Life Expectancy=%{x}<br>Happiness Score=%{y}<br>GDP per capita=%{marker.size}<extra></extra>",
         "hovertext": [
          "Western Europe"
         ],
         "legendgroup": "Western Europe",
         "marker": {
          "color": "#FF97FF",
          "opacity": 0.7,
          "size": [
           10.82
          ],
          "sizemode": "diameter",
          "sizeref": 0.22081632653061226,
          "symbol": "circle"
         },
         "mode": "markers",
         "name": "Western Europe",
         "orientation": "v",
         "showlegend": true,
         "type": "scatter",
         "x": [
          73.03
         ],
         "xaxis": "x",
         "y": [
          6.91
         ],
         "yaxis": "y"
        },
        {
         "customdata": [
          [
           "North America and ANZ"
          ]
         ],
         "hovertemplate": "<b>%{hovertext}</b><br><br>Life Expectancy=%{x}<br>Happiness Score=%{y}<br>GDP per capita=%{marker.size}<extra></extra>",
         "hovertext": [
          "North America and ANZ"
         ],
         "legendgroup": "North America and ANZ",
         "marker": {
          "color": "#FECB52",
          "opacity": 0.7,
          "size": [
           10.81
          ],
          "sizemode": "diameter",
          "sizeref": 0.22081632653061226,
          "symbol": "circle"
         },
         "mode": "markers",
         "name": "North America and ANZ",
         "orientation": "v",
         "showlegend": true,
         "type": "scatter",
         "x": [
          72.32
         ],
         "xaxis": "x",
         "y": [
          7.13
         ],
         "yaxis": "y"
        }
       ],
       "layout": {
        "legend": {
         "itemsizing": "constant",
         "title": {
          "text": "Regional indicator"
         },
         "tracegroupgap": 0
        },
        "template": {
         "data": {
          "bar": [
           {
            "error_x": {
             "color": "#2a3f5f"
            },
            "error_y": {
             "color": "#2a3f5f"
            },
            "marker": {
             "line": {
              "color": "#E5ECF6",
              "width": 0.5
             }
            },
            "type": "bar"
           }
          ],
          "barpolar": [
           {
            "marker": {
             "line": {
              "color": "#E5ECF6",
              "width": 0.5
             }
            },
            "type": "barpolar"
           }
          ],
          "carpet": [
           {
            "aaxis": {
             "endlinecolor": "#2a3f5f",
             "gridcolor": "white",
             "linecolor": "white",
             "minorgridcolor": "white",
             "startlinecolor": "#2a3f5f"
            },
            "baxis": {
             "endlinecolor": "#2a3f5f",
             "gridcolor": "white",
             "linecolor": "white",
             "minorgridcolor": "white",
             "startlinecolor": "#2a3f5f"
            },
            "type": "carpet"
           }
          ],
          "choropleth": [
           {
            "colorbar": {
             "outlinewidth": 0,
             "ticks": ""
            },
            "type": "choropleth"
           }
          ],
          "contour": [
           {
            "colorbar": {
             "outlinewidth": 0,
             "ticks": ""
            },
            "colorscale": [
             [
              0,
              "#0d0887"
             ],
             [
              0.1111111111111111,
              "#46039f"
             ],
             [
              0.2222222222222222,
              "#7201a8"
             ],
             [
              0.3333333333333333,
              "#9c179e"
             ],
             [
              0.4444444444444444,
              "#bd3786"
             ],
             [
              0.5555555555555556,
              "#d8576b"
             ],
             [
              0.6666666666666666,
              "#ed7953"
             ],
             [
              0.7777777777777778,
              "#fb9f3a"
             ],
             [
              0.8888888888888888,
              "#fdca26"
             ],
             [
              1,
              "#f0f921"
             ]
            ],
            "type": "contour"
           }
          ],
          "contourcarpet": [
           {
            "colorbar": {
             "outlinewidth": 0,
             "ticks": ""
            },
            "type": "contourcarpet"
           }
          ],
          "heatmap": [
           {
            "colorbar": {
             "outlinewidth": 0,
             "ticks": ""
            },
            "colorscale": [
             [
              0,
              "#0d0887"
             ],
             [
              0.1111111111111111,
              "#46039f"
             ],
             [
              0.2222222222222222,
              "#7201a8"
             ],
             [
              0.3333333333333333,
              "#9c179e"
             ],
             [
              0.4444444444444444,
              "#bd3786"
             ],
             [
              0.5555555555555556,
              "#d8576b"
             ],
             [
              0.6666666666666666,
              "#ed7953"
             ],
             [
              0.7777777777777778,
              "#fb9f3a"
             ],
             [
              0.8888888888888888,
              "#fdca26"
             ],
             [
              1,
              "#f0f921"
             ]
            ],
            "type": "heatmap"
           }
          ],
          "heatmapgl": [
           {
            "colorbar": {
             "outlinewidth": 0,
             "ticks": ""
            },
            "colorscale": [
             [
              0,
              "#0d0887"
             ],
             [
              0.1111111111111111,
              "#46039f"
             ],
             [
              0.2222222222222222,
              "#7201a8"
             ],
             [
              0.3333333333333333,
              "#9c179e"
             ],
             [
              0.4444444444444444,
              "#bd3786"
             ],
             [
              0.5555555555555556,
              "#d8576b"
             ],
             [
              0.6666666666666666,
              "#ed7953"
             ],
             [
              0.7777777777777778,
              "#fb9f3a"
             ],
             [
              0.8888888888888888,
              "#fdca26"
             ],
             [
              1,
              "#f0f921"
             ]
            ],
            "type": "heatmapgl"
           }
          ],
          "histogram": [
           {
            "marker": {
             "colorbar": {
              "outlinewidth": 0,
              "ticks": ""
             }
            },
            "type": "histogram"
           }
          ],
          "histogram2d": [
           {
            "colorbar": {
             "outlinewidth": 0,
             "ticks": ""
            },
            "colorscale": [
             [
              0,
              "#0d0887"
             ],
             [
              0.1111111111111111,
              "#46039f"
             ],
             [
              0.2222222222222222,
              "#7201a8"
             ],
             [
              0.3333333333333333,
              "#9c179e"
             ],
             [
              0.4444444444444444,
              "#bd3786"
             ],
             [
              0.5555555555555556,
              "#d8576b"
             ],
             [
              0.6666666666666666,
              "#ed7953"
             ],
             [
              0.7777777777777778,
              "#fb9f3a"
             ],
             [
              0.8888888888888888,
              "#fdca26"
             ],
             [
              1,
              "#f0f921"
             ]
            ],
            "type": "histogram2d"
           }
          ],
          "histogram2dcontour": [
           {
            "colorbar": {
             "outlinewidth": 0,
             "ticks": ""
            },
            "colorscale": [
             [
              0,
              "#0d0887"
             ],
             [
              0.1111111111111111,
              "#46039f"
             ],
             [
              0.2222222222222222,
              "#7201a8"
             ],
             [
              0.3333333333333333,
              "#9c179e"
             ],
             [
              0.4444444444444444,
              "#bd3786"
             ],
             [
              0.5555555555555556,
              "#d8576b"
             ],
             [
              0.6666666666666666,
              "#ed7953"
             ],
             [
              0.7777777777777778,
              "#fb9f3a"
             ],
             [
              0.8888888888888888,
              "#fdca26"
             ],
             [
              1,
              "#f0f921"
             ]
            ],
            "type": "histogram2dcontour"
           }
          ],
          "mesh3d": [
           {
            "colorbar": {
             "outlinewidth": 0,
             "ticks": ""
            },
            "type": "mesh3d"
           }
          ],
          "parcoords": [
           {
            "line": {
             "colorbar": {
              "outlinewidth": 0,
              "ticks": ""
             }
            },
            "type": "parcoords"
           }
          ],
          "pie": [
           {
            "automargin": true,
            "type": "pie"
           }
          ],
          "scatter": [
           {
            "marker": {
             "colorbar": {
              "outlinewidth": 0,
              "ticks": ""
             }
            },
            "type": "scatter"
           }
          ],
          "scatter3d": [
           {
            "line": {
             "colorbar": {
              "outlinewidth": 0,
              "ticks": ""
             }
            },
            "marker": {
             "colorbar": {
              "outlinewidth": 0,
              "ticks": ""
             }
            },
            "type": "scatter3d"
           }
          ],
          "scattercarpet": [
           {
            "marker": {
             "colorbar": {
              "outlinewidth": 0,
              "ticks": ""
             }
            },
            "type": "scattercarpet"
           }
          ],
          "scattergeo": [
           {
            "marker": {
             "colorbar": {
              "outlinewidth": 0,
              "ticks": ""
             }
            },
            "type": "scattergeo"
           }
          ],
          "scattergl": [
           {
            "marker": {
             "colorbar": {
              "outlinewidth": 0,
              "ticks": ""
             }
            },
            "type": "scattergl"
           }
          ],
          "scattermapbox": [
           {
            "marker": {
             "colorbar": {
              "outlinewidth": 0,
              "ticks": ""
             }
            },
            "type": "scattermapbox"
           }
          ],
          "scatterpolar": [
           {
            "marker": {
             "colorbar": {
              "outlinewidth": 0,
              "ticks": ""
             }
            },
            "type": "scatterpolar"
           }
          ],
          "scatterpolargl": [
           {
            "marker": {
             "colorbar": {
              "outlinewidth": 0,
              "ticks": ""
             }
            },
            "type": "scatterpolargl"
           }
          ],
          "scatterternary": [
           {
            "marker": {
             "colorbar": {
              "outlinewidth": 0,
              "ticks": ""
             }
            },
            "type": "scatterternary"
           }
          ],
          "surface": [
           {
            "colorbar": {
             "outlinewidth": 0,
             "ticks": ""
            },
            "colorscale": [
             [
              0,
              "#0d0887"
             ],
             [
              0.1111111111111111,
              "#46039f"
             ],
             [
              0.2222222222222222,
              "#7201a8"
             ],
             [
              0.3333333333333333,
              "#9c179e"
             ],
             [
              0.4444444444444444,
              "#bd3786"
             ],
             [
              0.5555555555555556,
              "#d8576b"
             ],
             [
              0.6666666666666666,
              "#ed7953"
             ],
             [
              0.7777777777777778,
              "#fb9f3a"
             ],
             [
              0.8888888888888888,
              "#fdca26"
             ],
             [
              1,
              "#f0f921"
             ]
            ],
            "type": "surface"
           }
          ],
          "table": [
           {
            "cells": {
             "fill": {
              "color": "#EBF0F8"
             },
             "line": {
              "color": "white"
             }
            },
            "header": {
             "fill": {
              "color": "#C8D4E3"
             },
             "line": {
              "color": "white"
             }
            },
            "type": "table"
           }
          ]
         },
         "layout": {
          "annotationdefaults": {
           "arrowcolor": "#2a3f5f",
           "arrowhead": 0,
           "arrowwidth": 1
          },
          "autotypenumbers": "strict",
          "coloraxis": {
           "colorbar": {
            "outlinewidth": 0,
            "ticks": ""
           }
          },
          "colorscale": {
           "diverging": [
            [
             0,
             "#8e0152"
            ],
            [
             0.1,
             "#c51b7d"
            ],
            [
             0.2,
             "#de77ae"
            ],
            [
             0.3,
             "#f1b6da"
            ],
            [
             0.4,
             "#fde0ef"
            ],
            [
             0.5,
             "#f7f7f7"
            ],
            [
             0.6,
             "#e6f5d0"
            ],
            [
             0.7,
             "#b8e186"
            ],
            [
             0.8,
             "#7fbc41"
            ],
            [
             0.9,
             "#4d9221"
            ],
            [
             1,
             "#276419"
            ]
           ],
           "sequential": [
            [
             0,
             "#0d0887"
            ],
            [
             0.1111111111111111,
             "#46039f"
            ],
            [
             0.2222222222222222,
             "#7201a8"
            ],
            [
             0.3333333333333333,
             "#9c179e"
            ],
            [
             0.4444444444444444,
             "#bd3786"
            ],
            [
             0.5555555555555556,
             "#d8576b"
            ],
            [
             0.6666666666666666,
             "#ed7953"
            ],
            [
             0.7777777777777778,
             "#fb9f3a"
            ],
            [
             0.8888888888888888,
             "#fdca26"
            ],
            [
             1,
             "#f0f921"
            ]
           ],
           "sequentialminus": [
            [
             0,
             "#0d0887"
            ],
            [
             0.1111111111111111,
             "#46039f"
            ],
            [
             0.2222222222222222,
             "#7201a8"
            ],
            [
             0.3333333333333333,
             "#9c179e"
            ],
            [
             0.4444444444444444,
             "#bd3786"
            ],
            [
             0.5555555555555556,
             "#d8576b"
            ],
            [
             0.6666666666666666,
             "#ed7953"
            ],
            [
             0.7777777777777778,
             "#fb9f3a"
            ],
            [
             0.8888888888888888,
             "#fdca26"
            ],
            [
             1,
             "#f0f921"
            ]
           ]
          },
          "colorway": [
           "#636efa",
           "#EF553B",
           "#00cc96",
           "#ab63fa",
           "#FFA15A",
           "#19d3f3",
           "#FF6692",
           "#B6E880",
           "#FF97FF",
           "#FECB52"
          ],
          "font": {
           "color": "#2a3f5f"
          },
          "geo": {
           "bgcolor": "white",
           "lakecolor": "white",
           "landcolor": "#E5ECF6",
           "showlakes": true,
           "showland": true,
           "subunitcolor": "white"
          },
          "hoverlabel": {
           "align": "left"
          },
          "hovermode": "closest",
          "mapbox": {
           "style": "light"
          },
          "paper_bgcolor": "white",
          "plot_bgcolor": "#E5ECF6",
          "polar": {
           "angularaxis": {
            "gridcolor": "white",
            "linecolor": "white",
            "ticks": ""
           },
           "bgcolor": "#E5ECF6",
           "radialaxis": {
            "gridcolor": "white",
            "linecolor": "white",
            "ticks": ""
           }
          },
          "scene": {
           "xaxis": {
            "backgroundcolor": "#E5ECF6",
            "gridcolor": "white",
            "gridwidth": 2,
            "linecolor": "white",
            "showbackground": true,
            "ticks": "",
            "zerolinecolor": "white"
           },
           "yaxis": {
            "backgroundcolor": "#E5ECF6",
            "gridcolor": "white",
            "gridwidth": 2,
            "linecolor": "white",
            "showbackground": true,
            "ticks": "",
            "zerolinecolor": "white"
           },
           "zaxis": {
            "backgroundcolor": "#E5ECF6",
            "gridcolor": "white",
            "gridwidth": 2,
            "linecolor": "white",
            "showbackground": true,
            "ticks": "",
            "zerolinecolor": "white"
           }
          },
          "shapedefaults": {
           "line": {
            "color": "#2a3f5f"
           }
          },
          "ternary": {
           "aaxis": {
            "gridcolor": "white",
            "linecolor": "white",
            "ticks": ""
           },
           "baxis": {
            "gridcolor": "white",
            "linecolor": "white",
            "ticks": ""
           },
           "bgcolor": "#E5ECF6",
           "caxis": {
            "gridcolor": "white",
            "linecolor": "white",
            "ticks": ""
           }
          },
          "title": {
           "x": 0.05
          },
          "xaxis": {
           "automargin": true,
           "gridcolor": "white",
           "linecolor": "white",
           "ticks": "",
           "title": {
            "standoff": 15
           },
           "zerolinecolor": "white",
           "zerolinewidth": 2
          },
          "yaxis": {
           "automargin": true,
           "gridcolor": "white",
           "linecolor": "white",
           "ticks": "",
           "title": {
            "standoff": 15
           },
           "zerolinecolor": "white",
           "zerolinewidth": 2
          }
         }
        },
        "title": {
         "text": "Ladder Score vs Life Expectancy vs GDP per capita in various regions:<br>(Size of Bubble describes GDP per Capita)"
        },
        "xaxis": {
         "anchor": "y",
         "domain": [
          0,
          1
         ],
         "title": {
          "text": "Life Expectancy"
         }
        },
        "yaxis": {
         "anchor": "x",
         "domain": [
          0,
          1
         ],
         "title": {
          "text": "Happiness Score"
         }
        }
       }
      }
     },
     "metadata": {}
    }
   ],
   "source": [
    "fig = px.scatter(region_score,\n",
    "    x=\"Life Expectancy\", y=\"Ladder score\", size=\"GDP per capita\", color=\"Regional indicator\",\n",
    "    labels={\"Ladder score\": 'Happiness Score'},size_max=7,\n",
    "    title=\"Ladder Score vs Life Expectancy vs GDP per capita in various regions:<br>(Size of Bubble describes GDP per Capita)\",\n",
    "                 opacity=0.7,hover_name='Regional indicator',hover_data={\"Regional indicator\":False})\n",
    "fig.update_traces(marker_sizemode='diameter')\n",
    "fig.show()"
   ]
  },
  {
   "cell_type": "markdown",
   "id": "6c7d58c5",
   "metadata": {},
   "source": [
    "## Region wise Comparision in different Countries"
   ]
  },
  {
   "cell_type": "markdown",
   "id": "fb793d04",
   "metadata": {},
   "source": [
    "### Let's First see World Map"
   ]
  },
  {
   "cell_type": "code",
   "execution_count": 56,
   "id": "d73ddbcf",
   "metadata": {},
   "outputs": [],
   "source": [
    "df_country_code = df1.copy()\n",
    "\n",
    "#ADAPTING TO THE ISO 3166 STANDARD\n",
    "df_country_code.loc[df_country_code['Country'] == 'Taiwan Province of China', 'Country'] = 'Taiwan, Province of China' \n",
    "df_country_code.loc[df_country_code['Country'] == 'Hong Kong S.A.R. of China', 'Country'] = 'Hong Kong' \n",
    "df_country_code.loc[df_country_code['Country'] == 'Congo (Brazzaville)','Country'] = 'Congo' \n",
    "df_country_code.loc[df_country_code['Country'] == 'Palestinian Territories','Country'] = 'Palestine, State of' \n",
    "\n",
    "df_country_code.drop(index=df_country_code[df_country_code['Country'] == 'Kosovo'].index, inplace=True) # Kosovo Code agreed on not to use by ISO 3166\n",
    "df_country_code.drop(index=df_country_code[df_country_code['Country'] == 'North Cyprus'].index, inplace=True) # Not part of the ISO 3166 standard\n",
    "\n",
    "# Making coulm with country code\n",
    "df_country_code['c_code']=df_country_code['Country'].apply(lambda x: pc.country_name_to_country_alpha3(x,))\n",
    "col_code=[]\n",
    "for i in df_country_code['Ladder score']:\n",
    "    if i>=median_lad:\n",
    "        col_code.append(red)\n",
    "    else:\n",
    "        col_code.append(green)"
   ]
  },
  {
   "cell_type": "code",
   "execution_count": 57,
   "id": "3257f805",
   "metadata": {},
   "outputs": [
    {
     "output_type": "display_data",
     "data": {
      "application/vnd.plotly.v1+json": {
       "config": {
        "plotlyServerURL": "https://plot.ly"
       },
       "data": [
        {
         "coloraxis": "coloraxis",
         "customdata": [
          [
           "FIN",
           10.775,
           72,
           0.949
          ],
          [
           "DNK",
           10.933,
           72.7,
           0.946
          ],
          [
           "CHE",
           11.117,
           74.4,
           0.919
          ],
          [
           "ISL",
           10.878,
           73,
           0.955
          ],
          [
           "NLD",
           10.932,
           72.4,
           0.913
          ],
          [
           "NOR",
           11.053,
           73.3,
           0.96
          ],
          [
           "SWE",
           10.867,
           72.7,
           0.945
          ],
          [
           "LUX",
           11.647,
           72.6,
           0.907
          ],
          [
           "NZL",
           10.643,
           73.4,
           0.929
          ],
          [
           "AUT",
           10.906,
           73.3,
           0.908
          ],
          [
           "AUS",
           10.796,
           73.9,
           0.914
          ],
          [
           "ISR",
           10.575,
           73.503,
           0.8
          ],
          [
           "DEU",
           10.873,
           72.5,
           0.875
          ],
          [
           "CAN",
           10.776,
           73.8,
           0.915
          ],
          [
           "IRL",
           11.342,
           72.4,
           0.879
          ],
          [
           "CRI",
           9.88,
           71.4,
           0.934
          ],
          [
           "GBR",
           10.707,
           72.5,
           0.859
          ],
          [
           "CZE",
           10.556,
           70.807,
           0.858
          ],
          [
           "USA",
           11.023,
           68.2,
           0.837
          ],
          [
           "BEL",
           10.823,
           72.199,
           0.783
          ],
          [
           "FRA",
           10.704,
           74,
           0.822
          ],
          [
           "BHR",
           10.669,
           69.495,
           0.925
          ],
          [
           "MLT",
           10.674,
           72.2,
           0.927
          ],
          [
           "TWN",
           10.871,
           69.6,
           0.784
          ],
          [
           "ARE",
           11.085,
           67.333,
           0.932
          ],
          [
           "SAU",
           10.743,
           66.603,
           0.877
          ],
          [
           "ESP",
           10.571,
           74.7,
           0.761
          ],
          [
           "ITA",
           10.623,
           73.8,
           0.693
          ],
          [
           "SVN",
           10.529,
           71.4,
           0.949
          ],
          [
           "GTM",
           9.053,
           64.958,
           0.906
          ],
          [
           "URY",
           9.966,
           69.1,
           0.896
          ],
          [
           "SGP",
           11.488,
           76.953,
           0.927
          ],
          [
           "SVK",
           10.369,
           69.201,
           0.766
          ],
          [
           "BRA",
           9.577,
           66.601,
           0.804
          ],
          [
           "MEX",
           9.859,
           68.597,
           0.862
          ],
          [
           "JAM",
           9.186,
           67.5,
           0.89
          ],
          [
           "LTU",
           10.499,
           67.906,
           0.773
          ],
          [
           "CYP",
           10.576,
           73.898,
           0.763
          ],
          [
           "EST",
           10.481,
           68.8,
           0.909
          ],
          [
           "PAN",
           10.35,
           69.652,
           0.872
          ],
          [
           "UZB",
           8.836,
           65.255,
           0.97
          ],
          [
           "CHL",
           10.071,
           70,
           0.742
          ],
          [
           "POL",
           10.382,
           69.702,
           0.841
          ],
          [
           "KAZ",
           10.155,
           65.2,
           0.853
          ],
          [
           "ROU",
           10.284,
           67.355,
           0.845
          ],
          [
           "KWT",
           10.817,
           66.9,
           0.867
          ],
          [
           "SRB",
           9.787,
           68.6,
           0.778
          ],
          [
           "SLV",
           9.054,
           66.402,
           0.888
          ],
          [
           "MUS",
           10.008,
           66.701,
           0.867
          ],
          [
           "LVA",
           10.315,
           67.1,
           0.715
          ],
          [
           "COL",
           9.557,
           68.001,
           0.837
          ],
          [
           "HUN",
           10.358,
           68,
           0.755
          ],
          [
           "THA",
           9.805,
           67.401,
           0.884
          ],
          [
           "NIC",
           8.62,
           67.657,
           0.836
          ],
          [
           "JPN",
           10.611,
           75.1,
           0.796
          ],
          [
           "ARG",
           9.962,
           69,
           0.828
          ],
          [
           "PRT",
           10.421,
           72.6,
           0.892
          ],
          [
           "HND",
           8.648,
           67.3,
           0.857
          ],
          [
           "HRV",
           10.217,
           70.799,
           0.754
          ],
          [
           "PHL",
           9.076,
           62,
           0.917
          ],
          [
           "KOR",
           10.651,
           73.9,
           0.672
          ],
          [
           "PER",
           9.458,
           68.25,
           0.822
          ],
          [
           "BIH",
           9.59,
           68.098,
           0.706
          ],
          [
           "MDA",
           9.454,
           65.699,
           0.822
          ],
          [
           "ECU",
           9.313,
           68.8,
           0.842
          ],
          [
           "KGZ",
           8.538,
           64.401,
           0.935
          ],
          [
           "GRC",
           10.279,
           72.6,
           0.582
          ],
          [
           "BOL",
           9.046,
           63.901,
           0.875
          ],
          [
           "MNG",
           9.4,
           62.5,
           0.708
          ],
          [
           "PRY",
           9.448,
           65.9,
           0.876
          ],
          [
           "MNE",
           9.94,
           68.699,
           0.708
          ],
          [
           "DOM",
           9.802,
           66.102,
           0.86
          ],
          [
           "BLR",
           9.853,
           66.253,
           0.65
          ],
          [
           "RUS",
           10.189,
           64.703,
           0.718
          ],
          [
           "HKG",
           11,
           76.82,
           0.717
          ],
          [
           "TJK",
           8.091,
           64.281,
           0.832
          ],
          [
           "VNM",
           8.973,
           68.034,
           0.94
          ],
          [
           "LBY",
           9.622,
           62.3,
           0.771
          ],
          [
           "MYS",
           10.238,
           67.102,
           0.895
          ],
          [
           "IDN",
           9.365,
           62.236,
           0.873
          ],
          [
           "COG",
           8.117,
           58.221,
           0.695
          ],
          [
           "CHN",
           9.673,
           69.593,
           0.904
          ],
          [
           "CIV",
           8.551,
           50.114,
           0.741
          ],
          [
           "ARM",
           9.487,
           67.055,
           0.825
          ],
          [
           "NPL",
           8.12,
           64.233,
           0.782
          ],
          [
           "BGR",
           10.016,
           67,
           0.788
          ],
          [
           "MDV",
           9.826,
           70.6,
           0.854
          ],
          [
           "AZE",
           9.569,
           65.656,
           0.814
          ],
          [
           "CMR",
           8.189,
           53.515,
           0.731
          ],
          [
           "SEN",
           8.118,
           59.802,
           0.695
          ],
          [
           "ALB",
           9.52,
           68.999,
           0.785
          ],
          [
           "MKD",
           9.693,
           65.474,
           0.751
          ],
          [
           "GHA",
           8.58,
           57.586,
           0.807
          ],
          [
           "NER",
           7.098,
           53.78,
           0.806
          ],
          [
           "TKM",
           9.629,
           62.409,
           0.877
          ],
          [
           "GMB",
           7.686,
           55.16,
           0.697
          ],
          [
           "BEN",
           8.087,
           54.713,
           0.757
          ],
          [
           "LAO",
           8.947,
           58.968,
           0.91
          ],
          [
           "BGD",
           8.454,
           64.8,
           0.877
          ],
          [
           "GIN",
           7.838,
           55.008,
           0.697
          ],
          [
           "ZAF",
           9.403,
           56.904,
           0.749
          ],
          [
           "TUR",
           10.24,
           67.199,
           0.576
          ],
          [
           "PAK",
           8.458,
           58.709,
           0.726
          ],
          [
           "MAR",
           8.903,
           66.208,
           0.774
          ],
          [
           "VEN",
           9.073,
           66.7,
           0.615
          ],
          [
           "GEO",
           9.585,
           64.3,
           0.783
          ],
          [
           "DZA",
           9.342,
           66.005,
           0.48
          ],
          [
           "UKR",
           9.436,
           64.902,
           0.724
          ],
          [
           "IRQ",
           9.24,
           60.583,
           0.63
          ],
          [
           "GAB",
           9.603,
           59.962,
           0.731
          ],
          [
           "BFA",
           7.678,
           54.151,
           0.695
          ],
          [
           "KHM",
           8.36,
           62,
           0.959
          ],
          [
           "MOZ",
           7.158,
           54.706,
           0.882
          ],
          [
           "NGA",
           8.533,
           50.102,
           0.737
          ],
          [
           "MLI",
           7.744,
           51.969,
           0.697
          ],
          [
           "IRN",
           9.584,
           66.3,
           0.608
          ],
          [
           "UGA",
           7.677,
           56.101,
           0.709
          ],
          [
           "LBR",
           7.288,
           56.498,
           0.735
          ],
          [
           "KEN",
           8.361,
           60.704,
           0.779
          ],
          [
           "TUN",
           9.266,
           67.201,
           0.656
          ],
          [
           "LBN",
           9.626,
           67.355,
           0.525
          ],
          [
           "NAM",
           9.161,
           56.799,
           0.719
          ],
          [
           "PSE",
           8.485,
           62.25,
           0.653
          ],
          [
           "MMR",
           8.541,
           59.302,
           0.876
          ],
          [
           "JOR",
           9.182,
           67,
           0.755
          ],
          [
           "TCD",
           7.364,
           48.478,
           0.579
          ],
          [
           "LKA",
           9.47,
           67.299,
           0.841
          ],
          [
           "SWZ",
           9.065,
           50.833,
           0.647
          ],
          [
           "COM",
           8.031,
           57.349,
           0.548
          ],
          [
           "EGY",
           9.367,
           61.998,
           0.749
          ],
          [
           "ETH",
           7.694,
           59,
           0.752
          ],
          [
           "MRT",
           8.542,
           57.161,
           0.561
          ],
          [
           "MDG",
           7.396,
           59.305,
           0.552
          ],
          [
           "TGO",
           7.362,
           54.914,
           0.619
          ],
          [
           "ZMB",
           8.145,
           55.809,
           0.782
          ],
          [
           "SLE",
           7.434,
           51.651,
           0.717
          ],
          [
           "IND",
           8.755,
           60.633,
           0.893
          ],
          [
           "BDI",
           6.635,
           53.4,
           0.626
          ],
          [
           "YEM",
           7.578,
           57.122,
           0.602
          ],
          [
           "TZA",
           7.876,
           57.999,
           0.833
          ],
          [
           "HTI",
           7.477,
           55.7,
           0.593
          ],
          [
           "MWI",
           6.958,
           57.948,
           0.78
          ],
          [
           "LSO",
           7.926,
           48.7,
           0.715
          ],
          [
           "BWA",
           9.782,
           59.269,
           0.824
          ],
          [
           "RWA",
           7.676,
           61.4,
           0.897
          ],
          [
           "ZWE",
           7.943,
           56.201,
           0.677
          ],
          [
           "AFG",
           7.695,
           52.493,
           0.382
          ]
         ],
         "geo": "geo",
         "hovertemplate": "<b>%{hovertext}</b><br><br>GDP per capita=%{customdata[1]}<br>Life Expectancy=%{customdata[2]}<br>Freedom=%{customdata[3]}<br>Happiness Score=%{z}<extra></extra>",
         "hovertext": [
          "Finland",
          "Denmark",
          "Switzerland",
          "Iceland",
          "Netherlands",
          "Norway",
          "Sweden",
          "Luxembourg",
          "New Zealand",
          "Austria",
          "Australia",
          "Israel",
          "Germany",
          "Canada",
          "Ireland",
          "Costa Rica",
          "United Kingdom",
          "Czech Republic",
          "United States",
          "Belgium",
          "France",
          "Bahrain",
          "Malta",
          "Taiwan, Province of China",
          "United Arab Emirates",
          "Saudi Arabia",
          "Spain",
          "Italy",
          "Slovenia",
          "Guatemala",
          "Uruguay",
          "Singapore",
          "Slovakia",
          "Brazil",
          "Mexico",
          "Jamaica",
          "Lithuania",
          "Cyprus",
          "Estonia",
          "Panama",
          "Uzbekistan",
          "Chile",
          "Poland",
          "Kazakhstan",
          "Romania",
          "Kuwait",
          "Serbia",
          "El Salvador",
          "Mauritius",
          "Latvia",
          "Colombia",
          "Hungary",
          "Thailand",
          "Nicaragua",
          "Japan",
          "Argentina",
          "Portugal",
          "Honduras",
          "Croatia",
          "Philippines",
          "South Korea",
          "Peru",
          "Bosnia and Herzegovina",
          "Moldova",
          "Ecuador",
          "Kyrgyzstan",
          "Greece",
          "Bolivia",
          "Mongolia",
          "Paraguay",
          "Montenegro",
          "Dominican Republic",
          "Belarus",
          "Russia",
          "Hong Kong",
          "Tajikistan",
          "Vietnam",
          "Libya",
          "Malaysia",
          "Indonesia",
          "Congo",
          "China",
          "Ivory Coast",
          "Armenia",
          "Nepal",
          "Bulgaria",
          "Maldives",
          "Azerbaijan",
          "Cameroon",
          "Senegal",
          "Albania",
          "North Macedonia",
          "Ghana",
          "Niger",
          "Turkmenistan",
          "Gambia",
          "Benin",
          "Laos",
          "Bangladesh",
          "Guinea",
          "South Africa",
          "Turkey",
          "Pakistan",
          "Morocco",
          "Venezuela",
          "Georgia",
          "Algeria",
          "Ukraine",
          "Iraq",
          "Gabon",
          "Burkina Faso",
          "Cambodia",
          "Mozambique",
          "Nigeria",
          "Mali",
          "Iran",
          "Uganda",
          "Liberia",
          "Kenya",
          "Tunisia",
          "Lebanon",
          "Namibia",
          "Palestine, State of",
          "Myanmar",
          "Jordan",
          "Chad",
          "Sri Lanka",
          "Swaziland",
          "Comoros",
          "Egypt",
          "Ethiopia",
          "Mauritania",
          "Madagascar",
          "Togo",
          "Zambia",
          "Sierra Leone",
          "India",
          "Burundi",
          "Yemen",
          "Tanzania",
          "Haiti",
          "Malawi",
          "Lesotho",
          "Botswana",
          "Rwanda",
          "Zimbabwe",
          "Afghanistan"
         ],
         "locations": [
          "FIN",
          "DNK",
          "CHE",
          "ISL",
          "NLD",
          "NOR",
          "SWE",
          "LUX",
          "NZL",
          "AUT",
          "AUS",
          "ISR",
          "DEU",
          "CAN",
          "IRL",
          "CRI",
          "GBR",
          "CZE",
          "USA",
          "BEL",
          "FRA",
          "BHR",
          "MLT",
          "TWN",
          "ARE",
          "SAU",
          "ESP",
          "ITA",
          "SVN",
          "GTM",
          "URY",
          "SGP",
          "SVK",
          "BRA",
          "MEX",
          "JAM",
          "LTU",
          "CYP",
          "EST",
          "PAN",
          "UZB",
          "CHL",
          "POL",
          "KAZ",
          "ROU",
          "KWT",
          "SRB",
          "SLV",
          "MUS",
          "LVA",
          "COL",
          "HUN",
          "THA",
          "NIC",
          "JPN",
          "ARG",
          "PRT",
          "HND",
          "HRV",
          "PHL",
          "KOR",
          "PER",
          "BIH",
          "MDA",
          "ECU",
          "KGZ",
          "GRC",
          "BOL",
          "MNG",
          "PRY",
          "MNE",
          "DOM",
          "BLR",
          "RUS",
          "HKG",
          "TJK",
          "VNM",
          "LBY",
          "MYS",
          "IDN",
          "COG",
          "CHN",
          "CIV",
          "ARM",
          "NPL",
          "BGR",
          "MDV",
          "AZE",
          "CMR",
          "SEN",
          "ALB",
          "MKD",
          "GHA",
          "NER",
          "TKM",
          "GMB",
          "BEN",
          "LAO",
          "BGD",
          "GIN",
          "ZAF",
          "TUR",
          "PAK",
          "MAR",
          "VEN",
          "GEO",
          "DZA",
          "UKR",
          "IRQ",
          "GAB",
          "BFA",
          "KHM",
          "MOZ",
          "NGA",
          "MLI",
          "IRN",
          "UGA",
          "LBR",
          "KEN",
          "TUN",
          "LBN",
          "NAM",
          "PSE",
          "MMR",
          "JOR",
          "TCD",
          "LKA",
          "SWZ",
          "COM",
          "EGY",
          "ETH",
          "MRT",
          "MDG",
          "TGO",
          "ZMB",
          "SLE",
          "IND",
          "BDI",
          "YEM",
          "TZA",
          "HTI",
          "MWI",
          "LSO",
          "BWA",
          "RWA",
          "ZWE",
          "AFG"
         ],
         "name": "",
         "showlegend": false,
         "type": "choropleth",
         "z": [
          7.842,
          7.62,
          7.571,
          7.554,
          7.464,
          7.392,
          7.363,
          7.324,
          7.277,
          7.268,
          7.183,
          7.157,
          7.155,
          7.103,
          7.085,
          7.069,
          7.064,
          6.965,
          6.951,
          6.834,
          6.69,
          6.647,
          6.602,
          6.584,
          6.561,
          6.494,
          6.491,
          6.483,
          6.461,
          6.435,
          6.431,
          6.377,
          6.331,
          6.33,
          6.317,
          6.309,
          6.255,
          6.223,
          6.189,
          6.18,
          6.179,
          6.172,
          6.166,
          6.152,
          6.14,
          6.106,
          6.078,
          6.061,
          6.049,
          6.032,
          6.012,
          5.992,
          5.985,
          5.972,
          5.94,
          5.929,
          5.929,
          5.919,
          5.882,
          5.88,
          5.845,
          5.84,
          5.813,
          5.766,
          5.764,
          5.744,
          5.723,
          5.716,
          5.677,
          5.653,
          5.581,
          5.545,
          5.534,
          5.477,
          5.477,
          5.466,
          5.411,
          5.41,
          5.384,
          5.345,
          5.342,
          5.339,
          5.306,
          5.283,
          5.269,
          5.266,
          5.198,
          5.171,
          5.142,
          5.132,
          5.117,
          5.101,
          5.088,
          5.074,
          5.066,
          5.051,
          5.045,
          5.03,
          5.025,
          4.984,
          4.956,
          4.948,
          4.934,
          4.918,
          4.892,
          4.891,
          4.887,
          4.875,
          4.854,
          4.852,
          4.834,
          4.83,
          4.794,
          4.759,
          4.723,
          4.721,
          4.636,
          4.625,
          4.607,
          4.596,
          4.584,
          4.574,
          4.517,
          4.426,
          4.395,
          4.355,
          4.325,
          4.308,
          4.289,
          4.283,
          4.275,
          4.227,
          4.208,
          4.107,
          4.073,
          3.849,
          3.819,
          3.775,
          3.658,
          3.623,
          3.615,
          3.6,
          3.512,
          3.467,
          3.415,
          3.145,
          2.523
         ]
        }
       ],
       "layout": {
        "coloraxis": {
         "colorbar": {
          "title": {
           "text": "Happiness Score"
          }
         },
         "colorscale": [
          [
           0,
           "#dd4124"
          ],
          [
           0.00684931506849315,
           "#dd4124"
          ],
          [
           0.0136986301369863,
           "#dd4124"
          ],
          [
           0.02054794520547945,
           "#dd4124"
          ],
          [
           0.0273972602739726,
           "#dd4124"
          ],
          [
           0.03424657534246575,
           "#dd4124"
          ],
          [
           0.0410958904109589,
           "#dd4124"
          ],
          [
           0.04794520547945205,
           "#dd4124"
          ],
          [
           0.0547945205479452,
           "#dd4124"
          ],
          [
           0.06164383561643835,
           "#dd4124"
          ],
          [
           0.0684931506849315,
           "#dd4124"
          ],
          [
           0.07534246575342465,
           "#dd4124"
          ],
          [
           0.0821917808219178,
           "#dd4124"
          ],
          [
           0.08904109589041095,
           "#dd4124"
          ],
          [
           0.0958904109589041,
           "#dd4124"
          ],
          [
           0.10273972602739725,
           "#dd4124"
          ],
          [
           0.1095890410958904,
           "#dd4124"
          ],
          [
           0.11643835616438356,
           "#dd4124"
          ],
          [
           0.1232876712328767,
           "#dd4124"
          ],
          [
           0.13013698630136986,
           "#dd4124"
          ],
          [
           0.136986301369863,
           "#dd4124"
          ],
          [
           0.14383561643835616,
           "#dd4124"
          ],
          [
           0.1506849315068493,
           "#dd4124"
          ],
          [
           0.15753424657534246,
           "#dd4124"
          ],
          [
           0.1643835616438356,
           "#dd4124"
          ],
          [
           0.17123287671232876,
           "#dd4124"
          ],
          [
           0.1780821917808219,
           "#dd4124"
          ],
          [
           0.18493150684931506,
           "#dd4124"
          ],
          [
           0.1917808219178082,
           "#dd4124"
          ],
          [
           0.19863013698630136,
           "#dd4124"
          ],
          [
           0.2054794520547945,
           "#dd4124"
          ],
          [
           0.21232876712328766,
           "#dd4124"
          ],
          [
           0.2191780821917808,
           "#dd4124"
          ],
          [
           0.22602739726027396,
           "#dd4124"
          ],
          [
           0.2328767123287671,
           "#dd4124"
          ],
          [
           0.23972602739726026,
           "#dd4124"
          ],
          [
           0.2465753424657534,
           "#dd4124"
          ],
          [
           0.2534246575342466,
           "#dd4124"
          ],
          [
           0.2602739726027397,
           "#dd4124"
          ],
          [
           0.2671232876712329,
           "#dd4124"
          ],
          [
           0.273972602739726,
           "#dd4124"
          ],
          [
           0.2808219178082192,
           "#dd4124"
          ],
          [
           0.2876712328767123,
           "#dd4124"
          ],
          [
           0.2945205479452055,
           "#dd4124"
          ],
          [
           0.3013698630136986,
           "#dd4124"
          ],
          [
           0.3082191780821918,
           "#dd4124"
          ],
          [
           0.3150684931506849,
           "#dd4124"
          ],
          [
           0.3219178082191781,
           "#dd4124"
          ],
          [
           0.3287671232876712,
           "#dd4124"
          ],
          [
           0.3356164383561644,
           "#dd4124"
          ],
          [
           0.3424657534246575,
           "#dd4124"
          ],
          [
           0.3493150684931507,
           "#dd4124"
          ],
          [
           0.3561643835616438,
           "#dd4124"
          ],
          [
           0.363013698630137,
           "#dd4124"
          ],
          [
           0.3698630136986301,
           "#dd4124"
          ],
          [
           0.3767123287671233,
           "#dd4124"
          ],
          [
           0.3835616438356164,
           "#dd4124"
          ],
          [
           0.3904109589041096,
           "#dd4124"
          ],
          [
           0.3972602739726027,
           "#dd4124"
          ],
          [
           0.4041095890410959,
           "#dd4124"
          ],
          [
           0.410958904109589,
           "#dd4124"
          ],
          [
           0.4178082191780822,
           "#dd4124"
          ],
          [
           0.4246575342465753,
           "#dd4124"
          ],
          [
           0.4315068493150685,
           "#dd4124"
          ],
          [
           0.4383561643835616,
           "#dd4124"
          ],
          [
           0.4452054794520548,
           "#dd4124"
          ],
          [
           0.4520547945205479,
           "#dd4124"
          ],
          [
           0.4589041095890411,
           "#dd4124"
          ],
          [
           0.4657534246575342,
           "#dd4124"
          ],
          [
           0.4726027397260274,
           "#dd4124"
          ],
          [
           0.4794520547945205,
           "#dd4124"
          ],
          [
           0.4863013698630137,
           "#dd4124"
          ],
          [
           0.4931506849315068,
           "#dd4124"
          ],
          [
           0.5,
           "#009473"
          ],
          [
           0.5068493150684932,
           "#009473"
          ],
          [
           0.5136986301369864,
           "#009473"
          ],
          [
           0.5205479452054794,
           "#009473"
          ],
          [
           0.5273972602739726,
           "#009473"
          ],
          [
           0.5342465753424658,
           "#009473"
          ],
          [
           0.541095890410959,
           "#009473"
          ],
          [
           0.547945205479452,
           "#009473"
          ],
          [
           0.5547945205479452,
           "#009473"
          ],
          [
           0.5616438356164384,
           "#009473"
          ],
          [
           0.5684931506849316,
           "#009473"
          ],
          [
           0.5753424657534246,
           "#009473"
          ],
          [
           0.5821917808219178,
           "#009473"
          ],
          [
           0.589041095890411,
           "#009473"
          ],
          [
           0.5958904109589042,
           "#009473"
          ],
          [
           0.6027397260273972,
           "#009473"
          ],
          [
           0.6095890410958904,
           "#009473"
          ],
          [
           0.6164383561643836,
           "#009473"
          ],
          [
           0.6232876712328768,
           "#009473"
          ],
          [
           0.6301369863013698,
           "#009473"
          ],
          [
           0.636986301369863,
           "#009473"
          ],
          [
           0.6438356164383562,
           "#009473"
          ],
          [
           0.6506849315068494,
           "#009473"
          ],
          [
           0.6575342465753424,
           "#009473"
          ],
          [
           0.6643835616438356,
           "#009473"
          ],
          [
           0.6712328767123288,
           "#009473"
          ],
          [
           0.678082191780822,
           "#009473"
          ],
          [
           0.684931506849315,
           "#009473"
          ],
          [
           0.6917808219178082,
           "#009473"
          ],
          [
           0.6986301369863014,
           "#009473"
          ],
          [
           0.7054794520547946,
           "#009473"
          ],
          [
           0.7123287671232876,
           "#009473"
          ],
          [
           0.7191780821917808,
           "#009473"
          ],
          [
           0.726027397260274,
           "#009473"
          ],
          [
           0.7328767123287672,
           "#009473"
          ],
          [
           0.7397260273972602,
           "#009473"
          ],
          [
           0.7465753424657534,
           "#009473"
          ],
          [
           0.7534246575342466,
           "#009473"
          ],
          [
           0.7602739726027398,
           "#009473"
          ],
          [
           0.7671232876712328,
           "#009473"
          ],
          [
           0.773972602739726,
           "#009473"
          ],
          [
           0.7808219178082192,
           "#009473"
          ],
          [
           0.7876712328767124,
           "#009473"
          ],
          [
           0.7945205479452054,
           "#009473"
          ],
          [
           0.8013698630136986,
           "#009473"
          ],
          [
           0.8082191780821918,
           "#009473"
          ],
          [
           0.815068493150685,
           "#009473"
          ],
          [
           0.821917808219178,
           "#009473"
          ],
          [
           0.8287671232876712,
           "#009473"
          ],
          [
           0.8356164383561644,
           "#009473"
          ],
          [
           0.8424657534246576,
           "#009473"
          ],
          [
           0.8493150684931506,
           "#009473"
          ],
          [
           0.8561643835616438,
           "#009473"
          ],
          [
           0.863013698630137,
           "#009473"
          ],
          [
           0.8698630136986302,
           "#009473"
          ],
          [
           0.8767123287671232,
           "#009473"
          ],
          [
           0.8835616438356164,
           "#009473"
          ],
          [
           0.8904109589041096,
           "#009473"
          ],
          [
           0.8972602739726028,
           "#009473"
          ],
          [
           0.9041095890410958,
           "#009473"
          ],
          [
           0.910958904109589,
           "#009473"
          ],
          [
           0.9178082191780822,
           "#009473"
          ],
          [
           0.9246575342465754,
           "#009473"
          ],
          [
           0.9315068493150684,
           "#009473"
          ],
          [
           0.9383561643835616,
           "#009473"
          ],
          [
           0.9452054794520548,
           "#009473"
          ],
          [
           0.952054794520548,
           "#009473"
          ],
          [
           0.958904109589041,
           "#009473"
          ],
          [
           0.9657534246575342,
           "#009473"
          ],
          [
           0.9726027397260274,
           "#009473"
          ],
          [
           0.9794520547945206,
           "#009473"
          ],
          [
           0.9863013698630136,
           "#009473"
          ],
          [
           0.9931506849315068,
           "#009473"
          ],
          [
           1,
           "#009473"
          ]
         ]
        },
        "geo": {
         "center": {},
         "domain": {
          "x": [
           0,
           1
          ],
          "y": [
           0,
           1
          ]
         }
        },
        "legend": {
         "tracegroupgap": 0
        },
        "template": {
         "data": {
          "bar": [
           {
            "error_x": {
             "color": "#2a3f5f"
            },
            "error_y": {
             "color": "#2a3f5f"
            },
            "marker": {
             "line": {
              "color": "#E5ECF6",
              "width": 0.5
             }
            },
            "type": "bar"
           }
          ],
          "barpolar": [
           {
            "marker": {
             "line": {
              "color": "#E5ECF6",
              "width": 0.5
             }
            },
            "type": "barpolar"
           }
          ],
          "carpet": [
           {
            "aaxis": {
             "endlinecolor": "#2a3f5f",
             "gridcolor": "white",
             "linecolor": "white",
             "minorgridcolor": "white",
             "startlinecolor": "#2a3f5f"
            },
            "baxis": {
             "endlinecolor": "#2a3f5f",
             "gridcolor": "white",
             "linecolor": "white",
             "minorgridcolor": "white",
             "startlinecolor": "#2a3f5f"
            },
            "type": "carpet"
           }
          ],
          "choropleth": [
           {
            "colorbar": {
             "outlinewidth": 0,
             "ticks": ""
            },
            "type": "choropleth"
           }
          ],
          "contour": [
           {
            "colorbar": {
             "outlinewidth": 0,
             "ticks": ""
            },
            "colorscale": [
             [
              0,
              "#0d0887"
             ],
             [
              0.1111111111111111,
              "#46039f"
             ],
             [
              0.2222222222222222,
              "#7201a8"
             ],
             [
              0.3333333333333333,
              "#9c179e"
             ],
             [
              0.4444444444444444,
              "#bd3786"
             ],
             [
              0.5555555555555556,
              "#d8576b"
             ],
             [
              0.6666666666666666,
              "#ed7953"
             ],
             [
              0.7777777777777778,
              "#fb9f3a"
             ],
             [
              0.8888888888888888,
              "#fdca26"
             ],
             [
              1,
              "#f0f921"
             ]
            ],
            "type": "contour"
           }
          ],
          "contourcarpet": [
           {
            "colorbar": {
             "outlinewidth": 0,
             "ticks": ""
            },
            "type": "contourcarpet"
           }
          ],
          "heatmap": [
           {
            "colorbar": {
             "outlinewidth": 0,
             "ticks": ""
            },
            "colorscale": [
             [
              0,
              "#0d0887"
             ],
             [
              0.1111111111111111,
              "#46039f"
             ],
             [
              0.2222222222222222,
              "#7201a8"
             ],
             [
              0.3333333333333333,
              "#9c179e"
             ],
             [
              0.4444444444444444,
              "#bd3786"
             ],
             [
              0.5555555555555556,
              "#d8576b"
             ],
             [
              0.6666666666666666,
              "#ed7953"
             ],
             [
              0.7777777777777778,
              "#fb9f3a"
             ],
             [
              0.8888888888888888,
              "#fdca26"
             ],
             [
              1,
              "#f0f921"
             ]
            ],
            "type": "heatmap"
           }
          ],
          "heatmapgl": [
           {
            "colorbar": {
             "outlinewidth": 0,
             "ticks": ""
            },
            "colorscale": [
             [
              0,
              "#0d0887"
             ],
             [
              0.1111111111111111,
              "#46039f"
             ],
             [
              0.2222222222222222,
              "#7201a8"
             ],
             [
              0.3333333333333333,
              "#9c179e"
             ],
             [
              0.4444444444444444,
              "#bd3786"
             ],
             [
              0.5555555555555556,
              "#d8576b"
             ],
             [
              0.6666666666666666,
              "#ed7953"
             ],
             [
              0.7777777777777778,
              "#fb9f3a"
             ],
             [
              0.8888888888888888,
              "#fdca26"
             ],
             [
              1,
              "#f0f921"
             ]
            ],
            "type": "heatmapgl"
           }
          ],
          "histogram": [
           {
            "marker": {
             "colorbar": {
              "outlinewidth": 0,
              "ticks": ""
             }
            },
            "type": "histogram"
           }
          ],
          "histogram2d": [
           {
            "colorbar": {
             "outlinewidth": 0,
             "ticks": ""
            },
            "colorscale": [
             [
              0,
              "#0d0887"
             ],
             [
              0.1111111111111111,
              "#46039f"
             ],
             [
              0.2222222222222222,
              "#7201a8"
             ],
             [
              0.3333333333333333,
              "#9c179e"
             ],
             [
              0.4444444444444444,
              "#bd3786"
             ],
             [
              0.5555555555555556,
              "#d8576b"
             ],
             [
              0.6666666666666666,
              "#ed7953"
             ],
             [
              0.7777777777777778,
              "#fb9f3a"
             ],
             [
              0.8888888888888888,
              "#fdca26"
             ],
             [
              1,
              "#f0f921"
             ]
            ],
            "type": "histogram2d"
           }
          ],
          "histogram2dcontour": [
           {
            "colorbar": {
             "outlinewidth": 0,
             "ticks": ""
            },
            "colorscale": [
             [
              0,
              "#0d0887"
             ],
             [
              0.1111111111111111,
              "#46039f"
             ],
             [
              0.2222222222222222,
              "#7201a8"
             ],
             [
              0.3333333333333333,
              "#9c179e"
             ],
             [
              0.4444444444444444,
              "#bd3786"
             ],
             [
              0.5555555555555556,
              "#d8576b"
             ],
             [
              0.6666666666666666,
              "#ed7953"
             ],
             [
              0.7777777777777778,
              "#fb9f3a"
             ],
             [
              0.8888888888888888,
              "#fdca26"
             ],
             [
              1,
              "#f0f921"
             ]
            ],
            "type": "histogram2dcontour"
           }
          ],
          "mesh3d": [
           {
            "colorbar": {
             "outlinewidth": 0,
             "ticks": ""
            },
            "type": "mesh3d"
           }
          ],
          "parcoords": [
           {
            "line": {
             "colorbar": {
              "outlinewidth": 0,
              "ticks": ""
             }
            },
            "type": "parcoords"
           }
          ],
          "pie": [
           {
            "automargin": true,
            "type": "pie"
           }
          ],
          "scatter": [
           {
            "marker": {
             "colorbar": {
              "outlinewidth": 0,
              "ticks": ""
             }
            },
            "type": "scatter"
           }
          ],
          "scatter3d": [
           {
            "line": {
             "colorbar": {
              "outlinewidth": 0,
              "ticks": ""
             }
            },
            "marker": {
             "colorbar": {
              "outlinewidth": 0,
              "ticks": ""
             }
            },
            "type": "scatter3d"
           }
          ],
          "scattercarpet": [
           {
            "marker": {
             "colorbar": {
              "outlinewidth": 0,
              "ticks": ""
             }
            },
            "type": "scattercarpet"
           }
          ],
          "scattergeo": [
           {
            "marker": {
             "colorbar": {
              "outlinewidth": 0,
              "ticks": ""
             }
            },
            "type": "scattergeo"
           }
          ],
          "scattergl": [
           {
            "marker": {
             "colorbar": {
              "outlinewidth": 0,
              "ticks": ""
             }
            },
            "type": "scattergl"
           }
          ],
          "scattermapbox": [
           {
            "marker": {
             "colorbar": {
              "outlinewidth": 0,
              "ticks": ""
             }
            },
            "type": "scattermapbox"
           }
          ],
          "scatterpolar": [
           {
            "marker": {
             "colorbar": {
              "outlinewidth": 0,
              "ticks": ""
             }
            },
            "type": "scatterpolar"
           }
          ],
          "scatterpolargl": [
           {
            "marker": {
             "colorbar": {
              "outlinewidth": 0,
              "ticks": ""
             }
            },
            "type": "scatterpolargl"
           }
          ],
          "scatterternary": [
           {
            "marker": {
             "colorbar": {
              "outlinewidth": 0,
              "ticks": ""
             }
            },
            "type": "scatterternary"
           }
          ],
          "surface": [
           {
            "colorbar": {
             "outlinewidth": 0,
             "ticks": ""
            },
            "colorscale": [
             [
              0,
              "#0d0887"
             ],
             [
              0.1111111111111111,
              "#46039f"
             ],
             [
              0.2222222222222222,
              "#7201a8"
             ],
             [
              0.3333333333333333,
              "#9c179e"
             ],
             [
              0.4444444444444444,
              "#bd3786"
             ],
             [
              0.5555555555555556,
              "#d8576b"
             ],
             [
              0.6666666666666666,
              "#ed7953"
             ],
             [
              0.7777777777777778,
              "#fb9f3a"
             ],
             [
              0.8888888888888888,
              "#fdca26"
             ],
             [
              1,
              "#f0f921"
             ]
            ],
            "type": "surface"
           }
          ],
          "table": [
           {
            "cells": {
             "fill": {
              "color": "#EBF0F8"
             },
             "line": {
              "color": "white"
             }
            },
            "header": {
             "fill": {
              "color": "#C8D4E3"
             },
             "line": {
              "color": "white"
             }
            },
            "type": "table"
           }
          ]
         },
         "layout": {
          "annotationdefaults": {
           "arrowcolor": "#2a3f5f",
           "arrowhead": 0,
           "arrowwidth": 1
          },
          "autotypenumbers": "strict",
          "coloraxis": {
           "colorbar": {
            "outlinewidth": 0,
            "ticks": ""
           }
          },
          "colorscale": {
           "diverging": [
            [
             0,
             "#8e0152"
            ],
            [
             0.1,
             "#c51b7d"
            ],
            [
             0.2,
             "#de77ae"
            ],
            [
             0.3,
             "#f1b6da"
            ],
            [
             0.4,
             "#fde0ef"
            ],
            [
             0.5,
             "#f7f7f7"
            ],
            [
             0.6,
             "#e6f5d0"
            ],
            [
             0.7,
             "#b8e186"
            ],
            [
             0.8,
             "#7fbc41"
            ],
            [
             0.9,
             "#4d9221"
            ],
            [
             1,
             "#276419"
            ]
           ],
           "sequential": [
            [
             0,
             "#0d0887"
            ],
            [
             0.1111111111111111,
             "#46039f"
            ],
            [
             0.2222222222222222,
             "#7201a8"
            ],
            [
             0.3333333333333333,
             "#9c179e"
            ],
            [
             0.4444444444444444,
             "#bd3786"
            ],
            [
             0.5555555555555556,
             "#d8576b"
            ],
            [
             0.6666666666666666,
             "#ed7953"
            ],
            [
             0.7777777777777778,
             "#fb9f3a"
            ],
            [
             0.8888888888888888,
             "#fdca26"
            ],
            [
             1,
             "#f0f921"
            ]
           ],
           "sequentialminus": [
            [
             0,
             "#0d0887"
            ],
            [
             0.1111111111111111,
             "#46039f"
            ],
            [
             0.2222222222222222,
             "#7201a8"
            ],
            [
             0.3333333333333333,
             "#9c179e"
            ],
            [
             0.4444444444444444,
             "#bd3786"
            ],
            [
             0.5555555555555556,
             "#d8576b"
            ],
            [
             0.6666666666666666,
             "#ed7953"
            ],
            [
             0.7777777777777778,
             "#fb9f3a"
            ],
            [
             0.8888888888888888,
             "#fdca26"
            ],
            [
             1,
             "#f0f921"
            ]
           ]
          },
          "colorway": [
           "#636efa",
           "#EF553B",
           "#00cc96",
           "#ab63fa",
           "#FFA15A",
           "#19d3f3",
           "#FF6692",
           "#B6E880",
           "#FF97FF",
           "#FECB52"
          ],
          "font": {
           "color": "#2a3f5f"
          },
          "geo": {
           "bgcolor": "white",
           "lakecolor": "white",
           "landcolor": "#E5ECF6",
           "showlakes": true,
           "showland": true,
           "subunitcolor": "white"
          },
          "hoverlabel": {
           "align": "left"
          },
          "hovermode": "closest",
          "mapbox": {
           "style": "light"
          },
          "paper_bgcolor": "white",
          "plot_bgcolor": "#E5ECF6",
          "polar": {
           "angularaxis": {
            "gridcolor": "white",
            "linecolor": "white",
            "ticks": ""
           },
           "bgcolor": "#E5ECF6",
           "radialaxis": {
            "gridcolor": "white",
            "linecolor": "white",
            "ticks": ""
           }
          },
          "scene": {
           "xaxis": {
            "backgroundcolor": "#E5ECF6",
            "gridcolor": "white",
            "gridwidth": 2,
            "linecolor": "white",
            "showbackground": true,
            "ticks": "",
            "zerolinecolor": "white"
           },
           "yaxis": {
            "backgroundcolor": "#E5ECF6",
            "gridcolor": "white",
            "gridwidth": 2,
            "linecolor": "white",
            "showbackground": true,
            "ticks": "",
            "zerolinecolor": "white"
           },
           "zaxis": {
            "backgroundcolor": "#E5ECF6",
            "gridcolor": "white",
            "gridwidth": 2,
            "linecolor": "white",
            "showbackground": true,
            "ticks": "",
            "zerolinecolor": "white"
           }
          },
          "shapedefaults": {
           "line": {
            "color": "#2a3f5f"
           }
          },
          "ternary": {
           "aaxis": {
            "gridcolor": "white",
            "linecolor": "white",
            "ticks": ""
           },
           "baxis": {
            "gridcolor": "white",
            "linecolor": "white",
            "ticks": ""
           },
           "bgcolor": "#E5ECF6",
           "caxis": {
            "gridcolor": "white",
            "linecolor": "white",
            "ticks": ""
           }
          },
          "title": {
           "x": 0.05
          },
          "xaxis": {
           "automargin": true,
           "gridcolor": "white",
           "linecolor": "white",
           "ticks": "",
           "title": {
            "standoff": 15
           },
           "zerolinecolor": "white",
           "zerolinewidth": 2
          },
          "yaxis": {
           "automargin": true,
           "gridcolor": "white",
           "linecolor": "white",
           "ticks": "",
           "title": {
            "standoff": 15
           },
           "zerolinecolor": "white",
           "zerolinewidth": 2
          }
         }
        },
        "title": {
         "text": "World Map View"
        }
       }
      }
     },
     "metadata": {}
    }
   ],
   "source": [
    "# Making the figure\n",
    "fig = px.choropleth(df_country_code, locations='c_code',\n",
    "                    color='Ladder score',\n",
    "                    hover_name='Country',\n",
    "                    hover_data={'c_code':False,\n",
    "                               'GDP per capita': True,\n",
    "                               'Life Expectancy': True,\n",
    "                               'Freedom': True},\n",
    "                    color_continuous_scale=col_code,\n",
    "                    labels={'Ladder score': 'Happiness Score'},\n",
    "                    title='World Map View'\n",
    "                   )\n",
    "fig.update_traces(showlegend=False)\n",
    "fig.show()"
   ]
  },
  {
   "cell_type": "markdown",
   "id": "a5d43a8d",
   "metadata": {},
   "source": [
    "### Happiness Score vs Life Expetency vs GDP per capita"
   ]
  },
  {
   "cell_type": "code",
   "execution_count": 58,
   "id": "0bb71ce8",
   "metadata": {},
   "outputs": [
    {
     "output_type": "display_data",
     "data": {
      "application/vnd.plotly.v1+json": {
       "config": {
        "plotlyServerURL": "https://plot.ly"
       },
       "data": [
        {
         "hovertemplate": "<b>%{hovertext}</b><br><br>Regional indicator=Western Europe<br>Life Expectancy=%{x}<br>Happiness Score=%{y}<br>GDP per capita=%{marker.size}<extra></extra>",
         "hovertext": [
          "Finland",
          "Denmark",
          "Switzerland",
          "Iceland",
          "Netherlands",
          "Norway",
          "Sweden",
          "Luxembourg",
          "Austria",
          "Germany",
          "Ireland",
          "United Kingdom",
          "Belgium",
          "France",
          "Malta",
          "Spain",
          "Italy",
          "Cyprus",
          "Portugal",
          "Greece",
          "North Cyprus"
         ],
         "legendgroup": "Western Europe",
         "marker": {
          "color": "#636efa",
          "opacity": 0.7,
          "size": [
           10.775,
           10.933,
           11.117,
           10.878,
           10.932,
           11.053,
           10.867,
           11.647,
           10.906,
           10.873,
           11.342,
           10.707,
           10.823,
           10.704,
           10.674,
           10.571,
           10.623,
           10.576,
           10.421,
           10.279,
           10.576
          ],
          "sizemode": "diameter",
          "sizeref": 0.23769387755102042,
          "symbol": "circle"
         },
         "mode": "markers",
         "name": "Western Europe",
         "orientation": "v",
         "showlegend": true,
         "type": "scatter",
         "x": [
          72,
          72.7,
          74.4,
          73,
          72.4,
          73.3,
          72.7,
          72.6,
          73.3,
          72.5,
          72.4,
          72.5,
          72.199,
          74,
          72.2,
          74.7,
          73.8,
          73.898,
          72.6,
          72.6,
          73.898
         ],
         "xaxis": "x",
         "y": [
          7.842,
          7.62,
          7.571,
          7.554,
          7.464,
          7.392,
          7.363,
          7.324,
          7.268,
          7.155,
          7.085,
          7.064,
          6.834,
          6.69,
          6.602,
          6.491,
          6.483,
          6.223,
          5.929,
          5.723,
          5.536
         ],
         "yaxis": "y"
        },
        {
         "hovertemplate": "<b>%{hovertext}</b><br><br>Regional indicator=North America and ANZ<br>Life Expectancy=%{x}<br>Happiness Score=%{y}<br>GDP per capita=%{marker.size}<extra></extra>",
         "hovertext": [
          "New Zealand",
          "Australia",
          "Canada",
          "United States"
         ],
         "legendgroup": "North America and ANZ",
         "marker": {
          "color": "#EF553B",
          "opacity": 0.7,
          "size": [
           10.643,
           10.796,
           10.776,
           11.023
          ],
          "sizemode": "diameter",
          "sizeref": 0.23769387755102042,
          "symbol": "circle"
         },
         "mode": "markers",
         "name": "North America and ANZ",
         "orientation": "v",
         "showlegend": true,
         "type": "scatter",
         "x": [
          73.4,
          73.9,
          73.8,
          68.2
         ],
         "xaxis": "x",
         "y": [
          7.277,
          7.183,
          7.103,
          6.951
         ],
         "yaxis": "y"
        },
        {
         "hovertemplate": "<b>%{hovertext}</b><br><br>Regional indicator=Middle East and North Africa<br>Life Expectancy=%{x}<br>Happiness Score=%{y}<br>GDP per capita=%{marker.size}<extra></extra>",
         "hovertext": [
          "Israel",
          "Bahrain",
          "United Arab Emirates",
          "Saudi Arabia",
          "Kuwait",
          "Libya",
          "Turkey",
          "Morocco",
          "Algeria",
          "Iraq",
          "Iran",
          "Tunisia",
          "Lebanon",
          "Palestinian Territories",
          "Jordan",
          "Egypt",
          "Yemen"
         ],
         "legendgroup": "Middle East and North Africa",
         "marker": {
          "color": "#00cc96",
          "opacity": 0.7,
          "size": [
           10.575,
           10.669,
           11.085,
           10.743,
           10.817,
           9.622,
           10.24,
           8.903,
           9.342,
           9.24,
           9.584,
           9.266,
           9.626,
           8.485,
           9.182,
           9.367,
           7.578
          ],
          "sizemode": "diameter",
          "sizeref": 0.23769387755102042,
          "symbol": "circle"
         },
         "mode": "markers",
         "name": "Middle East and North Africa",
         "orientation": "v",
         "showlegend": true,
         "type": "scatter",
         "x": [
          73.503,
          69.495,
          67.333,
          66.603,
          66.9,
          62.3,
          67.199,
          66.208,
          66.005,
          60.583,
          66.3,
          67.201,
          67.355,
          62.25,
          67,
          61.998,
          57.122
         ],
         "xaxis": "x",
         "y": [
          7.157,
          6.647,
          6.561,
          6.494,
          6.106,
          5.41,
          4.948,
          4.918,
          4.887,
          4.854,
          4.721,
          4.596,
          4.584,
          4.517,
          4.395,
          4.283,
          3.658
         ],
         "yaxis": "y"
        },
        {
         "hovertemplate": "<b>%{hovertext}</b><br><br>Regional indicator=Latin America and Caribbean<br>Life Expectancy=%{x}<br>Happiness Score=%{y}<br>GDP per capita=%{marker.size}<extra></extra>",
         "hovertext": [
          "Costa Rica",
          "Guatemala",
          "Uruguay",
          "Brazil",
          "Mexico",
          "Jamaica",
          "Panama",
          "Chile",
          "El Salvador",
          "Colombia",
          "Nicaragua",
          "Argentina",
          "Honduras",
          "Peru",
          "Ecuador",
          "Bolivia",
          "Paraguay",
          "Dominican Republic",
          "Venezuela",
          "Haiti"
         ],
         "legendgroup": "Latin America and Caribbean",
         "marker": {
          "color": "#ab63fa",
          "opacity": 0.7,
          "size": [
           9.88,
           9.053,
           9.966,
           9.577,
           9.859,
           9.186,
           10.35,
           10.071,
           9.054,
           9.557,
           8.62,
           9.962,
           8.648,
           9.458,
           9.313,
           9.046,
           9.448,
           9.802,
           9.073,
           7.477
          ],
          "sizemode": "diameter",
          "sizeref": 0.23769387755102042,
          "symbol": "circle"
         },
         "mode": "markers",
         "name": "Latin America and Caribbean",
         "orientation": "v",
         "showlegend": true,
         "type": "scatter",
         "x": [
          71.4,
          64.958,
          69.1,
          66.601,
          68.597,
          67.5,
          69.652,
          70,
          66.402,
          68.001,
          67.657,
          69,
          67.3,
          68.25,
          68.8,
          63.901,
          65.9,
          66.102,
          66.7,
          55.7
         ],
         "xaxis": "x",
         "y": [
          7.069,
          6.435,
          6.431,
          6.33,
          6.317,
          6.309,
          6.18,
          6.172,
          6.061,
          6.012,
          5.972,
          5.929,
          5.919,
          5.84,
          5.764,
          5.716,
          5.653,
          5.545,
          4.892,
          3.615
         ],
         "yaxis": "y"
        },
        {
         "hovertemplate": "<b>%{hovertext}</b><br><br>Regional indicator=Central and Eastern Europe<br>Life Expectancy=%{x}<br>Happiness Score=%{y}<br>GDP per capita=%{marker.size}<extra></extra>",
         "hovertext": [
          "Czech Republic",
          "Slovenia",
          "Kosovo",
          "Slovakia",
          "Lithuania",
          "Estonia",
          "Poland",
          "Romania",
          "Serbia",
          "Latvia",
          "Hungary",
          "Croatia",
          "Bosnia and Herzegovina",
          "Montenegro",
          "Bulgaria",
          "Albania",
          "North Macedonia"
         ],
         "legendgroup": "Central and Eastern Europe",
         "marker": {
          "color": "#FFA15A",
          "opacity": 0.7,
          "size": [
           10.556,
           10.529,
           9.318,
           10.369,
           10.499,
           10.481,
           10.382,
           10.284,
           9.787,
           10.315,
           10.358,
           10.217,
           9.59,
           9.94,
           10.016,
           9.52,
           9.693
          ],
          "sizemode": "diameter",
          "sizeref": 0.23769387755102042,
          "symbol": "circle"
         },
         "mode": "markers",
         "name": "Central and Eastern Europe",
         "orientation": "v",
         "showlegend": true,
         "type": "scatter",
         "x": [
          70.807,
          71.4,
          63.813,
          69.201,
          67.906,
          68.8,
          69.702,
          67.355,
          68.6,
          67.1,
          68,
          70.799,
          68.098,
          68.699,
          67,
          68.999,
          65.474
         ],
         "xaxis": "x",
         "y": [
          6.965,
          6.461,
          6.372,
          6.331,
          6.255,
          6.189,
          6.166,
          6.14,
          6.078,
          6.032,
          5.992,
          5.882,
          5.813,
          5.581,
          5.266,
          5.117,
          5.101
         ],
         "yaxis": "y"
        },
        {
         "hovertemplate": "<b>%{hovertext}</b><br><br>Regional indicator=East Asia<br>Life Expectancy=%{x}<br>Happiness Score=%{y}<br>GDP per capita=%{marker.size}<extra></extra>",
         "hovertext": [
          "Taiwan Province of China",
          "Japan",
          "South Korea",
          "Mongolia",
          "Hong Kong S.A.R. of China",
          "China"
         ],
         "legendgroup": "East Asia",
         "marker": {
          "color": "#19d3f3",
          "opacity": 0.7,
          "size": [
           10.871,
           10.611,
           10.651,
           9.4,
           11,
           9.673
          ],
          "sizemode": "diameter",
          "sizeref": 0.23769387755102042,
          "symbol": "circle"
         },
         "mode": "markers",
         "name": "East Asia",
         "orientation": "v",
         "showlegend": true,
         "type": "scatter",
         "x": [
          69.6,
          75.1,
          73.9,
          62.5,
          76.82,
          69.593
         ],
         "xaxis": "x",
         "y": [
          6.584,
          5.94,
          5.845,
          5.677,
          5.477,
          5.339
         ],
         "yaxis": "y"
        },
        {
         "hovertemplate": "<b>%{hovertext}</b><br><br>Regional indicator=Southeast Asia<br>Life Expectancy=%{x}<br>Happiness Score=%{y}<br>GDP per capita=%{marker.size}<extra></extra>",
         "hovertext": [
          "Singapore",
          "Thailand",
          "Philippines",
          "Vietnam",
          "Malaysia",
          "Indonesia",
          "Laos",
          "Cambodia",
          "Myanmar"
         ],
         "legendgroup": "Southeast Asia",
         "marker": {
          "color": "#FF6692",
          "opacity": 0.7,
          "size": [
           11.488,
           9.805,
           9.076,
           8.973,
           10.238,
           9.365,
           8.947,
           8.36,
           8.541
          ],
          "sizemode": "diameter",
          "sizeref": 0.23769387755102042,
          "symbol": "circle"
         },
         "mode": "markers",
         "name": "Southeast Asia",
         "orientation": "v",
         "showlegend": true,
         "type": "scatter",
         "x": [
          76.953,
          67.401,
          62,
          68.034,
          67.102,
          62.236,
          58.968,
          62,
          59.302
         ],
         "xaxis": "x",
         "y": [
          6.377,
          5.985,
          5.88,
          5.411,
          5.384,
          5.345,
          5.03,
          4.83,
          4.426
         ],
         "yaxis": "y"
        },
        {
         "hovertemplate": "<b>%{hovertext}</b><br><br>Regional indicator=Commonwealth of Independent States<br>Life Expectancy=%{x}<br>Happiness Score=%{y}<br>GDP per capita=%{marker.size}<extra></extra>",
         "hovertext": [
          "Uzbekistan",
          "Kazakhstan",
          "Moldova",
          "Kyrgyzstan",
          "Belarus",
          "Russia",
          "Tajikistan",
          "Armenia",
          "Azerbaijan",
          "Turkmenistan",
          "Georgia",
          "Ukraine"
         ],
         "legendgroup": "Commonwealth of Independent States",
         "marker": {
          "color": "#B6E880",
          "opacity": 0.7,
          "size": [
           8.836,
           10.155,
           9.454,
           8.538,
           9.853,
           10.189,
           8.091,
           9.487,
           9.569,
           9.629,
           9.585,
           9.436
          ],
          "sizemode": "diameter",
          "sizeref": 0.23769387755102042,
          "symbol": "circle"
         },
         "mode": "markers",
         "name": "Commonwealth of Independent States",
         "orientation": "v",
         "showlegend": true,
         "type": "scatter",
         "x": [
          65.255,
          65.2,
          65.699,
          64.401,
          66.253,
          64.703,
          64.281,
          67.055,
          65.656,
          62.409,
          64.3,
          64.902
         ],
         "xaxis": "x",
         "y": [
          6.179,
          6.152,
          5.766,
          5.744,
          5.534,
          5.477,
          5.466,
          5.283,
          5.171,
          5.066,
          4.891,
          4.875
         ],
         "yaxis": "y"
        },
        {
         "hovertemplate": "<b>%{hovertext}</b><br><br>Regional indicator=Sub-Saharan Africa<br>Life Expectancy=%{x}<br>Happiness Score=%{y}<br>GDP per capita=%{marker.size}<extra></extra>",
         "hovertext": [
          "Mauritius",
          "Congo (Brazzaville)",
          "Ivory Coast",
          "Cameroon",
          "Senegal",
          "Ghana",
          "Niger",
          "Gambia",
          "Benin",
          "Guinea",
          "South Africa",
          "Gabon",
          "Burkina Faso",
          "Mozambique",
          "Nigeria",
          "Mali",
          "Uganda",
          "Liberia",
          "Kenya",
          "Namibia",
          "Chad",
          "Swaziland",
          "Comoros",
          "Ethiopia",
          "Mauritania",
          "Madagascar",
          "Togo",
          "Zambia",
          "Sierra Leone",
          "Burundi",
          "Tanzania",
          "Malawi",
          "Lesotho",
          "Botswana",
          "Rwanda",
          "Zimbabwe"
         ],
         "legendgroup": "Sub-Saharan Africa",
         "marker": {
          "color": "#FF97FF",
          "opacity": 0.7,
          "size": [
           10.008,
           8.117,
           8.551,
           8.189,
           8.118,
           8.58,
           7.098,
           7.686,
           8.087,
           7.838,
           9.403,
           9.603,
           7.678,
           7.158,
           8.533,
           7.744,
           7.677,
           7.288,
           8.361,
           9.161,
           7.364,
           9.065,
           8.031,
           7.694,
           8.542,
           7.396,
           7.362,
           8.145,
           7.434,
           6.635,
           7.876,
           6.958,
           7.926,
           9.782,
           7.676,
           7.943
          ],
          "sizemode": "diameter",
          "sizeref": 0.23769387755102042,
          "symbol": "circle"
         },
         "mode": "markers",
         "name": "Sub-Saharan Africa",
         "orientation": "v",
         "showlegend": true,
         "type": "scatter",
         "x": [
          66.701,
          58.221,
          50.114,
          53.515,
          59.802,
          57.586,
          53.78,
          55.16,
          54.713,
          55.008,
          56.904,
          59.962,
          54.151,
          54.706,
          50.102,
          51.969,
          56.101,
          56.498,
          60.704,
          56.799,
          48.478,
          50.833,
          57.349,
          59,
          57.161,
          59.305,
          54.914,
          55.809,
          51.651,
          53.4,
          57.999,
          57.948,
          48.7,
          59.269,
          61.4,
          56.201
         ],
         "xaxis": "x",
         "y": [
          6.049,
          5.342,
          5.306,
          5.142,
          5.132,
          5.088,
          5.074,
          5.051,
          5.045,
          4.984,
          4.956,
          4.852,
          4.834,
          4.794,
          4.759,
          4.723,
          4.636,
          4.625,
          4.607,
          4.574,
          4.355,
          4.308,
          4.289,
          4.275,
          4.227,
          4.208,
          4.107,
          4.073,
          3.849,
          3.775,
          3.623,
          3.6,
          3.512,
          3.467,
          3.415,
          3.145
         ],
         "yaxis": "y"
        },
        {
         "hovertemplate": "<b>%{hovertext}</b><br><br>Regional indicator=South Asia<br>Life Expectancy=%{x}<br>Happiness Score=%{y}<br>GDP per capita=%{marker.size}<extra></extra>",
         "hovertext": [
          "Nepal",
          "Maldives",
          "Bangladesh",
          "Pakistan",
          "Sri Lanka",
          "India",
          "Afghanistan"
         ],
         "legendgroup": "South Asia",
         "marker": {
          "color": "#FECB52",
          "opacity": 0.7,
          "size": [
           8.12,
           9.826,
           8.454,
           8.458,
           9.47,
           8.755,
           7.695
          ],
          "sizemode": "diameter",
          "sizeref": 0.23769387755102042,
          "symbol": "circle"
         },
         "mode": "markers",
         "name": "South Asia",
         "orientation": "v",
         "showlegend": true,
         "type": "scatter",
         "x": [
          64.233,
          70.6,
          64.8,
          58.709,
          67.299,
          60.633,
          52.493
         ],
         "xaxis": "x",
         "y": [
          5.269,
          5.198,
          5.025,
          4.934,
          4.325,
          3.819,
          2.523
         ],
         "yaxis": "y"
        }
       ],
       "layout": {
        "legend": {
         "itemsizing": "constant",
         "title": {
          "text": "Regional indicator"
         },
         "tracegroupgap": 0
        },
        "template": {
         "data": {
          "bar": [
           {
            "error_x": {
             "color": "#2a3f5f"
            },
            "error_y": {
             "color": "#2a3f5f"
            },
            "marker": {
             "line": {
              "color": "#E5ECF6",
              "width": 0.5
             }
            },
            "type": "bar"
           }
          ],
          "barpolar": [
           {
            "marker": {
             "line": {
              "color": "#E5ECF6",
              "width": 0.5
             }
            },
            "type": "barpolar"
           }
          ],
          "carpet": [
           {
            "aaxis": {
             "endlinecolor": "#2a3f5f",
             "gridcolor": "white",
             "linecolor": "white",
             "minorgridcolor": "white",
             "startlinecolor": "#2a3f5f"
            },
            "baxis": {
             "endlinecolor": "#2a3f5f",
             "gridcolor": "white",
             "linecolor": "white",
             "minorgridcolor": "white",
             "startlinecolor": "#2a3f5f"
            },
            "type": "carpet"
           }
          ],
          "choropleth": [
           {
            "colorbar": {
             "outlinewidth": 0,
             "ticks": ""
            },
            "type": "choropleth"
           }
          ],
          "contour": [
           {
            "colorbar": {
             "outlinewidth": 0,
             "ticks": ""
            },
            "colorscale": [
             [
              0,
              "#0d0887"
             ],
             [
              0.1111111111111111,
              "#46039f"
             ],
             [
              0.2222222222222222,
              "#7201a8"
             ],
             [
              0.3333333333333333,
              "#9c179e"
             ],
             [
              0.4444444444444444,
              "#bd3786"
             ],
             [
              0.5555555555555556,
              "#d8576b"
             ],
             [
              0.6666666666666666,
              "#ed7953"
             ],
             [
              0.7777777777777778,
              "#fb9f3a"
             ],
             [
              0.8888888888888888,
              "#fdca26"
             ],
             [
              1,
              "#f0f921"
             ]
            ],
            "type": "contour"
           }
          ],
          "contourcarpet": [
           {
            "colorbar": {
             "outlinewidth": 0,
             "ticks": ""
            },
            "type": "contourcarpet"
           }
          ],
          "heatmap": [
           {
            "colorbar": {
             "outlinewidth": 0,
             "ticks": ""
            },
            "colorscale": [
             [
              0,
              "#0d0887"
             ],
             [
              0.1111111111111111,
              "#46039f"
             ],
             [
              0.2222222222222222,
              "#7201a8"
             ],
             [
              0.3333333333333333,
              "#9c179e"
             ],
             [
              0.4444444444444444,
              "#bd3786"
             ],
             [
              0.5555555555555556,
              "#d8576b"
             ],
             [
              0.6666666666666666,
              "#ed7953"
             ],
             [
              0.7777777777777778,
              "#fb9f3a"
             ],
             [
              0.8888888888888888,
              "#fdca26"
             ],
             [
              1,
              "#f0f921"
             ]
            ],
            "type": "heatmap"
           }
          ],
          "heatmapgl": [
           {
            "colorbar": {
             "outlinewidth": 0,
             "ticks": ""
            },
            "colorscale": [
             [
              0,
              "#0d0887"
             ],
             [
              0.1111111111111111,
              "#46039f"
             ],
             [
              0.2222222222222222,
              "#7201a8"
             ],
             [
              0.3333333333333333,
              "#9c179e"
             ],
             [
              0.4444444444444444,
              "#bd3786"
             ],
             [
              0.5555555555555556,
              "#d8576b"
             ],
             [
              0.6666666666666666,
              "#ed7953"
             ],
             [
              0.7777777777777778,
              "#fb9f3a"
             ],
             [
              0.8888888888888888,
              "#fdca26"
             ],
             [
              1,
              "#f0f921"
             ]
            ],
            "type": "heatmapgl"
           }
          ],
          "histogram": [
           {
            "marker": {
             "colorbar": {
              "outlinewidth": 0,
              "ticks": ""
             }
            },
            "type": "histogram"
           }
          ],
          "histogram2d": [
           {
            "colorbar": {
             "outlinewidth": 0,
             "ticks": ""
            },
            "colorscale": [
             [
              0,
              "#0d0887"
             ],
             [
              0.1111111111111111,
              "#46039f"
             ],
             [
              0.2222222222222222,
              "#7201a8"
             ],
             [
              0.3333333333333333,
              "#9c179e"
             ],
             [
              0.4444444444444444,
              "#bd3786"
             ],
             [
              0.5555555555555556,
              "#d8576b"
             ],
             [
              0.6666666666666666,
              "#ed7953"
             ],
             [
              0.7777777777777778,
              "#fb9f3a"
             ],
             [
              0.8888888888888888,
              "#fdca26"
             ],
             [
              1,
              "#f0f921"
             ]
            ],
            "type": "histogram2d"
           }
          ],
          "histogram2dcontour": [
           {
            "colorbar": {
             "outlinewidth": 0,
             "ticks": ""
            },
            "colorscale": [
             [
              0,
              "#0d0887"
             ],
             [
              0.1111111111111111,
              "#46039f"
             ],
             [
              0.2222222222222222,
              "#7201a8"
             ],
             [
              0.3333333333333333,
              "#9c179e"
             ],
             [
              0.4444444444444444,
              "#bd3786"
             ],
             [
              0.5555555555555556,
              "#d8576b"
             ],
             [
              0.6666666666666666,
              "#ed7953"
             ],
             [
              0.7777777777777778,
              "#fb9f3a"
             ],
             [
              0.8888888888888888,
              "#fdca26"
             ],
             [
              1,
              "#f0f921"
             ]
            ],
            "type": "histogram2dcontour"
           }
          ],
          "mesh3d": [
           {
            "colorbar": {
             "outlinewidth": 0,
             "ticks": ""
            },
            "type": "mesh3d"
           }
          ],
          "parcoords": [
           {
            "line": {
             "colorbar": {
              "outlinewidth": 0,
              "ticks": ""
             }
            },
            "type": "parcoords"
           }
          ],
          "pie": [
           {
            "automargin": true,
            "type": "pie"
           }
          ],
          "scatter": [
           {
            "marker": {
             "colorbar": {
              "outlinewidth": 0,
              "ticks": ""
             }
            },
            "type": "scatter"
           }
          ],
          "scatter3d": [
           {
            "line": {
             "colorbar": {
              "outlinewidth": 0,
              "ticks": ""
             }
            },
            "marker": {
             "colorbar": {
              "outlinewidth": 0,
              "ticks": ""
             }
            },
            "type": "scatter3d"
           }
          ],
          "scattercarpet": [
           {
            "marker": {
             "colorbar": {
              "outlinewidth": 0,
              "ticks": ""
             }
            },
            "type": "scattercarpet"
           }
          ],
          "scattergeo": [
           {
            "marker": {
             "colorbar": {
              "outlinewidth": 0,
              "ticks": ""
             }
            },
            "type": "scattergeo"
           }
          ],
          "scattergl": [
           {
            "marker": {
             "colorbar": {
              "outlinewidth": 0,
              "ticks": ""
             }
            },
            "type": "scattergl"
           }
          ],
          "scattermapbox": [
           {
            "marker": {
             "colorbar": {
              "outlinewidth": 0,
              "ticks": ""
             }
            },
            "type": "scattermapbox"
           }
          ],
          "scatterpolar": [
           {
            "marker": {
             "colorbar": {
              "outlinewidth": 0,
              "ticks": ""
             }
            },
            "type": "scatterpolar"
           }
          ],
          "scatterpolargl": [
           {
            "marker": {
             "colorbar": {
              "outlinewidth": 0,
              "ticks": ""
             }
            },
            "type": "scatterpolargl"
           }
          ],
          "scatterternary": [
           {
            "marker": {
             "colorbar": {
              "outlinewidth": 0,
              "ticks": ""
             }
            },
            "type": "scatterternary"
           }
          ],
          "surface": [
           {
            "colorbar": {
             "outlinewidth": 0,
             "ticks": ""
            },
            "colorscale": [
             [
              0,
              "#0d0887"
             ],
             [
              0.1111111111111111,
              "#46039f"
             ],
             [
              0.2222222222222222,
              "#7201a8"
             ],
             [
              0.3333333333333333,
              "#9c179e"
             ],
             [
              0.4444444444444444,
              "#bd3786"
             ],
             [
              0.5555555555555556,
              "#d8576b"
             ],
             [
              0.6666666666666666,
              "#ed7953"
             ],
             [
              0.7777777777777778,
              "#fb9f3a"
             ],
             [
              0.8888888888888888,
              "#fdca26"
             ],
             [
              1,
              "#f0f921"
             ]
            ],
            "type": "surface"
           }
          ],
          "table": [
           {
            "cells": {
             "fill": {
              "color": "#EBF0F8"
             },
             "line": {
              "color": "white"
             }
            },
            "header": {
             "fill": {
              "color": "#C8D4E3"
             },
             "line": {
              "color": "white"
             }
            },
            "type": "table"
           }
          ]
         },
         "layout": {
          "annotationdefaults": {
           "arrowcolor": "#2a3f5f",
           "arrowhead": 0,
           "arrowwidth": 1
          },
          "autotypenumbers": "strict",
          "coloraxis": {
           "colorbar": {
            "outlinewidth": 0,
            "ticks": ""
           }
          },
          "colorscale": {
           "diverging": [
            [
             0,
             "#8e0152"
            ],
            [
             0.1,
             "#c51b7d"
            ],
            [
             0.2,
             "#de77ae"
            ],
            [
             0.3,
             "#f1b6da"
            ],
            [
             0.4,
             "#fde0ef"
            ],
            [
             0.5,
             "#f7f7f7"
            ],
            [
             0.6,
             "#e6f5d0"
            ],
            [
             0.7,
             "#b8e186"
            ],
            [
             0.8,
             "#7fbc41"
            ],
            [
             0.9,
             "#4d9221"
            ],
            [
             1,
             "#276419"
            ]
           ],
           "sequential": [
            [
             0,
             "#0d0887"
            ],
            [
             0.1111111111111111,
             "#46039f"
            ],
            [
             0.2222222222222222,
             "#7201a8"
            ],
            [
             0.3333333333333333,
             "#9c179e"
            ],
            [
             0.4444444444444444,
             "#bd3786"
            ],
            [
             0.5555555555555556,
             "#d8576b"
            ],
            [
             0.6666666666666666,
             "#ed7953"
            ],
            [
             0.7777777777777778,
             "#fb9f3a"
            ],
            [
             0.8888888888888888,
             "#fdca26"
            ],
            [
             1,
             "#f0f921"
            ]
           ],
           "sequentialminus": [
            [
             0,
             "#0d0887"
            ],
            [
             0.1111111111111111,
             "#46039f"
            ],
            [
             0.2222222222222222,
             "#7201a8"
            ],
            [
             0.3333333333333333,
             "#9c179e"
            ],
            [
             0.4444444444444444,
             "#bd3786"
            ],
            [
             0.5555555555555556,
             "#d8576b"
            ],
            [
             0.6666666666666666,
             "#ed7953"
            ],
            [
             0.7777777777777778,
             "#fb9f3a"
            ],
            [
             0.8888888888888888,
             "#fdca26"
            ],
            [
             1,
             "#f0f921"
            ]
           ]
          },
          "colorway": [
           "#636efa",
           "#EF553B",
           "#00cc96",
           "#ab63fa",
           "#FFA15A",
           "#19d3f3",
           "#FF6692",
           "#B6E880",
           "#FF97FF",
           "#FECB52"
          ],
          "font": {
           "color": "#2a3f5f"
          },
          "geo": {
           "bgcolor": "white",
           "lakecolor": "white",
           "landcolor": "#E5ECF6",
           "showlakes": true,
           "showland": true,
           "subunitcolor": "white"
          },
          "hoverlabel": {
           "align": "left"
          },
          "hovermode": "closest",
          "mapbox": {
           "style": "light"
          },
          "paper_bgcolor": "white",
          "plot_bgcolor": "#E5ECF6",
          "polar": {
           "angularaxis": {
            "gridcolor": "white",
            "linecolor": "white",
            "ticks": ""
           },
           "bgcolor": "#E5ECF6",
           "radialaxis": {
            "gridcolor": "white",
            "linecolor": "white",
            "ticks": ""
           }
          },
          "scene": {
           "xaxis": {
            "backgroundcolor": "#E5ECF6",
            "gridcolor": "white",
            "gridwidth": 2,
            "linecolor": "white",
            "showbackground": true,
            "ticks": "",
            "zerolinecolor": "white"
           },
           "yaxis": {
            "backgroundcolor": "#E5ECF6",
            "gridcolor": "white",
            "gridwidth": 2,
            "linecolor": "white",
            "showbackground": true,
            "ticks": "",
            "zerolinecolor": "white"
           },
           "zaxis": {
            "backgroundcolor": "#E5ECF6",
            "gridcolor": "white",
            "gridwidth": 2,
            "linecolor": "white",
            "showbackground": true,
            "ticks": "",
            "zerolinecolor": "white"
           }
          },
          "shapedefaults": {
           "line": {
            "color": "#2a3f5f"
           }
          },
          "ternary": {
           "aaxis": {
            "gridcolor": "white",
            "linecolor": "white",
            "ticks": ""
           },
           "baxis": {
            "gridcolor": "white",
            "linecolor": "white",
            "ticks": ""
           },
           "bgcolor": "#E5ECF6",
           "caxis": {
            "gridcolor": "white",
            "linecolor": "white",
            "ticks": ""
           }
          },
          "title": {
           "x": 0.05
          },
          "xaxis": {
           "automargin": true,
           "gridcolor": "white",
           "linecolor": "white",
           "ticks": "",
           "title": {
            "standoff": 15
           },
           "zerolinecolor": "white",
           "zerolinewidth": 2
          },
          "yaxis": {
           "automargin": true,
           "gridcolor": "white",
           "linecolor": "white",
           "ticks": "",
           "title": {
            "standoff": 15
           },
           "zerolinecolor": "white",
           "zerolinewidth": 2
          }
         }
        },
        "title": {
         "text": "Ladder Score vs Life Expectancy vs GDP per capita in various Countries:                  <br>Size of Bubble describes GDP per Capita"
        },
        "xaxis": {
         "anchor": "y",
         "domain": [
          0,
          1
         ],
         "title": {
          "text": "Life Expectancy"
         }
        },
        "yaxis": {
         "anchor": "x",
         "domain": [
          0,
          1
         ],
         "title": {
          "text": "Happiness Score"
         }
        }
       }
      }
     },
     "metadata": {}
    }
   ],
   "source": [
    "fig = px.scatter(df1,\n",
    "    x=\"Life Expectancy\", y=\"Ladder score\", size=\"GDP per capita\", color=\"Regional indicator\",\n",
    "    labels={\"Ladder score\": 'Happiness Score'},size_max=7,\n",
    "    title=\"Ladder Score vs Life Expectancy vs GDP per capita in various Countries: \\\n",
    "                 <br>Size of Bubble describes GDP per Capita\",\n",
    "                 hover_name='Country',\n",
    "                 opacity=0.7)\n",
    "fig.update_traces(marker_sizemode='diameter')\n",
    "fig.show()"
   ]
  },
  {
   "cell_type": "markdown",
   "id": "5e0de3e6",
   "metadata": {},
   "source": [
    "We can see that Most Western Europe has Higher Life Expectancy with higher Happiness Index. While Sub-Saharan Africa has comparatively lower Life Expectancy & lower Happiness Index Score. Commonwealth of Independent States are clustered mostly in the middle.\n",
    "\n",
    "The Scatterplot seems linear, We can assume countries with Happier people tend to live longer."
   ]
  },
  {
   "cell_type": "markdown",
   "id": "65b25269",
   "metadata": {},
   "source": [
    "### Happiness index vs Corruption vs Freedom in different Region"
   ]
  },
  {
   "cell_type": "code",
   "execution_count": 59,
   "id": "5e23e793",
   "metadata": {},
   "outputs": [
    {
     "output_type": "display_data",
     "data": {
      "application/vnd.plotly.v1+json": {
       "config": {
        "plotlyServerURL": "https://plot.ly"
       },
       "data": [
        {
         "hovertemplate": "<b>%{hovertext}</b><br><br>Regional indicator=Western Europe<br>Freedom=%{x}<br>Corruption=%{y}<br>Happiness index Score=%{marker.size}<extra></extra>",
         "hovertext": [
          "Finland",
          "Denmark",
          "Switzerland",
          "Iceland",
          "Netherlands",
          "Norway",
          "Sweden",
          "Luxembourg",
          "Austria",
          "Germany",
          "Ireland",
          "United Kingdom",
          "Belgium",
          "France",
          "Malta",
          "Spain",
          "Italy",
          "Cyprus",
          "Portugal",
          "Greece",
          "North Cyprus"
         ],
         "legendgroup": "Western Europe",
         "marker": {
          "color": "#636efa",
          "opacity": 0.7,
          "size": [
           7.842,
           7.62,
           7.571,
           7.554,
           7.464,
           7.392,
           7.363,
           7.324,
           7.268,
           7.155,
           7.085,
           7.064,
           6.834,
           6.69,
           6.602,
           6.491,
           6.483,
           6.223,
           5.929,
           5.723,
           5.536
          ],
          "sizemode": "diameter",
          "sizeref": 0.1600408163265306,
          "symbol": "circle"
         },
         "mode": "markers",
         "name": "Western Europe",
         "orientation": "v",
         "showlegend": true,
         "type": "scatter",
         "x": [
          0.949,
          0.946,
          0.919,
          0.955,
          0.913,
          0.96,
          0.945,
          0.907,
          0.908,
          0.875,
          0.879,
          0.859,
          0.783,
          0.822,
          0.927,
          0.761,
          0.693,
          0.763,
          0.892,
          0.582,
          0.795
         ],
         "xaxis": "x",
         "y": [
          0.186,
          0.179,
          0.292,
          0.673,
          0.338,
          0.27,
          0.237,
          0.386,
          0.481,
          0.46,
          0.363,
          0.459,
          0.646,
          0.571,
          0.653,
          0.745,
          0.866,
          0.844,
          0.887,
          0.823,
          0.626
         ],
         "yaxis": "y"
        },
        {
         "hovertemplate": "<b>%{hovertext}</b><br><br>Regional indicator=North America and ANZ<br>Freedom=%{x}<br>Corruption=%{y}<br>Happiness index Score=%{marker.size}<extra></extra>",
         "hovertext": [
          "New Zealand",
          "Australia",
          "Canada",
          "United States"
         ],
         "legendgroup": "North America and ANZ",
         "marker": {
          "color": "#EF553B",
          "opacity": 0.7,
          "size": [
           7.277,
           7.183,
           7.103,
           6.951
          ],
          "sizemode": "diameter",
          "sizeref": 0.1600408163265306,
          "symbol": "circle"
         },
         "mode": "markers",
         "name": "North America and ANZ",
         "orientation": "v",
         "showlegend": true,
         "type": "scatter",
         "x": [
          0.929,
          0.914,
          0.915,
          0.837
         ],
         "xaxis": "x",
         "y": [
          0.242,
          0.442,
          0.415,
          0.698
         ],
         "yaxis": "y"
        },
        {
         "hovertemplate": "<b>%{hovertext}</b><br><br>Regional indicator=Middle East and North Africa<br>Freedom=%{x}<br>Corruption=%{y}<br>Happiness index Score=%{marker.size}<extra></extra>",
         "hovertext": [
          "Israel",
          "Bahrain",
          "United Arab Emirates",
          "Saudi Arabia",
          "Kuwait",
          "Libya",
          "Turkey",
          "Morocco",
          "Algeria",
          "Iraq",
          "Iran",
          "Tunisia",
          "Lebanon",
          "Palestinian Territories",
          "Jordan",
          "Egypt",
          "Yemen"
         ],
         "legendgroup": "Middle East and North Africa",
         "marker": {
          "color": "#00cc96",
          "opacity": 0.7,
          "size": [
           7.157,
           6.647,
           6.561,
           6.494,
           6.106,
           5.41,
           4.948,
           4.918,
           4.887,
           4.854,
           4.721,
           4.596,
           4.584,
           4.517,
           4.395,
           4.283,
           3.658
          ],
          "sizemode": "diameter",
          "sizeref": 0.1600408163265306,
          "symbol": "circle"
         },
         "mode": "markers",
         "name": "Middle East and North Africa",
         "orientation": "v",
         "showlegend": true,
         "type": "scatter",
         "x": [
          0.8,
          0.925,
          0.932,
          0.877,
          0.867,
          0.771,
          0.576,
          0.774,
          0.48,
          0.63,
          0.608,
          0.656,
          0.525,
          0.653,
          0.755,
          0.749,
          0.602
         ],
         "xaxis": "x",
         "y": [
          0.753,
          0.722,
          0.589,
          0.684,
          0.736,
          0.667,
          0.776,
          0.801,
          0.752,
          0.875,
          0.714,
          0.87,
          0.898,
          0.821,
          0.705,
          0.795,
          0.8
         ],
         "yaxis": "y"
        },
        {
         "hovertemplate": "<b>%{hovertext}</b><br><br>Regional indicator=Latin America and Caribbean<br>Freedom=%{x}<br>Corruption=%{y}<br>Happiness index Score=%{marker.size}<extra></extra>",
         "hovertext": [
          "Costa Rica",
          "Guatemala",
          "Uruguay",
          "Brazil",
          "Mexico",
          "Jamaica",
          "Panama",
          "Chile",
          "El Salvador",
          "Colombia",
          "Nicaragua",
          "Argentina",
          "Honduras",
          "Peru",
          "Ecuador",
          "Bolivia",
          "Paraguay",
          "Dominican Republic",
          "Venezuela",
          "Haiti"
         ],
         "legendgroup": "Latin America and Caribbean",
         "marker": {
          "color": "#ab63fa",
          "opacity": 0.7,
          "size": [
           7.069,
           6.435,
           6.431,
           6.33,
           6.317,
           6.309,
           6.18,
           6.172,
           6.061,
           6.012,
           5.972,
           5.929,
           5.919,
           5.84,
           5.764,
           5.716,
           5.653,
           5.545,
           4.892,
           3.615
          ],
          "sizemode": "diameter",
          "sizeref": 0.1600408163265306,
          "symbol": "circle"
         },
         "mode": "markers",
         "name": "Latin America and Caribbean",
         "orientation": "v",
         "showlegend": true,
         "type": "scatter",
         "x": [
          0.934,
          0.906,
          0.896,
          0.804,
          0.862,
          0.89,
          0.872,
          0.742,
          0.888,
          0.837,
          0.836,
          0.828,
          0.857,
          0.822,
          0.842,
          0.875,
          0.876,
          0.86,
          0.615,
          0.593
         ],
         "xaxis": "x",
         "y": [
          0.809,
          0.775,
          0.59,
          0.756,
          0.799,
          0.884,
          0.856,
          0.83,
          0.688,
          0.841,
          0.664,
          0.834,
          0.809,
          0.891,
          0.843,
          0.839,
          0.882,
          0.714,
          0.827,
          0.721
         ],
         "yaxis": "y"
        },
        {
         "hovertemplate": "<b>%{hovertext}</b><br><br>Regional indicator=Central and Eastern Europe<br>Freedom=%{x}<br>Corruption=%{y}<br>Happiness index Score=%{marker.size}<extra></extra>",
         "hovertext": [
          "Czech Republic",
          "Slovenia",
          "Kosovo",
          "Slovakia",
          "Lithuania",
          "Estonia",
          "Poland",
          "Romania",
          "Serbia",
          "Latvia",
          "Hungary",
          "Croatia",
          "Bosnia and Herzegovina",
          "Montenegro",
          "Bulgaria",
          "Albania",
          "North Macedonia"
         ],
         "legendgroup": "Central and Eastern Europe",
         "marker": {
          "color": "#FFA15A",
          "opacity": 0.7,
          "size": [
           6.965,
           6.461,
           6.372,
           6.331,
           6.255,
           6.189,
           6.166,
           6.14,
           6.078,
           6.032,
           5.992,
           5.882,
           5.813,
           5.581,
           5.266,
           5.117,
           5.101
          ],
          "sizemode": "diameter",
          "sizeref": 0.1600408163265306,
          "symbol": "circle"
         },
         "mode": "markers",
         "name": "Central and Eastern Europe",
         "orientation": "v",
         "showlegend": true,
         "type": "scatter",
         "x": [
          0.858,
          0.949,
          0.869,
          0.766,
          0.773,
          0.909,
          0.841,
          0.845,
          0.778,
          0.715,
          0.755,
          0.754,
          0.706,
          0.708,
          0.788,
          0.785,
          0.751
         ],
         "xaxis": "x",
         "y": [
          0.868,
          0.806,
          0.917,
          0.911,
          0.826,
          0.527,
          0.735,
          0.938,
          0.835,
          0.8,
          0.876,
          0.939,
          0.931,
          0.812,
          0.932,
          0.901,
          0.905
         ],
         "yaxis": "y"
        },
        {
         "hovertemplate": "<b>%{hovertext}</b><br><br>Regional indicator=East Asia<br>Freedom=%{x}<br>Corruption=%{y}<br>Happiness index Score=%{marker.size}<extra></extra>",
         "hovertext": [
          "Taiwan Province of China",
          "Japan",
          "South Korea",
          "Mongolia",
          "Hong Kong S.A.R. of China",
          "China"
         ],
         "legendgroup": "East Asia",
         "marker": {
          "color": "#19d3f3",
          "opacity": 0.7,
          "size": [
           6.584,
           5.94,
           5.845,
           5.677,
           5.477,
           5.339
          ],
          "sizemode": "diameter",
          "sizeref": 0.1600408163265306,
          "symbol": "circle"
         },
         "mode": "markers",
         "name": "East Asia",
         "orientation": "v",
         "showlegend": true,
         "type": "scatter",
         "x": [
          0.784,
          0.796,
          0.672,
          0.708,
          0.717,
          0.904
         ],
         "xaxis": "x",
         "y": [
          0.721,
          0.638,
          0.727,
          0.856,
          0.403,
          0.755
         ],
         "yaxis": "y"
        },
        {
         "hovertemplate": "<b>%{hovertext}</b><br><br>Regional indicator=Southeast Asia<br>Freedom=%{x}<br>Corruption=%{y}<br>Happiness index Score=%{marker.size}<extra></extra>",
         "hovertext": [
          "Singapore",
          "Thailand",
          "Philippines",
          "Vietnam",
          "Malaysia",
          "Indonesia",
          "Laos",
          "Cambodia",
          "Myanmar"
         ],
         "legendgroup": "Southeast Asia",
         "marker": {
          "color": "#FF6692",
          "opacity": 0.7,
          "size": [
           6.377,
           5.985,
           5.88,
           5.411,
           5.384,
           5.345,
           5.03,
           4.83,
           4.426
          ],
          "sizemode": "diameter",
          "sizeref": 0.1600408163265306,
          "symbol": "circle"
         },
         "mode": "markers",
         "name": "Southeast Asia",
         "orientation": "v",
         "showlegend": true,
         "type": "scatter",
         "x": [
          0.927,
          0.884,
          0.917,
          0.94,
          0.895,
          0.873,
          0.91,
          0.959,
          0.876
         ],
         "xaxis": "x",
         "y": [
          0.082,
          0.895,
          0.742,
          0.796,
          0.839,
          0.867,
          0.658,
          0.843,
          0.66
         ],
         "yaxis": "y"
        },
        {
         "hovertemplate": "<b>%{hovertext}</b><br><br>Regional indicator=Commonwealth of Independent States<br>Freedom=%{x}<br>Corruption=%{y}<br>Happiness index Score=%{marker.size}<extra></extra>",
         "hovertext": [
          "Uzbekistan",
          "Kazakhstan",
          "Moldova",
          "Kyrgyzstan",
          "Belarus",
          "Russia",
          "Tajikistan",
          "Armenia",
          "Azerbaijan",
          "Turkmenistan",
          "Georgia",
          "Ukraine"
         ],
         "legendgroup": "Commonwealth of Independent States",
         "marker": {
          "color": "#B6E880",
          "opacity": 0.7,
          "size": [
           6.179,
           6.152,
           5.766,
           5.744,
           5.534,
           5.477,
           5.466,
           5.283,
           5.171,
           5.066,
           4.891,
           4.875
          ],
          "sizemode": "diameter",
          "sizeref": 0.1600408163265306,
          "symbol": "circle"
         },
         "mode": "markers",
         "name": "Commonwealth of Independent States",
         "orientation": "v",
         "showlegend": true,
         "type": "scatter",
         "x": [
          0.97,
          0.853,
          0.822,
          0.935,
          0.65,
          0.718,
          0.832,
          0.825,
          0.814,
          0.877,
          0.783,
          0.724
         ],
         "xaxis": "x",
         "y": [
          0.515,
          0.733,
          0.918,
          0.908,
          0.627,
          0.845,
          0.553,
          0.629,
          0.506,
          0.888,
          0.655,
          0.924
         ],
         "yaxis": "y"
        },
        {
         "hovertemplate": "<b>%{hovertext}</b><br><br>Regional indicator=Sub-Saharan Africa<br>Freedom=%{x}<br>Corruption=%{y}<br>Happiness index Score=%{marker.size}<extra></extra>",
         "hovertext": [
          "Mauritius",
          "Congo (Brazzaville)",
          "Ivory Coast",
          "Cameroon",
          "Senegal",
          "Ghana",
          "Niger",
          "Gambia",
          "Benin",
          "Guinea",
          "South Africa",
          "Gabon",
          "Burkina Faso",
          "Mozambique",
          "Nigeria",
          "Mali",
          "Uganda",
          "Liberia",
          "Kenya",
          "Namibia",
          "Chad",
          "Swaziland",
          "Comoros",
          "Ethiopia",
          "Mauritania",
          "Madagascar",
          "Togo",
          "Zambia",
          "Sierra Leone",
          "Burundi",
          "Tanzania",
          "Malawi",
          "Lesotho",
          "Botswana",
          "Rwanda",
          "Zimbabwe"
         ],
         "legendgroup": "Sub-Saharan Africa",
         "marker": {
          "color": "#FF97FF",
          "opacity": 0.7,
          "size": [
           6.049,
           5.342,
           5.306,
           5.142,
           5.132,
           5.088,
           5.074,
           5.051,
           5.045,
           4.984,
           4.956,
           4.852,
           4.834,
           4.794,
           4.759,
           4.723,
           4.636,
           4.625,
           4.607,
           4.574,
           4.355,
           4.308,
           4.289,
           4.275,
           4.227,
           4.208,
           4.107,
           4.073,
           3.849,
           3.775,
           3.623,
           3.6,
           3.512,
           3.467,
           3.415,
           3.145
          ],
          "sizemode": "diameter",
          "sizeref": 0.1600408163265306,
          "symbol": "circle"
         },
         "mode": "markers",
         "name": "Sub-Saharan Africa",
         "orientation": "v",
         "showlegend": true,
         "type": "scatter",
         "x": [
          0.867,
          0.695,
          0.741,
          0.731,
          0.695,
          0.807,
          0.806,
          0.697,
          0.757,
          0.697,
          0.749,
          0.731,
          0.695,
          0.882,
          0.737,
          0.697,
          0.709,
          0.735,
          0.779,
          0.719,
          0.579,
          0.647,
          0.548,
          0.752,
          0.561,
          0.552,
          0.619,
          0.782,
          0.717,
          0.626,
          0.833,
          0.78,
          0.715,
          0.824,
          0.897,
          0.677
         ],
         "xaxis": "x",
         "y": [
          0.789,
          0.745,
          0.794,
          0.848,
          0.801,
          0.848,
          0.693,
          0.746,
          0.661,
          0.766,
          0.86,
          0.84,
          0.748,
          0.684,
          0.878,
          0.827,
          0.855,
          0.85,
          0.825,
          0.847,
          0.807,
          0.708,
          0.781,
          0.761,
          0.731,
          0.803,
          0.772,
          0.823,
          0.866,
          0.607,
          0.577,
          0.729,
          0.915,
          0.801,
          0.167,
          0.821
         ],
         "yaxis": "y"
        },
        {
         "hovertemplate": "<b>%{hovertext}</b><br><br>Regional indicator=South Asia<br>Freedom=%{x}<br>Corruption=%{y}<br>Happiness index Score=%{marker.size}<extra></extra>",
         "hovertext": [
          "Nepal",
          "Maldives",
          "Bangladesh",
          "Pakistan",
          "Sri Lanka",
          "India",
          "Afghanistan"
         ],
         "legendgroup": "South Asia",
         "marker": {
          "color": "#FECB52",
          "opacity": 0.7,
          "size": [
           5.269,
           5.198,
           5.025,
           4.934,
           4.325,
           3.819,
           2.523
          ],
          "sizemode": "diameter",
          "sizeref": 0.1600408163265306,
          "symbol": "circle"
         },
         "mode": "markers",
         "name": "South Asia",
         "orientation": "v",
         "showlegend": true,
         "type": "scatter",
         "x": [
          0.782,
          0.854,
          0.877,
          0.726,
          0.841,
          0.893,
          0.382
         ],
         "xaxis": "x",
         "y": [
          0.727,
          0.825,
          0.682,
          0.787,
          0.863,
          0.774,
          0.924
         ],
         "yaxis": "y"
        }
       ],
       "layout": {
        "legend": {
         "itemsizing": "constant",
         "title": {
          "text": "Regional indicator"
         },
         "tracegroupgap": 0
        },
        "template": {
         "data": {
          "bar": [
           {
            "error_x": {
             "color": "#2a3f5f"
            },
            "error_y": {
             "color": "#2a3f5f"
            },
            "marker": {
             "line": {
              "color": "#E5ECF6",
              "width": 0.5
             }
            },
            "type": "bar"
           }
          ],
          "barpolar": [
           {
            "marker": {
             "line": {
              "color": "#E5ECF6",
              "width": 0.5
             }
            },
            "type": "barpolar"
           }
          ],
          "carpet": [
           {
            "aaxis": {
             "endlinecolor": "#2a3f5f",
             "gridcolor": "white",
             "linecolor": "white",
             "minorgridcolor": "white",
             "startlinecolor": "#2a3f5f"
            },
            "baxis": {
             "endlinecolor": "#2a3f5f",
             "gridcolor": "white",
             "linecolor": "white",
             "minorgridcolor": "white",
             "startlinecolor": "#2a3f5f"
            },
            "type": "carpet"
           }
          ],
          "choropleth": [
           {
            "colorbar": {
             "outlinewidth": 0,
             "ticks": ""
            },
            "type": "choropleth"
           }
          ],
          "contour": [
           {
            "colorbar": {
             "outlinewidth": 0,
             "ticks": ""
            },
            "colorscale": [
             [
              0,
              "#0d0887"
             ],
             [
              0.1111111111111111,
              "#46039f"
             ],
             [
              0.2222222222222222,
              "#7201a8"
             ],
             [
              0.3333333333333333,
              "#9c179e"
             ],
             [
              0.4444444444444444,
              "#bd3786"
             ],
             [
              0.5555555555555556,
              "#d8576b"
             ],
             [
              0.6666666666666666,
              "#ed7953"
             ],
             [
              0.7777777777777778,
              "#fb9f3a"
             ],
             [
              0.8888888888888888,
              "#fdca26"
             ],
             [
              1,
              "#f0f921"
             ]
            ],
            "type": "contour"
           }
          ],
          "contourcarpet": [
           {
            "colorbar": {
             "outlinewidth": 0,
             "ticks": ""
            },
            "type": "contourcarpet"
           }
          ],
          "heatmap": [
           {
            "colorbar": {
             "outlinewidth": 0,
             "ticks": ""
            },
            "colorscale": [
             [
              0,
              "#0d0887"
             ],
             [
              0.1111111111111111,
              "#46039f"
             ],
             [
              0.2222222222222222,
              "#7201a8"
             ],
             [
              0.3333333333333333,
              "#9c179e"
             ],
             [
              0.4444444444444444,
              "#bd3786"
             ],
             [
              0.5555555555555556,
              "#d8576b"
             ],
             [
              0.6666666666666666,
              "#ed7953"
             ],
             [
              0.7777777777777778,
              "#fb9f3a"
             ],
             [
              0.8888888888888888,
              "#fdca26"
             ],
             [
              1,
              "#f0f921"
             ]
            ],
            "type": "heatmap"
           }
          ],
          "heatmapgl": [
           {
            "colorbar": {
             "outlinewidth": 0,
             "ticks": ""
            },
            "colorscale": [
             [
              0,
              "#0d0887"
             ],
             [
              0.1111111111111111,
              "#46039f"
             ],
             [
              0.2222222222222222,
              "#7201a8"
             ],
             [
              0.3333333333333333,
              "#9c179e"
             ],
             [
              0.4444444444444444,
              "#bd3786"
             ],
             [
              0.5555555555555556,
              "#d8576b"
             ],
             [
              0.6666666666666666,
              "#ed7953"
             ],
             [
              0.7777777777777778,
              "#fb9f3a"
             ],
             [
              0.8888888888888888,
              "#fdca26"
             ],
             [
              1,
              "#f0f921"
             ]
            ],
            "type": "heatmapgl"
           }
          ],
          "histogram": [
           {
            "marker": {
             "colorbar": {
              "outlinewidth": 0,
              "ticks": ""
             }
            },
            "type": "histogram"
           }
          ],
          "histogram2d": [
           {
            "colorbar": {
             "outlinewidth": 0,
             "ticks": ""
            },
            "colorscale": [
             [
              0,
              "#0d0887"
             ],
             [
              0.1111111111111111,
              "#46039f"
             ],
             [
              0.2222222222222222,
              "#7201a8"
             ],
             [
              0.3333333333333333,
              "#9c179e"
             ],
             [
              0.4444444444444444,
              "#bd3786"
             ],
             [
              0.5555555555555556,
              "#d8576b"
             ],
             [
              0.6666666666666666,
              "#ed7953"
             ],
             [
              0.7777777777777778,
              "#fb9f3a"
             ],
             [
              0.8888888888888888,
              "#fdca26"
             ],
             [
              1,
              "#f0f921"
             ]
            ],
            "type": "histogram2d"
           }
          ],
          "histogram2dcontour": [
           {
            "colorbar": {
             "outlinewidth": 0,
             "ticks": ""
            },
            "colorscale": [
             [
              0,
              "#0d0887"
             ],
             [
              0.1111111111111111,
              "#46039f"
             ],
             [
              0.2222222222222222,
              "#7201a8"
             ],
             [
              0.3333333333333333,
              "#9c179e"
             ],
             [
              0.4444444444444444,
              "#bd3786"
             ],
             [
              0.5555555555555556,
              "#d8576b"
             ],
             [
              0.6666666666666666,
              "#ed7953"
             ],
             [
              0.7777777777777778,
              "#fb9f3a"
             ],
             [
              0.8888888888888888,
              "#fdca26"
             ],
             [
              1,
              "#f0f921"
             ]
            ],
            "type": "histogram2dcontour"
           }
          ],
          "mesh3d": [
           {
            "colorbar": {
             "outlinewidth": 0,
             "ticks": ""
            },
            "type": "mesh3d"
           }
          ],
          "parcoords": [
           {
            "line": {
             "colorbar": {
              "outlinewidth": 0,
              "ticks": ""
             }
            },
            "type": "parcoords"
           }
          ],
          "pie": [
           {
            "automargin": true,
            "type": "pie"
           }
          ],
          "scatter": [
           {
            "marker": {
             "colorbar": {
              "outlinewidth": 0,
              "ticks": ""
             }
            },
            "type": "scatter"
           }
          ],
          "scatter3d": [
           {
            "line": {
             "colorbar": {
              "outlinewidth": 0,
              "ticks": ""
             }
            },
            "marker": {
             "colorbar": {
              "outlinewidth": 0,
              "ticks": ""
             }
            },
            "type": "scatter3d"
           }
          ],
          "scattercarpet": [
           {
            "marker": {
             "colorbar": {
              "outlinewidth": 0,
              "ticks": ""
             }
            },
            "type": "scattercarpet"
           }
          ],
          "scattergeo": [
           {
            "marker": {
             "colorbar": {
              "outlinewidth": 0,
              "ticks": ""
             }
            },
            "type": "scattergeo"
           }
          ],
          "scattergl": [
           {
            "marker": {
             "colorbar": {
              "outlinewidth": 0,
              "ticks": ""
             }
            },
            "type": "scattergl"
           }
          ],
          "scattermapbox": [
           {
            "marker": {
             "colorbar": {
              "outlinewidth": 0,
              "ticks": ""
             }
            },
            "type": "scattermapbox"
           }
          ],
          "scatterpolar": [
           {
            "marker": {
             "colorbar": {
              "outlinewidth": 0,
              "ticks": ""
             }
            },
            "type": "scatterpolar"
           }
          ],
          "scatterpolargl": [
           {
            "marker": {
             "colorbar": {
              "outlinewidth": 0,
              "ticks": ""
             }
            },
            "type": "scatterpolargl"
           }
          ],
          "scatterternary": [
           {
            "marker": {
             "colorbar": {
              "outlinewidth": 0,
              "ticks": ""
             }
            },
            "type": "scatterternary"
           }
          ],
          "surface": [
           {
            "colorbar": {
             "outlinewidth": 0,
             "ticks": ""
            },
            "colorscale": [
             [
              0,
              "#0d0887"
             ],
             [
              0.1111111111111111,
              "#46039f"
             ],
             [
              0.2222222222222222,
              "#7201a8"
             ],
             [
              0.3333333333333333,
              "#9c179e"
             ],
             [
              0.4444444444444444,
              "#bd3786"
             ],
             [
              0.5555555555555556,
              "#d8576b"
             ],
             [
              0.6666666666666666,
              "#ed7953"
             ],
             [
              0.7777777777777778,
              "#fb9f3a"
             ],
             [
              0.8888888888888888,
              "#fdca26"
             ],
             [
              1,
              "#f0f921"
             ]
            ],
            "type": "surface"
           }
          ],
          "table": [
           {
            "cells": {
             "fill": {
              "color": "#EBF0F8"
             },
             "line": {
              "color": "white"
             }
            },
            "header": {
             "fill": {
              "color": "#C8D4E3"
             },
             "line": {
              "color": "white"
             }
            },
            "type": "table"
           }
          ]
         },
         "layout": {
          "annotationdefaults": {
           "arrowcolor": "#2a3f5f",
           "arrowhead": 0,
           "arrowwidth": 1
          },
          "autotypenumbers": "strict",
          "coloraxis": {
           "colorbar": {
            "outlinewidth": 0,
            "ticks": ""
           }
          },
          "colorscale": {
           "diverging": [
            [
             0,
             "#8e0152"
            ],
            [
             0.1,
             "#c51b7d"
            ],
            [
             0.2,
             "#de77ae"
            ],
            [
             0.3,
             "#f1b6da"
            ],
            [
             0.4,
             "#fde0ef"
            ],
            [
             0.5,
             "#f7f7f7"
            ],
            [
             0.6,
             "#e6f5d0"
            ],
            [
             0.7,
             "#b8e186"
            ],
            [
             0.8,
             "#7fbc41"
            ],
            [
             0.9,
             "#4d9221"
            ],
            [
             1,
             "#276419"
            ]
           ],
           "sequential": [
            [
             0,
             "#0d0887"
            ],
            [
             0.1111111111111111,
             "#46039f"
            ],
            [
             0.2222222222222222,
             "#7201a8"
            ],
            [
             0.3333333333333333,
             "#9c179e"
            ],
            [
             0.4444444444444444,
             "#bd3786"
            ],
            [
             0.5555555555555556,
             "#d8576b"
            ],
            [
             0.6666666666666666,
             "#ed7953"
            ],
            [
             0.7777777777777778,
             "#fb9f3a"
            ],
            [
             0.8888888888888888,
             "#fdca26"
            ],
            [
             1,
             "#f0f921"
            ]
           ],
           "sequentialminus": [
            [
             0,
             "#0d0887"
            ],
            [
             0.1111111111111111,
             "#46039f"
            ],
            [
             0.2222222222222222,
             "#7201a8"
            ],
            [
             0.3333333333333333,
             "#9c179e"
            ],
            [
             0.4444444444444444,
             "#bd3786"
            ],
            [
             0.5555555555555556,
             "#d8576b"
            ],
            [
             0.6666666666666666,
             "#ed7953"
            ],
            [
             0.7777777777777778,
             "#fb9f3a"
            ],
            [
             0.8888888888888888,
             "#fdca26"
            ],
            [
             1,
             "#f0f921"
            ]
           ]
          },
          "colorway": [
           "#636efa",
           "#EF553B",
           "#00cc96",
           "#ab63fa",
           "#FFA15A",
           "#19d3f3",
           "#FF6692",
           "#B6E880",
           "#FF97FF",
           "#FECB52"
          ],
          "font": {
           "color": "#2a3f5f"
          },
          "geo": {
           "bgcolor": "white",
           "lakecolor": "white",
           "landcolor": "#E5ECF6",
           "showlakes": true,
           "showland": true,
           "subunitcolor": "white"
          },
          "hoverlabel": {
           "align": "left"
          },
          "hovermode": "closest",
          "mapbox": {
           "style": "light"
          },
          "paper_bgcolor": "white",
          "plot_bgcolor": "#E5ECF6",
          "polar": {
           "angularaxis": {
            "gridcolor": "white",
            "linecolor": "white",
            "ticks": ""
           },
           "bgcolor": "#E5ECF6",
           "radialaxis": {
            "gridcolor": "white",
            "linecolor": "white",
            "ticks": ""
           }
          },
          "scene": {
           "xaxis": {
            "backgroundcolor": "#E5ECF6",
            "gridcolor": "white",
            "gridwidth": 2,
            "linecolor": "white",
            "showbackground": true,
            "ticks": "",
            "zerolinecolor": "white"
           },
           "yaxis": {
            "backgroundcolor": "#E5ECF6",
            "gridcolor": "white",
            "gridwidth": 2,
            "linecolor": "white",
            "showbackground": true,
            "ticks": "",
            "zerolinecolor": "white"
           },
           "zaxis": {
            "backgroundcolor": "#E5ECF6",
            "gridcolor": "white",
            "gridwidth": 2,
            "linecolor": "white",
            "showbackground": true,
            "ticks": "",
            "zerolinecolor": "white"
           }
          },
          "shapedefaults": {
           "line": {
            "color": "#2a3f5f"
           }
          },
          "ternary": {
           "aaxis": {
            "gridcolor": "white",
            "linecolor": "white",
            "ticks": ""
           },
           "baxis": {
            "gridcolor": "white",
            "linecolor": "white",
            "ticks": ""
           },
           "bgcolor": "#E5ECF6",
           "caxis": {
            "gridcolor": "white",
            "linecolor": "white",
            "ticks": ""
           }
          },
          "title": {
           "x": 0.05
          },
          "xaxis": {
           "automargin": true,
           "gridcolor": "white",
           "linecolor": "white",
           "ticks": "",
           "title": {
            "standoff": 15
           },
           "zerolinecolor": "white",
           "zerolinewidth": 2
          },
          "yaxis": {
           "automargin": true,
           "gridcolor": "white",
           "linecolor": "white",
           "ticks": "",
           "title": {
            "standoff": 15
           },
           "zerolinecolor": "white",
           "zerolinewidth": 2
          }
         }
        },
        "title": {
         "text": "Freedom vs Corruption vs Happiness Score in different Countries<br>                  Size of Bubble propertional to Happiness Score"
        },
        "xaxis": {
         "anchor": "y",
         "domain": [
          0,
          1
         ],
         "title": {
          "text": "Freedom"
         }
        },
        "yaxis": {
         "anchor": "x",
         "domain": [
          0,
          1
         ],
         "title": {
          "text": "Corruption"
         }
        }
       }
      }
     },
     "metadata": {}
    }
   ],
   "source": [
    "\n",
    "fig = px.scatter(df1,\n",
    "    x=\"Freedom\", y='Corruption', size=\"Ladder score\", color=\"Regional indicator\",\n",
    "    labels={\"Ladder score\": 'Happiness index Score'},size_max=7,\n",
    "    title=\"Freedom vs Corruption vs Happiness Score in different Countries<br> \\\n",
    "                 Size of Bubble propertional to Happiness Score\",\n",
    "                 opacity=0.7,hover_name='Country')\n",
    "fig.update_traces(marker_sizemode='diameter')\n",
    "fig.show()"
   ]
  },
  {
   "cell_type": "markdown",
   "id": "00025232",
   "metadata": {},
   "source": [
    "We can see that most points are in upper right plot.\n",
    "It explains an inverse relation between Corruption & Freedom."
   ]
  },
  {
   "source": [
    "## Population\n",
    "Let's add population data into account for further study"
   ],
   "cell_type": "markdown",
   "metadata": {}
  },
  {
   "cell_type": "code",
   "execution_count": 60,
   "metadata": {},
   "outputs": [
    {
     "output_type": "execute_result",
     "data": {
      "text/plain": [
       "       Country Regional indicator  Ladder score  GDP per capita  \\\n",
       "0      Finland     Western Europe         7.842          10.775   \n",
       "1      Denmark     Western Europe         7.620          10.933   \n",
       "2  Switzerland     Western Europe         7.571          11.117   \n",
       "3      Iceland     Western Europe         7.554          10.878   \n",
       "4  Netherlands     Western Europe         7.464          10.932   \n",
       "\n",
       "   Social support  Life Expectancy  Freedom  Generosity  Corruption  \\\n",
       "0           0.954             72.0    0.949      -0.098       0.186   \n",
       "1           0.954             72.7    0.946       0.030       0.179   \n",
       "2           0.942             74.4    0.919       0.025       0.292   \n",
       "3           0.983             73.0    0.955       0.160       0.673   \n",
       "4           0.942             72.4    0.913       0.175       0.338   \n",
       "\n",
       "   Population (2020) Yearly Change  Net Change  Density (P/Km²)  \\\n",
       "0            5542237        0.15 %        8564               18   \n",
       "1            5795780        0.35 %       20326              137   \n",
       "2            8665615        0.74 %       63257              219   \n",
       "3             341628        0.65 %        2212                3   \n",
       "4           17141544        0.22 %       37742              508   \n",
       "\n",
       "   Land Area (Km²)  Migrants (net) Fert. Rate Med. Age Urban Pop % World Share  \n",
       "0           303890         14000.0        1.5       43        86 %      0.07 %  \n",
       "1            42430         15200.0        1.8       42        88 %      0.07 %  \n",
       "2            39516         52000.0        1.5       43        74 %      0.11 %  \n",
       "3           100250           380.0        1.8       37        94 %      0.00 %  \n",
       "4            33720         16000.0        1.7       43        92 %      0.22 %  "
      ],
      "text/html": "<div>\n<style scoped>\n    .dataframe tbody tr th:only-of-type {\n        vertical-align: middle;\n    }\n\n    .dataframe tbody tr th {\n        vertical-align: top;\n    }\n\n    .dataframe thead th {\n        text-align: right;\n    }\n</style>\n<table border=\"1\" class=\"dataframe\">\n  <thead>\n    <tr style=\"text-align: right;\">\n      <th></th>\n      <th>Country</th>\n      <th>Regional indicator</th>\n      <th>Ladder score</th>\n      <th>GDP per capita</th>\n      <th>Social support</th>\n      <th>Life Expectancy</th>\n      <th>Freedom</th>\n      <th>Generosity</th>\n      <th>Corruption</th>\n      <th>Population (2020)</th>\n      <th>Yearly Change</th>\n      <th>Net Change</th>\n      <th>Density (P/Km²)</th>\n      <th>Land Area (Km²)</th>\n      <th>Migrants (net)</th>\n      <th>Fert. Rate</th>\n      <th>Med. Age</th>\n      <th>Urban Pop %</th>\n      <th>World Share</th>\n    </tr>\n  </thead>\n  <tbody>\n    <tr>\n      <th>0</th>\n      <td>Finland</td>\n      <td>Western Europe</td>\n      <td>7.842</td>\n      <td>10.775</td>\n      <td>0.954</td>\n      <td>72.0</td>\n      <td>0.949</td>\n      <td>-0.098</td>\n      <td>0.186</td>\n      <td>5542237</td>\n      <td>0.15 %</td>\n      <td>8564</td>\n      <td>18</td>\n      <td>303890</td>\n      <td>14000.0</td>\n      <td>1.5</td>\n      <td>43</td>\n      <td>86 %</td>\n      <td>0.07 %</td>\n    </tr>\n    <tr>\n      <th>1</th>\n      <td>Denmark</td>\n      <td>Western Europe</td>\n      <td>7.620</td>\n      <td>10.933</td>\n      <td>0.954</td>\n      <td>72.7</td>\n      <td>0.946</td>\n      <td>0.030</td>\n      <td>0.179</td>\n      <td>5795780</td>\n      <td>0.35 %</td>\n      <td>20326</td>\n      <td>137</td>\n      <td>42430</td>\n      <td>15200.0</td>\n      <td>1.8</td>\n      <td>42</td>\n      <td>88 %</td>\n      <td>0.07 %</td>\n    </tr>\n    <tr>\n      <th>2</th>\n      <td>Switzerland</td>\n      <td>Western Europe</td>\n      <td>7.571</td>\n      <td>11.117</td>\n      <td>0.942</td>\n      <td>74.4</td>\n      <td>0.919</td>\n      <td>0.025</td>\n      <td>0.292</td>\n      <td>8665615</td>\n      <td>0.74 %</td>\n      <td>63257</td>\n      <td>219</td>\n      <td>39516</td>\n      <td>52000.0</td>\n      <td>1.5</td>\n      <td>43</td>\n      <td>74 %</td>\n      <td>0.11 %</td>\n    </tr>\n    <tr>\n      <th>3</th>\n      <td>Iceland</td>\n      <td>Western Europe</td>\n      <td>7.554</td>\n      <td>10.878</td>\n      <td>0.983</td>\n      <td>73.0</td>\n      <td>0.955</td>\n      <td>0.160</td>\n      <td>0.673</td>\n      <td>341628</td>\n      <td>0.65 %</td>\n      <td>2212</td>\n      <td>3</td>\n      <td>100250</td>\n      <td>380.0</td>\n      <td>1.8</td>\n      <td>37</td>\n      <td>94 %</td>\n      <td>0.00 %</td>\n    </tr>\n    <tr>\n      <th>4</th>\n      <td>Netherlands</td>\n      <td>Western Europe</td>\n      <td>7.464</td>\n      <td>10.932</td>\n      <td>0.942</td>\n      <td>72.4</td>\n      <td>0.913</td>\n      <td>0.175</td>\n      <td>0.338</td>\n      <td>17141544</td>\n      <td>0.22 %</td>\n      <td>37742</td>\n      <td>508</td>\n      <td>33720</td>\n      <td>16000.0</td>\n      <td>1.7</td>\n      <td>43</td>\n      <td>92 %</td>\n      <td>0.22 %</td>\n    </tr>\n  </tbody>\n</table>\n</div>"
     },
     "metadata": {},
     "execution_count": 60
    }
   ],
   "source": [
    "df1pop = pd.merge(df1, pop, how='inner', on='Country')\n",
    "df1pop.head()"
   ]
  },
  {
   "cell_type": "code",
   "execution_count": 61,
   "metadata": {},
   "outputs": [
    {
     "output_type": "stream",
     "name": "stdout",
     "text": [
      "<class 'pandas.core.frame.DataFrame'>\nInt64Index: 140 entries, 0 to 139\nData columns (total 19 columns):\n #   Column              Non-Null Count  Dtype  \n---  ------              --------------  -----  \n 0   Country             140 non-null    object \n 1   Regional indicator  140 non-null    object \n 2   Ladder score        140 non-null    float64\n 3   GDP per capita      140 non-null    float64\n 4   Social support      140 non-null    float64\n 5   Life Expectancy     140 non-null    float64\n 6   Freedom             140 non-null    float64\n 7   Generosity          140 non-null    float64\n 8   Corruption          140 non-null    float64\n 9   Population (2020)   140 non-null    int64  \n 10  Yearly Change       140 non-null    object \n 11  Net Change          140 non-null    int64  \n 12  Density (P/Km²)     140 non-null    int64  \n 13  Land Area (Km²)     140 non-null    int64  \n 14  Migrants (net)      140 non-null    float64\n 15  Fert. Rate          140 non-null    object \n 16  Med. Age            140 non-null    object \n 17  Urban Pop %         140 non-null    object \n 18  World Share         140 non-null    object \ndtypes: float64(8), int64(4), object(7)\nmemory usage: 21.9+ KB\n"
     ]
    }
   ],
   "source": [
    "df1pop.info()"
   ]
  },
  {
   "source": [
    "We can see columns like 'Urban Pop %', 'World Share', 'Med. Age', 'Fert. Rate' etc are object while it should be int or float.\n",
    "We'll have to fix them."
   ],
   "cell_type": "markdown",
   "metadata": {}
  },
  {
   "cell_type": "code",
   "execution_count": 62,
   "metadata": {},
   "outputs": [
    {
     "output_type": "stream",
     "name": "stdout",
     "text": [
      "57 %    6\n56 %    4\n76 %    4\n73 %    4\n69 %    4\n       ..\n41 %    1\n49 %    1\n23 %    1\n54 %    1\n51 %    1\nName: Urban Pop %, Length: 68, dtype: int64\n0.03 %    8\n0.13 %    7\n0.04 %    6\n0.06 %    5\n0.08 %    5\n         ..\n0.70 %    1\n1.41 %    1\n1.31 %    1\n0.47 %    1\n3.51 %    1\nName: World Share, Length: 72, dtype: int64\n2715340      1\n60012400     1\n18468257     1\n206984347    1\n5077411      1\n            ..\n2234448      1\n6887247      1\n5102158      1\n1272140      1\n18815231     1\nName: Population (2020), Length: 140, dtype: int64\n1.48 %    3\n0.22 %    2\n2.32 %    2\n0.01 %    2\n1.06 %    2\n         ..\n1.28 %    1\n1.08 %    1\n1.65 %    1\n0.07 %    1\n0.00 %    1\nName: Yearly Change, Length: 120, dtype: int64\n18    9\n30    8\n43    8\n19    8\n28    8\n42    7\n38    7\n32    7\n26    6\n24    6\n40    6\n20    6\n41    4\n29    4\n45    4\n37    4\n33    4\n31    4\n23    3\n46    3\n44    3\n22    3\n17    3\n35    2\n39    2\n36    2\n25    2\n15    1\n34    1\n47    1\n21    1\n27    1\n48    1\n16    1\nName: Med. Age, dtype: int64\n1.8    11\n1.5    11\n2.1     9\n1.7     9\n1.3     7\n2.4     7\n1.4     6\n1.6     6\n2.3     6\n2.2     5\n1.9     5\n2.8     4\n2.0     4\n2.5     3\n2.9     3\n3.6     3\n4.3     3\n4.7     3\n3.0     3\n4.9     3\n4.6     3\n4.4     2\n4.1     2\n3.2     1\n2.7     1\n4.0     1\n3.5     1\n5.5     1\n5.0     1\n2.6     1\n4.2     1\n3.3     1\n5.9     1\n3.7     1\n1.1     1\n1.2     1\n5.4     1\n3.9     1\n3.8     1\n5.8     1\n3.1     1\n5.3     1\n5.2     1\n3.4     1\n7.0     1\nName: Fert. Rate, dtype: int64\n"
     ]
    }
   ],
   "source": [
    "# Let's see inside those objects\n",
    "print(df1pop['Urban Pop %'].value_counts(dropna=False))\n",
    "print(df1pop['World Share'].value_counts(dropna=False))\n",
    "print(df1pop['Population (2020)'].value_counts(dropna=False))\n",
    "print(df1pop['Yearly Change'].value_counts(dropna=False))\n",
    "print(df1pop['Med. Age'].value_counts(dropna=False))\n",
    "print(df1pop['Fert. Rate'].value_counts(dropna=False))"
   ]
  },
  {
   "cell_type": "code",
   "execution_count": 63,
   "metadata": {},
   "outputs": [],
   "source": [
    "# Fix those % & NA\n",
    "df1pop = df1pop[df1pop['Urban Pop %'] != 'N.A.']\n",
    "df1pop['Urban Pop %'] = df1pop['Urban Pop %'].apply(lambda x: float(x.rstrip('%'))/100)\n",
    "df1pop['World Share'] = df1pop['World Share'].apply(lambda x: float(x.rstrip('%'))/100)\n",
    "df1pop['Yearly Change'] = df1pop['Yearly Change'].apply(lambda x: float(x.rstrip('%'))/100)\n",
    "df1pop['Med. Age'] = df1pop['Med. Age'].astype('float')\n",
    "df1pop['Fert. Rate'] = df1pop['Fert. Rate'].astype('float')"
   ]
  },
  {
   "cell_type": "code",
   "execution_count": 64,
   "metadata": {},
   "outputs": [],
   "source": [
    "# We need to bin some values to show them in plot\n",
    "df1pop['pop_quantile'] = pd.qcut(df1pop['Population (2020)'], 10, labels=False)\n",
    "df1pop['density_quantile'] = pd.qcut(df1pop['Density (P/Km²)'], 10, labels=False)"
   ]
  },
  {
   "source": [
    "### Let's see if there is any pattern between Median Age, Happiness score & Population"
   ],
   "cell_type": "markdown",
   "metadata": {}
  },
  {
   "cell_type": "code",
   "execution_count": 65,
   "metadata": {},
   "outputs": [
    {
     "output_type": "display_data",
     "data": {
      "application/vnd.plotly.v1+json": {
       "config": {
        "plotlyServerURL": "https://plot.ly"
       },
       "data": [
        {
         "hovertemplate": "<b>%{hovertext}</b><br><br>Regional indicator=Western Europe<br>Med. Age=%{x}<br>Happiness index Score=%{y}<br>size=%{marker.size}<extra></extra>",
         "hovertext": [
          "Finland",
          "Denmark",
          "Switzerland",
          "Iceland",
          "Netherlands",
          "Norway",
          "Sweden",
          "Luxembourg",
          "Austria",
          "Germany",
          "Ireland",
          "United Kingdom",
          "Belgium",
          "France",
          "Malta",
          "Spain",
          "Italy",
          "Cyprus",
          "Portugal",
          "Greece"
         ],
         "legendgroup": "Western Europe",
         "marker": {
          "color": "#636efa",
          "opacity": 0.7,
          "size": [
           4,
           4,
           9,
           0,
           25,
           4,
           16,
           0,
           9,
           64,
           4,
           64,
           16,
           64,
           0,
           49,
           64,
           0,
           16,
           16
          ],
          "sizemode": "area",
          "sizeref": 0.2025,
          "symbol": "circle"
         },
         "mode": "markers",
         "name": "Western Europe",
         "orientation": "v",
         "showlegend": true,
         "type": "scatter",
         "x": [
          43,
          42,
          43,
          37,
          43,
          40,
          41,
          40,
          43,
          46,
          38,
          40,
          42,
          42,
          43,
          45,
          47,
          37,
          46,
          46
         ],
         "xaxis": "x",
         "y": [
          7.842,
          7.62,
          7.571,
          7.554,
          7.464,
          7.392,
          7.363,
          7.324,
          7.268,
          7.155,
          7.085,
          7.064,
          6.834,
          6.69,
          6.602,
          6.491,
          6.483,
          6.223,
          5.929,
          5.723
         ],
         "yaxis": "y"
        },
        {
         "hovertemplate": "<b>%{hovertext}</b><br><br>Regional indicator=North America and ANZ<br>Med. Age=%{x}<br>Happiness index Score=%{y}<br>size=%{marker.size}<extra></extra>",
         "hovertext": [
          "New Zealand",
          "Australia",
          "Canada",
          "United States"
         ],
         "legendgroup": "North America and ANZ",
         "marker": {
          "color": "#EF553B",
          "opacity": 0.7,
          "size": [
           4,
           36,
           49,
           81
          ],
          "sizemode": "area",
          "sizeref": 0.2025,
          "symbol": "circle"
         },
         "mode": "markers",
         "name": "North America and ANZ",
         "orientation": "v",
         "showlegend": true,
         "type": "scatter",
         "x": [
          38,
          38,
          41,
          38
         ],
         "xaxis": "x",
         "y": [
          7.277,
          7.183,
          7.103,
          6.951
         ],
         "yaxis": "y"
        },
        {
         "hovertemplate": "<b>%{hovertext}</b><br><br>Regional indicator=Middle East and North Africa<br>Med. Age=%{x}<br>Happiness index Score=%{y}<br>size=%{marker.size}<extra></extra>",
         "hovertext": [
          "Israel",
          "Bahrain",
          "United Arab Emirates",
          "Saudi Arabia",
          "Libya",
          "Turkey",
          "Morocco",
          "Algeria",
          "Iraq",
          "Iran",
          "Tunisia",
          "Lebanon",
          "Jordan",
          "Egypt",
          "Yemen"
         ],
         "legendgroup": "Middle East and North Africa",
         "marker": {
          "color": "#00cc96",
          "opacity": 0.7,
          "size": [
           9,
           0,
           16,
           49,
           9,
           64,
           49,
           49,
           49,
           64,
           16,
           9,
           16,
           81,
           36
          ],
          "sizemode": "area",
          "sizeref": 0.2025,
          "symbol": "circle"
         },
         "mode": "markers",
         "name": "Middle East and North Africa",
         "orientation": "v",
         "showlegend": true,
         "type": "scatter",
         "x": [
          30,
          32,
          33,
          32,
          29,
          32,
          30,
          29,
          21,
          32,
          33,
          30,
          24,
          25,
          20
         ],
         "xaxis": "x",
         "y": [
          7.157,
          6.647,
          6.561,
          6.494,
          5.41,
          4.948,
          4.918,
          4.887,
          4.854,
          4.721,
          4.596,
          4.584,
          4.395,
          4.283,
          3.658
         ],
         "yaxis": "y"
        },
        {
         "hovertemplate": "<b>%{hovertext}</b><br><br>Regional indicator=Latin America and Caribbean<br>Med. Age=%{x}<br>Happiness index Score=%{y}<br>size=%{marker.size}<extra></extra>",
         "hovertext": [
          "Costa Rica",
          "Guatemala",
          "Uruguay",
          "Brazil",
          "Mexico",
          "Jamaica",
          "Panama",
          "Chile",
          "El Salvador",
          "Colombia",
          "Nicaragua",
          "Argentina",
          "Honduras",
          "Peru",
          "Ecuador",
          "Bolivia",
          "Paraguay",
          "Dominican Republic",
          "Haiti"
         ],
         "legendgroup": "Latin America and Caribbean",
         "marker": {
          "color": "#ab63fa",
          "opacity": 0.7,
          "size": [
           4,
           25,
           1,
           81,
           81,
           1,
           4,
           25,
           4,
           64,
           9,
           49,
           16,
           49,
           25,
           16,
           9,
           16,
           16
          ],
          "sizemode": "area",
          "sizeref": 0.2025,
          "symbol": "circle"
         },
         "mode": "markers",
         "name": "Latin America and Caribbean",
         "orientation": "v",
         "showlegend": true,
         "type": "scatter",
         "x": [
          33,
          23,
          36,
          33,
          29,
          31,
          30,
          35,
          28,
          31,
          26,
          32,
          24,
          31,
          28,
          26,
          26,
          28,
          24
         ],
         "xaxis": "x",
         "y": [
          7.069,
          6.435,
          6.431,
          6.33,
          6.317,
          6.309,
          6.18,
          6.172,
          6.061,
          6.012,
          5.972,
          5.929,
          5.919,
          5.84,
          5.764,
          5.716,
          5.653,
          5.545,
          3.615
         ],
         "yaxis": "y"
        },
        {
         "hovertemplate": "<b>%{hovertext}</b><br><br>Regional indicator=Central and Eastern Europe<br>Med. Age=%{x}<br>Happiness index Score=%{y}<br>size=%{marker.size}<extra></extra>",
         "hovertext": [
          "Slovenia",
          "Slovakia",
          "Lithuania",
          "Estonia",
          "Poland",
          "Romania",
          "Serbia",
          "Latvia",
          "Hungary",
          "Croatia",
          "Bosnia and Herzegovina",
          "Montenegro",
          "Bulgaria",
          "Albania",
          "North Macedonia"
         ],
         "legendgroup": "Central and Eastern Europe",
         "marker": {
          "color": "#FFA15A",
          "opacity": 0.7,
          "size": [
           0,
           4,
           1,
           0,
           49,
           36,
           9,
           0,
           16,
           1,
           1,
           0,
           9,
           1,
           0
          ],
          "sizemode": "area",
          "sizeref": 0.2025,
          "symbol": "circle"
         },
         "mode": "markers",
         "name": "Central and Eastern Europe",
         "orientation": "v",
         "showlegend": true,
         "type": "scatter",
         "x": [
          45,
          41,
          45,
          42,
          42,
          43,
          42,
          44,
          43,
          44,
          43,
          39,
          45,
          36,
          39
         ],
         "xaxis": "x",
         "y": [
          6.461,
          6.331,
          6.255,
          6.189,
          6.166,
          6.14,
          6.078,
          6.032,
          5.992,
          5.882,
          5.813,
          5.581,
          5.266,
          5.117,
          5.101
         ],
         "yaxis": "y"
        },
        {
         "hovertemplate": "<b>%{hovertext}</b><br><br>Regional indicator=Commonwealth of Independent States<br>Med. Age=%{x}<br>Happiness index Score=%{y}<br>size=%{marker.size}<extra></extra>",
         "hovertext": [
          "Uzbekistan",
          "Kazakhstan",
          "Moldova",
          "Kyrgyzstan",
          "Belarus",
          "Russia",
          "Tajikistan",
          "Armenia",
          "Azerbaijan",
          "Turkmenistan",
          "Georgia",
          "Ukraine"
         ],
         "legendgroup": "Commonwealth of Independent States",
         "marker": {
          "color": "#19d3f3",
          "opacity": 0.7,
          "size": [
           49,
           25,
           1,
           4,
           9,
           81,
           9,
           1,
           16,
           4,
           1,
           49
          ],
          "sizemode": "area",
          "sizeref": 0.2025,
          "symbol": "circle"
         },
         "mode": "markers",
         "name": "Commonwealth of Independent States",
         "orientation": "v",
         "showlegend": true,
         "type": "scatter",
         "x": [
          28,
          31,
          38,
          26,
          40,
          40,
          22,
          35,
          32,
          27,
          38,
          41
         ],
         "xaxis": "x",
         "y": [
          6.179,
          6.152,
          5.766,
          5.744,
          5.534,
          5.477,
          5.466,
          5.283,
          5.171,
          5.066,
          4.891,
          4.875
         ],
         "yaxis": "y"
        },
        {
         "hovertemplate": "<b>%{hovertext}</b><br><br>Regional indicator=Sub-Saharan Africa<br>Med. Age=%{x}<br>Happiness index Score=%{y}<br>size=%{marker.size}<extra></extra>",
         "hovertext": [
          "Mauritius",
          "Cameroon",
          "Senegal",
          "Ghana",
          "Niger",
          "Gambia",
          "Benin",
          "Guinea",
          "South Africa",
          "Gabon",
          "Burkina Faso",
          "Mozambique",
          "Nigeria",
          "Mali",
          "Uganda",
          "Liberia",
          "Kenya",
          "Namibia",
          "Chad",
          "Comoros",
          "Ethiopia",
          "Mauritania",
          "Madagascar",
          "Togo",
          "Zambia",
          "Sierra Leone",
          "Burundi",
          "Tanzania",
          "Malawi",
          "Lesotho",
          "Botswana",
          "Rwanda",
          "Zimbabwe"
         ],
         "legendgroup": "Sub-Saharan Africa",
         "marker": {
          "color": "#FF6692",
          "opacity": 0.7,
          "size": [
           0,
           36,
           25,
           36,
           36,
           1,
           25,
           25,
           64,
           1,
           36,
           36,
           81,
           36,
           49,
           4,
           64,
           1,
           25,
           0,
           81,
           4,
           36,
           9,
           25,
           9,
           16,
           64,
           36,
           0,
           1,
           25,
           25
          ],
          "sizemode": "area",
          "sizeref": 0.2025,
          "symbol": "circle"
         },
         "mode": "markers",
         "name": "Sub-Saharan Africa",
         "orientation": "v",
         "showlegend": true,
         "type": "scatter",
         "x": [
          37,
          19,
          19,
          22,
          15,
          18,
          19,
          18,
          28,
          23,
          18,
          18,
          18,
          16,
          17,
          19,
          20,
          22,
          17,
          20,
          19,
          20,
          20,
          19,
          18,
          19,
          17,
          18,
          18,
          24,
          24,
          20,
          19
         ],
         "xaxis": "x",
         "y": [
          6.049,
          5.142,
          5.132,
          5.088,
          5.074,
          5.051,
          5.045,
          4.984,
          4.956,
          4.852,
          4.834,
          4.794,
          4.759,
          4.723,
          4.636,
          4.625,
          4.607,
          4.574,
          4.355,
          4.289,
          4.275,
          4.227,
          4.208,
          4.107,
          4.073,
          3.849,
          3.775,
          3.623,
          3.6,
          3.512,
          3.467,
          3.415,
          3.145
         ],
         "yaxis": "y"
        },
        {
         "hovertemplate": "<b>%{hovertext}</b><br><br>Regional indicator=Southeast Asia<br>Med. Age=%{x}<br>Happiness index Score=%{y}<br>size=%{marker.size}<extra></extra>",
         "hovertext": [
          "Thailand",
          "Philippines",
          "Vietnam",
          "Malaysia",
          "Indonesia",
          "Laos",
          "Cambodia",
          "Myanmar"
         ],
         "legendgroup": "Southeast Asia",
         "marker": {
          "color": "#B6E880",
          "opacity": 0.7,
          "size": [
           64,
           81,
           64,
           36,
           81,
           9,
           25,
           64
          ],
          "sizemode": "area",
          "sizeref": 0.2025,
          "symbol": "circle"
         },
         "mode": "markers",
         "name": "Southeast Asia",
         "orientation": "v",
         "showlegend": true,
         "type": "scatter",
         "x": [
          40,
          26,
          32,
          30,
          30,
          24,
          26,
          29
         ],
         "xaxis": "x",
         "y": [
          5.985,
          5.88,
          5.411,
          5.384,
          5.345,
          5.03,
          4.83,
          4.426
         ],
         "yaxis": "y"
        },
        {
         "hovertemplate": "<b>%{hovertext}</b><br><br>Regional indicator=East Asia<br>Med. Age=%{x}<br>Happiness index Score=%{y}<br>size=%{marker.size}<extra></extra>",
         "hovertext": [
          "Japan",
          "South Korea",
          "Mongolia",
          "China"
         ],
         "legendgroup": "East Asia",
         "marker": {
          "color": "#FF97FF",
          "opacity": 0.7,
          "size": [
           81,
           64,
           1,
           81
          ],
          "sizemode": "area",
          "sizeref": 0.2025,
          "symbol": "circle"
         },
         "mode": "markers",
         "name": "East Asia",
         "orientation": "v",
         "showlegend": true,
         "type": "scatter",
         "x": [
          48,
          44,
          28,
          38
         ],
         "xaxis": "x",
         "y": [
          5.94,
          5.845,
          5.677,
          5.339
         ],
         "yaxis": "y"
        },
        {
         "hovertemplate": "<b>%{hovertext}</b><br><br>Regional indicator=South Asia<br>Med. Age=%{x}<br>Happiness index Score=%{y}<br>size=%{marker.size}<extra></extra>",
         "hovertext": [
          "Nepal",
          "Maldives",
          "Bangladesh",
          "Pakistan",
          "Sri Lanka",
          "India",
          "Afghanistan"
         ],
         "legendgroup": "South Asia",
         "marker": {
          "color": "#FECB52",
          "opacity": 0.7,
          "size": [
           36,
           0,
           81,
           81,
           36,
           81,
           49
          ],
          "sizemode": "area",
          "sizeref": 0.2025,
          "symbol": "circle"
         },
         "mode": "markers",
         "name": "South Asia",
         "orientation": "v",
         "showlegend": true,
         "type": "scatter",
         "x": [
          25,
          30,
          28,
          23,
          34,
          28,
          18
         ],
         "xaxis": "x",
         "y": [
          5.269,
          5.198,
          5.025,
          4.934,
          4.325,
          3.819,
          2.523
         ],
         "yaxis": "y"
        }
       ],
       "layout": {
        "legend": {
         "itemsizing": "constant",
         "title": {
          "text": "Regional indicator"
         },
         "tracegroupgap": 0
        },
        "template": {
         "data": {
          "bar": [
           {
            "error_x": {
             "color": "#2a3f5f"
            },
            "error_y": {
             "color": "#2a3f5f"
            },
            "marker": {
             "line": {
              "color": "#E5ECF6",
              "width": 0.5
             }
            },
            "type": "bar"
           }
          ],
          "barpolar": [
           {
            "marker": {
             "line": {
              "color": "#E5ECF6",
              "width": 0.5
             }
            },
            "type": "barpolar"
           }
          ],
          "carpet": [
           {
            "aaxis": {
             "endlinecolor": "#2a3f5f",
             "gridcolor": "white",
             "linecolor": "white",
             "minorgridcolor": "white",
             "startlinecolor": "#2a3f5f"
            },
            "baxis": {
             "endlinecolor": "#2a3f5f",
             "gridcolor": "white",
             "linecolor": "white",
             "minorgridcolor": "white",
             "startlinecolor": "#2a3f5f"
            },
            "type": "carpet"
           }
          ],
          "choropleth": [
           {
            "colorbar": {
             "outlinewidth": 0,
             "ticks": ""
            },
            "type": "choropleth"
           }
          ],
          "contour": [
           {
            "colorbar": {
             "outlinewidth": 0,
             "ticks": ""
            },
            "colorscale": [
             [
              0,
              "#0d0887"
             ],
             [
              0.1111111111111111,
              "#46039f"
             ],
             [
              0.2222222222222222,
              "#7201a8"
             ],
             [
              0.3333333333333333,
              "#9c179e"
             ],
             [
              0.4444444444444444,
              "#bd3786"
             ],
             [
              0.5555555555555556,
              "#d8576b"
             ],
             [
              0.6666666666666666,
              "#ed7953"
             ],
             [
              0.7777777777777778,
              "#fb9f3a"
             ],
             [
              0.8888888888888888,
              "#fdca26"
             ],
             [
              1,
              "#f0f921"
             ]
            ],
            "type": "contour"
           }
          ],
          "contourcarpet": [
           {
            "colorbar": {
             "outlinewidth": 0,
             "ticks": ""
            },
            "type": "contourcarpet"
           }
          ],
          "heatmap": [
           {
            "colorbar": {
             "outlinewidth": 0,
             "ticks": ""
            },
            "colorscale": [
             [
              0,
              "#0d0887"
             ],
             [
              0.1111111111111111,
              "#46039f"
             ],
             [
              0.2222222222222222,
              "#7201a8"
             ],
             [
              0.3333333333333333,
              "#9c179e"
             ],
             [
              0.4444444444444444,
              "#bd3786"
             ],
             [
              0.5555555555555556,
              "#d8576b"
             ],
             [
              0.6666666666666666,
              "#ed7953"
             ],
             [
              0.7777777777777778,
              "#fb9f3a"
             ],
             [
              0.8888888888888888,
              "#fdca26"
             ],
             [
              1,
              "#f0f921"
             ]
            ],
            "type": "heatmap"
           }
          ],
          "heatmapgl": [
           {
            "colorbar": {
             "outlinewidth": 0,
             "ticks": ""
            },
            "colorscale": [
             [
              0,
              "#0d0887"
             ],
             [
              0.1111111111111111,
              "#46039f"
             ],
             [
              0.2222222222222222,
              "#7201a8"
             ],
             [
              0.3333333333333333,
              "#9c179e"
             ],
             [
              0.4444444444444444,
              "#bd3786"
             ],
             [
              0.5555555555555556,
              "#d8576b"
             ],
             [
              0.6666666666666666,
              "#ed7953"
             ],
             [
              0.7777777777777778,
              "#fb9f3a"
             ],
             [
              0.8888888888888888,
              "#fdca26"
             ],
             [
              1,
              "#f0f921"
             ]
            ],
            "type": "heatmapgl"
           }
          ],
          "histogram": [
           {
            "marker": {
             "colorbar": {
              "outlinewidth": 0,
              "ticks": ""
             }
            },
            "type": "histogram"
           }
          ],
          "histogram2d": [
           {
            "colorbar": {
             "outlinewidth": 0,
             "ticks": ""
            },
            "colorscale": [
             [
              0,
              "#0d0887"
             ],
             [
              0.1111111111111111,
              "#46039f"
             ],
             [
              0.2222222222222222,
              "#7201a8"
             ],
             [
              0.3333333333333333,
              "#9c179e"
             ],
             [
              0.4444444444444444,
              "#bd3786"
             ],
             [
              0.5555555555555556,
              "#d8576b"
             ],
             [
              0.6666666666666666,
              "#ed7953"
             ],
             [
              0.7777777777777778,
              "#fb9f3a"
             ],
             [
              0.8888888888888888,
              "#fdca26"
             ],
             [
              1,
              "#f0f921"
             ]
            ],
            "type": "histogram2d"
           }
          ],
          "histogram2dcontour": [
           {
            "colorbar": {
             "outlinewidth": 0,
             "ticks": ""
            },
            "colorscale": [
             [
              0,
              "#0d0887"
             ],
             [
              0.1111111111111111,
              "#46039f"
             ],
             [
              0.2222222222222222,
              "#7201a8"
             ],
             [
              0.3333333333333333,
              "#9c179e"
             ],
             [
              0.4444444444444444,
              "#bd3786"
             ],
             [
              0.5555555555555556,
              "#d8576b"
             ],
             [
              0.6666666666666666,
              "#ed7953"
             ],
             [
              0.7777777777777778,
              "#fb9f3a"
             ],
             [
              0.8888888888888888,
              "#fdca26"
             ],
             [
              1,
              "#f0f921"
             ]
            ],
            "type": "histogram2dcontour"
           }
          ],
          "mesh3d": [
           {
            "colorbar": {
             "outlinewidth": 0,
             "ticks": ""
            },
            "type": "mesh3d"
           }
          ],
          "parcoords": [
           {
            "line": {
             "colorbar": {
              "outlinewidth": 0,
              "ticks": ""
             }
            },
            "type": "parcoords"
           }
          ],
          "pie": [
           {
            "automargin": true,
            "type": "pie"
           }
          ],
          "scatter": [
           {
            "marker": {
             "colorbar": {
              "outlinewidth": 0,
              "ticks": ""
             }
            },
            "type": "scatter"
           }
          ],
          "scatter3d": [
           {
            "line": {
             "colorbar": {
              "outlinewidth": 0,
              "ticks": ""
             }
            },
            "marker": {
             "colorbar": {
              "outlinewidth": 0,
              "ticks": ""
             }
            },
            "type": "scatter3d"
           }
          ],
          "scattercarpet": [
           {
            "marker": {
             "colorbar": {
              "outlinewidth": 0,
              "ticks": ""
             }
            },
            "type": "scattercarpet"
           }
          ],
          "scattergeo": [
           {
            "marker": {
             "colorbar": {
              "outlinewidth": 0,
              "ticks": ""
             }
            },
            "type": "scattergeo"
           }
          ],
          "scattergl": [
           {
            "marker": {
             "colorbar": {
              "outlinewidth": 0,
              "ticks": ""
             }
            },
            "type": "scattergl"
           }
          ],
          "scattermapbox": [
           {
            "marker": {
             "colorbar": {
              "outlinewidth": 0,
              "ticks": ""
             }
            },
            "type": "scattermapbox"
           }
          ],
          "scatterpolar": [
           {
            "marker": {
             "colorbar": {
              "outlinewidth": 0,
              "ticks": ""
             }
            },
            "type": "scatterpolar"
           }
          ],
          "scatterpolargl": [
           {
            "marker": {
             "colorbar": {
              "outlinewidth": 0,
              "ticks": ""
             }
            },
            "type": "scatterpolargl"
           }
          ],
          "scatterternary": [
           {
            "marker": {
             "colorbar": {
              "outlinewidth": 0,
              "ticks": ""
             }
            },
            "type": "scatterternary"
           }
          ],
          "surface": [
           {
            "colorbar": {
             "outlinewidth": 0,
             "ticks": ""
            },
            "colorscale": [
             [
              0,
              "#0d0887"
             ],
             [
              0.1111111111111111,
              "#46039f"
             ],
             [
              0.2222222222222222,
              "#7201a8"
             ],
             [
              0.3333333333333333,
              "#9c179e"
             ],
             [
              0.4444444444444444,
              "#bd3786"
             ],
             [
              0.5555555555555556,
              "#d8576b"
             ],
             [
              0.6666666666666666,
              "#ed7953"
             ],
             [
              0.7777777777777778,
              "#fb9f3a"
             ],
             [
              0.8888888888888888,
              "#fdca26"
             ],
             [
              1,
              "#f0f921"
             ]
            ],
            "type": "surface"
           }
          ],
          "table": [
           {
            "cells": {
             "fill": {
              "color": "#EBF0F8"
             },
             "line": {
              "color": "white"
             }
            },
            "header": {
             "fill": {
              "color": "#C8D4E3"
             },
             "line": {
              "color": "white"
             }
            },
            "type": "table"
           }
          ]
         },
         "layout": {
          "annotationdefaults": {
           "arrowcolor": "#2a3f5f",
           "arrowhead": 0,
           "arrowwidth": 1
          },
          "autotypenumbers": "strict",
          "coloraxis": {
           "colorbar": {
            "outlinewidth": 0,
            "ticks": ""
           }
          },
          "colorscale": {
           "diverging": [
            [
             0,
             "#8e0152"
            ],
            [
             0.1,
             "#c51b7d"
            ],
            [
             0.2,
             "#de77ae"
            ],
            [
             0.3,
             "#f1b6da"
            ],
            [
             0.4,
             "#fde0ef"
            ],
            [
             0.5,
             "#f7f7f7"
            ],
            [
             0.6,
             "#e6f5d0"
            ],
            [
             0.7,
             "#b8e186"
            ],
            [
             0.8,
             "#7fbc41"
            ],
            [
             0.9,
             "#4d9221"
            ],
            [
             1,
             "#276419"
            ]
           ],
           "sequential": [
            [
             0,
             "#0d0887"
            ],
            [
             0.1111111111111111,
             "#46039f"
            ],
            [
             0.2222222222222222,
             "#7201a8"
            ],
            [
             0.3333333333333333,
             "#9c179e"
            ],
            [
             0.4444444444444444,
             "#bd3786"
            ],
            [
             0.5555555555555556,
             "#d8576b"
            ],
            [
             0.6666666666666666,
             "#ed7953"
            ],
            [
             0.7777777777777778,
             "#fb9f3a"
            ],
            [
             0.8888888888888888,
             "#fdca26"
            ],
            [
             1,
             "#f0f921"
            ]
           ],
           "sequentialminus": [
            [
             0,
             "#0d0887"
            ],
            [
             0.1111111111111111,
             "#46039f"
            ],
            [
             0.2222222222222222,
             "#7201a8"
            ],
            [
             0.3333333333333333,
             "#9c179e"
            ],
            [
             0.4444444444444444,
             "#bd3786"
            ],
            [
             0.5555555555555556,
             "#d8576b"
            ],
            [
             0.6666666666666666,
             "#ed7953"
            ],
            [
             0.7777777777777778,
             "#fb9f3a"
            ],
            [
             0.8888888888888888,
             "#fdca26"
            ],
            [
             1,
             "#f0f921"
            ]
           ]
          },
          "colorway": [
           "#636efa",
           "#EF553B",
           "#00cc96",
           "#ab63fa",
           "#FFA15A",
           "#19d3f3",
           "#FF6692",
           "#B6E880",
           "#FF97FF",
           "#FECB52"
          ],
          "font": {
           "color": "#2a3f5f"
          },
          "geo": {
           "bgcolor": "white",
           "lakecolor": "white",
           "landcolor": "#E5ECF6",
           "showlakes": true,
           "showland": true,
           "subunitcolor": "white"
          },
          "hoverlabel": {
           "align": "left"
          },
          "hovermode": "closest",
          "mapbox": {
           "style": "light"
          },
          "paper_bgcolor": "white",
          "plot_bgcolor": "#E5ECF6",
          "polar": {
           "angularaxis": {
            "gridcolor": "white",
            "linecolor": "white",
            "ticks": ""
           },
           "bgcolor": "#E5ECF6",
           "radialaxis": {
            "gridcolor": "white",
            "linecolor": "white",
            "ticks": ""
           }
          },
          "scene": {
           "xaxis": {
            "backgroundcolor": "#E5ECF6",
            "gridcolor": "white",
            "gridwidth": 2,
            "linecolor": "white",
            "showbackground": true,
            "ticks": "",
            "zerolinecolor": "white"
           },
           "yaxis": {
            "backgroundcolor": "#E5ECF6",
            "gridcolor": "white",
            "gridwidth": 2,
            "linecolor": "white",
            "showbackground": true,
            "ticks": "",
            "zerolinecolor": "white"
           },
           "zaxis": {
            "backgroundcolor": "#E5ECF6",
            "gridcolor": "white",
            "gridwidth": 2,
            "linecolor": "white",
            "showbackground": true,
            "ticks": "",
            "zerolinecolor": "white"
           }
          },
          "shapedefaults": {
           "line": {
            "color": "#2a3f5f"
           }
          },
          "ternary": {
           "aaxis": {
            "gridcolor": "white",
            "linecolor": "white",
            "ticks": ""
           },
           "baxis": {
            "gridcolor": "white",
            "linecolor": "white",
            "ticks": ""
           },
           "bgcolor": "#E5ECF6",
           "caxis": {
            "gridcolor": "white",
            "linecolor": "white",
            "ticks": ""
           }
          },
          "title": {
           "x": 0.05
          },
          "xaxis": {
           "automargin": true,
           "gridcolor": "white",
           "linecolor": "white",
           "ticks": "",
           "title": {
            "standoff": 15
           },
           "zerolinecolor": "white",
           "zerolinewidth": 2
          },
          "yaxis": {
           "automargin": true,
           "gridcolor": "white",
           "linecolor": "white",
           "ticks": "",
           "title": {
            "standoff": 15
           },
           "zerolinecolor": "white",
           "zerolinewidth": 2
          }
         }
        },
        "title": {
         "text": "Happiness Score, Median Age and Population         "
        },
        "xaxis": {
         "anchor": "y",
         "domain": [
          0,
          1
         ],
         "title": {
          "text": "Med. Age"
         }
        },
        "yaxis": {
         "anchor": "x",
         "domain": [
          0,
          1
         ],
         "title": {
          "text": "Happiness index Score"
         }
        }
       }
      }
     },
     "metadata": {}
    }
   ],
   "source": [
    "fig = px.scatter(df1pop,\n",
    "    x=\"Med. Age\", y='Ladder score', size=df1pop[\"pop_quantile\"]**2, color=\"Regional indicator\",\n",
    "    labels={\"Ladder score\": 'Happiness index Score',\n",
    "           'pop_quantile': 'Population Quantile'},size_max=20,\n",
    "    title=\"Happiness Score, Median Age and Population         \",\n",
    "                 opacity=0.7,hover_name='Country')\n",
    "fig.update_traces(marker_sizemode='area')\n",
    "fig.update_traces(showlegend=True)\n",
    "fig.show()"
   ]
  },
  {
   "source": [
    "It seems that **happier** countries have older population. There is a linear pattern with Median age & happiness score."
   ],
   "cell_type": "markdown",
   "metadata": {}
  },
  {
   "source": [
    "### Between Fertility Rate vs GDP vs Median Age"
   ],
   "cell_type": "markdown",
   "metadata": {}
  },
  {
   "cell_type": "code",
   "execution_count": 66,
   "metadata": {},
   "outputs": [
    {
     "output_type": "display_data",
     "data": {
      "application/vnd.plotly.v1+json": {
       "config": {
        "plotlyServerURL": "https://plot.ly"
       },
       "data": [
        {
         "customdata": [
          [
           43,
           7.842
          ],
          [
           42,
           7.62
          ],
          [
           43,
           7.571
          ],
          [
           37,
           7.554
          ],
          [
           43,
           7.464
          ],
          [
           40,
           7.392
          ],
          [
           41,
           7.363
          ],
          [
           40,
           7.324
          ],
          [
           43,
           7.268
          ],
          [
           46,
           7.155
          ],
          [
           38,
           7.085
          ],
          [
           40,
           7.064
          ],
          [
           42,
           6.834
          ],
          [
           42,
           6.69
          ],
          [
           43,
           6.602
          ],
          [
           45,
           6.491
          ],
          [
           47,
           6.483
          ],
          [
           37,
           6.223
          ],
          [
           46,
           5.929
          ],
          [
           46,
           5.723
          ]
         ],
         "hovertemplate": "<b>%{hovertext}</b><br><br>Regional indicator=Western Europe<br>Fertility Rate=%{x}<br>GDP per capita=%{y}<br>Med. Age=%{customdata[0]}<br>Happiness Score=%{customdata[1]}<extra></extra>",
         "hovertext": [
          "Finland",
          "Denmark",
          "Switzerland",
          "Iceland",
          "Netherlands",
          "Norway",
          "Sweden",
          "Luxembourg",
          "Austria",
          "Germany",
          "Ireland",
          "United Kingdom",
          "Belgium",
          "France",
          "Malta",
          "Spain",
          "Italy",
          "Cyprus",
          "Portugal",
          "Greece"
         ],
         "legendgroup": "Western Europe",
         "marker": {
          "color": "#636efa",
          "opacity": 0.7,
          "size": [
           43,
           42,
           43,
           37,
           43,
           40,
           41,
           40,
           43,
           46,
           38,
           40,
           42,
           42,
           43,
           45,
           47,
           37,
           46,
           46
          ],
          "sizemode": "area",
          "sizeref": 0.12,
          "symbol": "circle"
         },
         "mode": "markers",
         "name": "Western Europe",
         "orientation": "v",
         "showlegend": true,
         "type": "scatter",
         "x": [
          1.5,
          1.8,
          1.5,
          1.8,
          1.7,
          1.7,
          1.9,
          1.5,
          1.5,
          1.6,
          1.8,
          1.8,
          1.7,
          1.9,
          1.5,
          1.3,
          1.3,
          1.3,
          1.3,
          1.3
         ],
         "xaxis": "x",
         "y": [
          10.775,
          10.933,
          11.117,
          10.878,
          10.932,
          11.053,
          10.867,
          11.647,
          10.906,
          10.873,
          11.342,
          10.707,
          10.823,
          10.704,
          10.674,
          10.571,
          10.623,
          10.576,
          10.421,
          10.279
         ],
         "yaxis": "y"
        },
        {
         "customdata": [
          [
           38,
           7.277
          ],
          [
           38,
           7.183
          ],
          [
           41,
           7.103
          ],
          [
           38,
           6.951
          ]
         ],
         "hovertemplate": "<b>%{hovertext}</b><br><br>Regional indicator=North America and ANZ<br>Fertility Rate=%{x}<br>GDP per capita=%{y}<br>Med. Age=%{customdata[0]}<br>Happiness Score=%{customdata[1]}<extra></extra>",
         "hovertext": [
          "New Zealand",
          "Australia",
          "Canada",
          "United States"
         ],
         "legendgroup": "North America and ANZ",
         "marker": {
          "color": "#EF553B",
          "opacity": 0.7,
          "size": [
           38,
           38,
           41,
           38
          ],
          "sizemode": "area",
          "sizeref": 0.12,
          "symbol": "circle"
         },
         "mode": "markers",
         "name": "North America and ANZ",
         "orientation": "v",
         "showlegend": true,
         "type": "scatter",
         "x": [
          1.9,
          1.8,
          1.5,
          1.8
         ],
         "xaxis": "x",
         "y": [
          10.643,
          10.796,
          10.776,
          11.023
         ],
         "yaxis": "y"
        },
        {
         "customdata": [
          [
           30,
           7.157
          ],
          [
           32,
           6.647
          ],
          [
           33,
           6.561
          ],
          [
           32,
           6.494
          ],
          [
           29,
           5.41
          ],
          [
           32,
           4.948
          ],
          [
           30,
           4.918
          ],
          [
           29,
           4.887
          ],
          [
           21,
           4.854
          ],
          [
           32,
           4.721
          ],
          [
           33,
           4.596
          ],
          [
           30,
           4.584
          ],
          [
           24,
           4.395
          ],
          [
           25,
           4.283
          ],
          [
           20,
           3.658
          ]
         ],
         "hovertemplate": "<b>%{hovertext}</b><br><br>Regional indicator=Middle East and North Africa<br>Fertility Rate=%{x}<br>GDP per capita=%{y}<br>Med. Age=%{customdata[0]}<br>Happiness Score=%{customdata[1]}<extra></extra>",
         "hovertext": [
          "Israel",
          "Bahrain",
          "United Arab Emirates",
          "Saudi Arabia",
          "Libya",
          "Turkey",
          "Morocco",
          "Algeria",
          "Iraq",
          "Iran",
          "Tunisia",
          "Lebanon",
          "Jordan",
          "Egypt",
          "Yemen"
         ],
         "legendgroup": "Middle East and North Africa",
         "marker": {
          "color": "#00cc96",
          "opacity": 0.7,
          "size": [
           30,
           32,
           33,
           32,
           29,
           32,
           30,
           29,
           21,
           32,
           33,
           30,
           24,
           25,
           20
          ],
          "sizemode": "area",
          "sizeref": 0.12,
          "symbol": "circle"
         },
         "mode": "markers",
         "name": "Middle East and North Africa",
         "orientation": "v",
         "showlegend": true,
         "type": "scatter",
         "x": [
          3,
          2,
          1.4,
          2.3,
          2.3,
          2.1,
          2.4,
          3.1,
          3.7,
          2.2,
          2.2,
          2.1,
          2.8,
          3.3,
          3.8
         ],
         "xaxis": "x",
         "y": [
          10.575,
          10.669,
          11.085,
          10.743,
          9.622,
          10.24,
          8.903,
          9.342,
          9.24,
          9.584,
          9.266,
          9.626,
          9.182,
          9.367,
          7.578
         ],
         "yaxis": "y"
        },
        {
         "customdata": [
          [
           33,
           7.069
          ],
          [
           23,
           6.435
          ],
          [
           36,
           6.431
          ],
          [
           33,
           6.33
          ],
          [
           29,
           6.317
          ],
          [
           31,
           6.309
          ],
          [
           30,
           6.18
          ],
          [
           35,
           6.172
          ],
          [
           28,
           6.061
          ],
          [
           31,
           6.012
          ],
          [
           26,
           5.972
          ],
          [
           32,
           5.929
          ],
          [
           24,
           5.919
          ],
          [
           31,
           5.84
          ],
          [
           28,
           5.764
          ],
          [
           26,
           5.716
          ],
          [
           26,
           5.653
          ],
          [
           28,
           5.545
          ],
          [
           24,
           3.615
          ]
         ],
         "hovertemplate": "<b>%{hovertext}</b><br><br>Regional indicator=Latin America and Caribbean<br>Fertility Rate=%{x}<br>GDP per capita=%{y}<br>Med. Age=%{customdata[0]}<br>Happiness Score=%{customdata[1]}<extra></extra>",
         "hovertext": [
          "Costa Rica",
          "Guatemala",
          "Uruguay",
          "Brazil",
          "Mexico",
          "Jamaica",
          "Panama",
          "Chile",
          "El Salvador",
          "Colombia",
          "Nicaragua",
          "Argentina",
          "Honduras",
          "Peru",
          "Ecuador",
          "Bolivia",
          "Paraguay",
          "Dominican Republic",
          "Haiti"
         ],
         "legendgroup": "Latin America and Caribbean",
         "marker": {
          "color": "#ab63fa",
          "opacity": 0.7,
          "size": [
           33,
           23,
           36,
           33,
           29,
           31,
           30,
           35,
           28,
           31,
           26,
           32,
           24,
           31,
           28,
           26,
           26,
           28,
           24
          ],
          "sizemode": "area",
          "sizeref": 0.12,
          "symbol": "circle"
         },
         "mode": "markers",
         "name": "Latin America and Caribbean",
         "orientation": "v",
         "showlegend": true,
         "type": "scatter",
         "x": [
          1.8,
          2.9,
          2,
          1.7,
          2.1,
          2,
          2.5,
          1.7,
          2.1,
          1.8,
          2.4,
          2.3,
          2.5,
          2.3,
          2.4,
          2.8,
          2.4,
          2.4,
          3
         ],
         "xaxis": "x",
         "y": [
          9.88,
          9.053,
          9.966,
          9.577,
          9.859,
          9.186,
          10.35,
          10.071,
          9.054,
          9.557,
          8.62,
          9.962,
          8.648,
          9.458,
          9.313,
          9.046,
          9.448,
          9.802,
          7.477
         ],
         "yaxis": "y"
        },
        {
         "customdata": [
          [
           45,
           6.461
          ],
          [
           41,
           6.331
          ],
          [
           45,
           6.255
          ],
          [
           42,
           6.189
          ],
          [
           42,
           6.166
          ],
          [
           43,
           6.14
          ],
          [
           42,
           6.078
          ],
          [
           44,
           6.032
          ],
          [
           43,
           5.992
          ],
          [
           44,
           5.882
          ],
          [
           43,
           5.813
          ],
          [
           39,
           5.581
          ],
          [
           45,
           5.266
          ],
          [
           36,
           5.117
          ],
          [
           39,
           5.101
          ]
         ],
         "hovertemplate": "<b>%{hovertext}</b><br><br>Regional indicator=Central and Eastern Europe<br>Fertility Rate=%{x}<br>GDP per capita=%{y}<br>Med. Age=%{customdata[0]}<br>Happiness Score=%{customdata[1]}<extra></extra>",
         "hovertext": [
          "Slovenia",
          "Slovakia",
          "Lithuania",
          "Estonia",
          "Poland",
          "Romania",
          "Serbia",
          "Latvia",
          "Hungary",
          "Croatia",
          "Bosnia and Herzegovina",
          "Montenegro",
          "Bulgaria",
          "Albania",
          "North Macedonia"
         ],
         "legendgroup": "Central and Eastern Europe",
         "marker": {
          "color": "#FFA15A",
          "opacity": 0.7,
          "size": [
           45,
           41,
           45,
           42,
           42,
           43,
           42,
           44,
           43,
           44,
           43,
           39,
           45,
           36,
           39
          ],
          "sizemode": "area",
          "sizeref": 0.12,
          "symbol": "circle"
         },
         "mode": "markers",
         "name": "Central and Eastern Europe",
         "orientation": "v",
         "showlegend": true,
         "type": "scatter",
         "x": [
          1.6,
          1.5,
          1.7,
          1.6,
          1.4,
          1.6,
          1.5,
          1.7,
          1.5,
          1.4,
          1.3,
          1.8,
          1.6,
          1.6,
          1.5
         ],
         "xaxis": "x",
         "y": [
          10.529,
          10.369,
          10.499,
          10.481,
          10.382,
          10.284,
          9.787,
          10.315,
          10.358,
          10.217,
          9.59,
          9.94,
          10.016,
          9.52,
          9.693
         ],
         "yaxis": "y"
        },
        {
         "customdata": [
          [
           28,
           6.179
          ],
          [
           31,
           6.152
          ],
          [
           38,
           5.766
          ],
          [
           26,
           5.744
          ],
          [
           40,
           5.534
          ],
          [
           40,
           5.477
          ],
          [
           22,
           5.466
          ],
          [
           35,
           5.283
          ],
          [
           32,
           5.171
          ],
          [
           27,
           5.066
          ],
          [
           38,
           4.891
          ],
          [
           41,
           4.875
          ]
         ],
         "hovertemplate": "<b>%{hovertext}</b><br><br>Regional indicator=Commonwealth of Independent States<br>Fertility Rate=%{x}<br>GDP per capita=%{y}<br>Med. Age=%{customdata[0]}<br>Happiness Score=%{customdata[1]}<extra></extra>",
         "hovertext": [
          "Uzbekistan",
          "Kazakhstan",
          "Moldova",
          "Kyrgyzstan",
          "Belarus",
          "Russia",
          "Tajikistan",
          "Armenia",
          "Azerbaijan",
          "Turkmenistan",
          "Georgia",
          "Ukraine"
         ],
         "legendgroup": "Commonwealth of Independent States",
         "marker": {
          "color": "#19d3f3",
          "opacity": 0.7,
          "size": [
           28,
           31,
           38,
           26,
           40,
           40,
           22,
           35,
           32,
           27,
           38,
           41
          ],
          "sizemode": "area",
          "sizeref": 0.12,
          "symbol": "circle"
         },
         "mode": "markers",
         "name": "Commonwealth of Independent States",
         "orientation": "v",
         "showlegend": true,
         "type": "scatter",
         "x": [
          2.4,
          2.8,
          1.3,
          3,
          1.7,
          1.8,
          3.6,
          1.8,
          2.1,
          2.8,
          2.1,
          1.4
         ],
         "xaxis": "x",
         "y": [
          8.836,
          10.155,
          9.454,
          8.538,
          9.853,
          10.189,
          8.091,
          9.487,
          9.569,
          9.629,
          9.585,
          9.436
         ],
         "yaxis": "y"
        },
        {
         "customdata": [
          [
           37,
           6.049
          ],
          [
           19,
           5.142
          ],
          [
           19,
           5.132
          ],
          [
           22,
           5.088
          ],
          [
           15,
           5.074
          ],
          [
           18,
           5.051
          ],
          [
           19,
           5.045
          ],
          [
           18,
           4.984
          ],
          [
           28,
           4.956
          ],
          [
           23,
           4.852
          ],
          [
           18,
           4.834
          ],
          [
           18,
           4.794
          ],
          [
           18,
           4.759
          ],
          [
           16,
           4.723
          ],
          [
           17,
           4.636
          ],
          [
           19,
           4.625
          ],
          [
           20,
           4.607
          ],
          [
           22,
           4.574
          ],
          [
           17,
           4.355
          ],
          [
           20,
           4.289
          ],
          [
           19,
           4.275
          ],
          [
           20,
           4.227
          ],
          [
           20,
           4.208
          ],
          [
           19,
           4.107
          ],
          [
           18,
           4.073
          ],
          [
           19,
           3.849
          ],
          [
           17,
           3.775
          ],
          [
           18,
           3.623
          ],
          [
           18,
           3.6
          ],
          [
           24,
           3.512
          ],
          [
           24,
           3.467
          ],
          [
           20,
           3.415
          ],
          [
           19,
           3.145
          ]
         ],
         "hovertemplate": "<b>%{hovertext}</b><br><br>Regional indicator=Sub-Saharan Africa<br>Fertility Rate=%{x}<br>GDP per capita=%{y}<br>Med. Age=%{customdata[0]}<br>Happiness Score=%{customdata[1]}<extra></extra>",
         "hovertext": [
          "Mauritius",
          "Cameroon",
          "Senegal",
          "Ghana",
          "Niger",
          "Gambia",
          "Benin",
          "Guinea",
          "South Africa",
          "Gabon",
          "Burkina Faso",
          "Mozambique",
          "Nigeria",
          "Mali",
          "Uganda",
          "Liberia",
          "Kenya",
          "Namibia",
          "Chad",
          "Comoros",
          "Ethiopia",
          "Mauritania",
          "Madagascar",
          "Togo",
          "Zambia",
          "Sierra Leone",
          "Burundi",
          "Tanzania",
          "Malawi",
          "Lesotho",
          "Botswana",
          "Rwanda",
          "Zimbabwe"
         ],
         "legendgroup": "Sub-Saharan Africa",
         "marker": {
          "color": "#FF6692",
          "opacity": 0.7,
          "size": [
           37,
           19,
           19,
           22,
           15,
           18,
           19,
           18,
           28,
           23,
           18,
           18,
           18,
           16,
           17,
           19,
           20,
           22,
           17,
           20,
           19,
           20,
           20,
           19,
           18,
           19,
           17,
           18,
           18,
           24,
           24,
           20,
           19
          ],
          "sizemode": "area",
          "sizeref": 0.12,
          "symbol": "circle"
         },
         "mode": "markers",
         "name": "Sub-Saharan Africa",
         "orientation": "v",
         "showlegend": true,
         "type": "scatter",
         "x": [
          1.4,
          4.6,
          4.7,
          3.9,
          7,
          5.3,
          4.9,
          4.7,
          2.4,
          4,
          5.2,
          4.9,
          5.4,
          5.9,
          5,
          4.4,
          3.5,
          3.4,
          5.8,
          4.2,
          4.3,
          4.6,
          4.1,
          4.4,
          4.7,
          4.3,
          5.5,
          4.9,
          4.3,
          3.2,
          2.9,
          4.1,
          3.6
         ],
         "xaxis": "x",
         "y": [
          10.008,
          8.189,
          8.118,
          8.58,
          7.098,
          7.686,
          8.087,
          7.838,
          9.403,
          9.603,
          7.678,
          7.158,
          8.533,
          7.744,
          7.677,
          7.288,
          8.361,
          9.161,
          7.364,
          8.031,
          7.694,
          8.542,
          7.396,
          7.362,
          8.145,
          7.434,
          6.635,
          7.876,
          6.958,
          7.926,
          9.782,
          7.676,
          7.943
         ],
         "yaxis": "y"
        },
        {
         "customdata": [
          [
           40,
           5.985
          ],
          [
           26,
           5.88
          ],
          [
           32,
           5.411
          ],
          [
           30,
           5.384
          ],
          [
           30,
           5.345
          ],
          [
           24,
           5.03
          ],
          [
           26,
           4.83
          ],
          [
           29,
           4.426
          ]
         ],
         "hovertemplate": "<b>%{hovertext}</b><br><br>Regional indicator=Southeast Asia<br>Fertility Rate=%{x}<br>GDP per capita=%{y}<br>Med. Age=%{customdata[0]}<br>Happiness Score=%{customdata[1]}<extra></extra>",
         "hovertext": [
          "Thailand",
          "Philippines",
          "Vietnam",
          "Malaysia",
          "Indonesia",
          "Laos",
          "Cambodia",
          "Myanmar"
         ],
         "legendgroup": "Southeast Asia",
         "marker": {
          "color": "#B6E880",
          "opacity": 0.7,
          "size": [
           40,
           26,
           32,
           30,
           30,
           24,
           26,
           29
          ],
          "sizemode": "area",
          "sizeref": 0.12,
          "symbol": "circle"
         },
         "mode": "markers",
         "name": "Southeast Asia",
         "orientation": "v",
         "showlegend": true,
         "type": "scatter",
         "x": [
          1.5,
          2.6,
          2.1,
          2,
          2.3,
          2.7,
          2.5,
          2.2
         ],
         "xaxis": "x",
         "y": [
          9.805,
          9.076,
          8.973,
          10.238,
          9.365,
          8.947,
          8.36,
          8.541
         ],
         "yaxis": "y"
        },
        {
         "customdata": [
          [
           48,
           5.94
          ],
          [
           44,
           5.845
          ],
          [
           28,
           5.677
          ],
          [
           38,
           5.339
          ]
         ],
         "hovertemplate": "<b>%{hovertext}</b><br><br>Regional indicator=East Asia<br>Fertility Rate=%{x}<br>GDP per capita=%{y}<br>Med. Age=%{customdata[0]}<br>Happiness Score=%{customdata[1]}<extra></extra>",
         "hovertext": [
          "Japan",
          "South Korea",
          "Mongolia",
          "China"
         ],
         "legendgroup": "East Asia",
         "marker": {
          "color": "#FF97FF",
          "opacity": 0.7,
          "size": [
           48,
           44,
           28,
           38
          ],
          "sizemode": "area",
          "sizeref": 0.12,
          "symbol": "circle"
         },
         "mode": "markers",
         "name": "East Asia",
         "orientation": "v",
         "showlegend": true,
         "type": "scatter",
         "x": [
          1.4,
          1.1,
          2.9,
          1.7
         ],
         "xaxis": "x",
         "y": [
          10.611,
          10.651,
          9.4,
          9.673
         ],
         "yaxis": "y"
        },
        {
         "customdata": [
          [
           25,
           5.269
          ],
          [
           30,
           5.198
          ],
          [
           28,
           5.025
          ],
          [
           23,
           4.934
          ],
          [
           34,
           4.325
          ],
          [
           28,
           3.819
          ],
          [
           18,
           2.523
          ]
         ],
         "hovertemplate": "<b>%{hovertext}</b><br><br>Regional indicator=South Asia<br>Fertility Rate=%{x}<br>GDP per capita=%{y}<br>Med. Age=%{customdata[0]}<br>Happiness Score=%{customdata[1]}<extra></extra>",
         "hovertext": [
          "Nepal",
          "Maldives",
          "Bangladesh",
          "Pakistan",
          "Sri Lanka",
          "India",
          "Afghanistan"
         ],
         "legendgroup": "South Asia",
         "marker": {
          "color": "#FECB52",
          "opacity": 0.7,
          "size": [
           25,
           30,
           28,
           23,
           34,
           28,
           18
          ],
          "sizemode": "area",
          "sizeref": 0.12,
          "symbol": "circle"
         },
         "mode": "markers",
         "name": "South Asia",
         "orientation": "v",
         "showlegend": true,
         "type": "scatter",
         "x": [
          1.9,
          1.9,
          2.1,
          3.6,
          2.2,
          2.2,
          4.6
         ],
         "xaxis": "x",
         "y": [
          8.12,
          9.826,
          8.454,
          8.458,
          9.47,
          8.755,
          7.695
         ],
         "yaxis": "y"
        }
       ],
       "layout": {
        "legend": {
         "itemsizing": "constant",
         "title": {
          "text": "Regional indicator"
         },
         "tracegroupgap": 0
        },
        "template": {
         "data": {
          "bar": [
           {
            "error_x": {
             "color": "#2a3f5f"
            },
            "error_y": {
             "color": "#2a3f5f"
            },
            "marker": {
             "line": {
              "color": "#E5ECF6",
              "width": 0.5
             }
            },
            "type": "bar"
           }
          ],
          "barpolar": [
           {
            "marker": {
             "line": {
              "color": "#E5ECF6",
              "width": 0.5
             }
            },
            "type": "barpolar"
           }
          ],
          "carpet": [
           {
            "aaxis": {
             "endlinecolor": "#2a3f5f",
             "gridcolor": "white",
             "linecolor": "white",
             "minorgridcolor": "white",
             "startlinecolor": "#2a3f5f"
            },
            "baxis": {
             "endlinecolor": "#2a3f5f",
             "gridcolor": "white",
             "linecolor": "white",
             "minorgridcolor": "white",
             "startlinecolor": "#2a3f5f"
            },
            "type": "carpet"
           }
          ],
          "choropleth": [
           {
            "colorbar": {
             "outlinewidth": 0,
             "ticks": ""
            },
            "type": "choropleth"
           }
          ],
          "contour": [
           {
            "colorbar": {
             "outlinewidth": 0,
             "ticks": ""
            },
            "colorscale": [
             [
              0,
              "#0d0887"
             ],
             [
              0.1111111111111111,
              "#46039f"
             ],
             [
              0.2222222222222222,
              "#7201a8"
             ],
             [
              0.3333333333333333,
              "#9c179e"
             ],
             [
              0.4444444444444444,
              "#bd3786"
             ],
             [
              0.5555555555555556,
              "#d8576b"
             ],
             [
              0.6666666666666666,
              "#ed7953"
             ],
             [
              0.7777777777777778,
              "#fb9f3a"
             ],
             [
              0.8888888888888888,
              "#fdca26"
             ],
             [
              1,
              "#f0f921"
             ]
            ],
            "type": "contour"
           }
          ],
          "contourcarpet": [
           {
            "colorbar": {
             "outlinewidth": 0,
             "ticks": ""
            },
            "type": "contourcarpet"
           }
          ],
          "heatmap": [
           {
            "colorbar": {
             "outlinewidth": 0,
             "ticks": ""
            },
            "colorscale": [
             [
              0,
              "#0d0887"
             ],
             [
              0.1111111111111111,
              "#46039f"
             ],
             [
              0.2222222222222222,
              "#7201a8"
             ],
             [
              0.3333333333333333,
              "#9c179e"
             ],
             [
              0.4444444444444444,
              "#bd3786"
             ],
             [
              0.5555555555555556,
              "#d8576b"
             ],
             [
              0.6666666666666666,
              "#ed7953"
             ],
             [
              0.7777777777777778,
              "#fb9f3a"
             ],
             [
              0.8888888888888888,
              "#fdca26"
             ],
             [
              1,
              "#f0f921"
             ]
            ],
            "type": "heatmap"
           }
          ],
          "heatmapgl": [
           {
            "colorbar": {
             "outlinewidth": 0,
             "ticks": ""
            },
            "colorscale": [
             [
              0,
              "#0d0887"
             ],
             [
              0.1111111111111111,
              "#46039f"
             ],
             [
              0.2222222222222222,
              "#7201a8"
             ],
             [
              0.3333333333333333,
              "#9c179e"
             ],
             [
              0.4444444444444444,
              "#bd3786"
             ],
             [
              0.5555555555555556,
              "#d8576b"
             ],
             [
              0.6666666666666666,
              "#ed7953"
             ],
             [
              0.7777777777777778,
              "#fb9f3a"
             ],
             [
              0.8888888888888888,
              "#fdca26"
             ],
             [
              1,
              "#f0f921"
             ]
            ],
            "type": "heatmapgl"
           }
          ],
          "histogram": [
           {
            "marker": {
             "colorbar": {
              "outlinewidth": 0,
              "ticks": ""
             }
            },
            "type": "histogram"
           }
          ],
          "histogram2d": [
           {
            "colorbar": {
             "outlinewidth": 0,
             "ticks": ""
            },
            "colorscale": [
             [
              0,
              "#0d0887"
             ],
             [
              0.1111111111111111,
              "#46039f"
             ],
             [
              0.2222222222222222,
              "#7201a8"
             ],
             [
              0.3333333333333333,
              "#9c179e"
             ],
             [
              0.4444444444444444,
              "#bd3786"
             ],
             [
              0.5555555555555556,
              "#d8576b"
             ],
             [
              0.6666666666666666,
              "#ed7953"
             ],
             [
              0.7777777777777778,
              "#fb9f3a"
             ],
             [
              0.8888888888888888,
              "#fdca26"
             ],
             [
              1,
              "#f0f921"
             ]
            ],
            "type": "histogram2d"
           }
          ],
          "histogram2dcontour": [
           {
            "colorbar": {
             "outlinewidth": 0,
             "ticks": ""
            },
            "colorscale": [
             [
              0,
              "#0d0887"
             ],
             [
              0.1111111111111111,
              "#46039f"
             ],
             [
              0.2222222222222222,
              "#7201a8"
             ],
             [
              0.3333333333333333,
              "#9c179e"
             ],
             [
              0.4444444444444444,
              "#bd3786"
             ],
             [
              0.5555555555555556,
              "#d8576b"
             ],
             [
              0.6666666666666666,
              "#ed7953"
             ],
             [
              0.7777777777777778,
              "#fb9f3a"
             ],
             [
              0.8888888888888888,
              "#fdca26"
             ],
             [
              1,
              "#f0f921"
             ]
            ],
            "type": "histogram2dcontour"
           }
          ],
          "mesh3d": [
           {
            "colorbar": {
             "outlinewidth": 0,
             "ticks": ""
            },
            "type": "mesh3d"
           }
          ],
          "parcoords": [
           {
            "line": {
             "colorbar": {
              "outlinewidth": 0,
              "ticks": ""
             }
            },
            "type": "parcoords"
           }
          ],
          "pie": [
           {
            "automargin": true,
            "type": "pie"
           }
          ],
          "scatter": [
           {
            "marker": {
             "colorbar": {
              "outlinewidth": 0,
              "ticks": ""
             }
            },
            "type": "scatter"
           }
          ],
          "scatter3d": [
           {
            "line": {
             "colorbar": {
              "outlinewidth": 0,
              "ticks": ""
             }
            },
            "marker": {
             "colorbar": {
              "outlinewidth": 0,
              "ticks": ""
             }
            },
            "type": "scatter3d"
           }
          ],
          "scattercarpet": [
           {
            "marker": {
             "colorbar": {
              "outlinewidth": 0,
              "ticks": ""
             }
            },
            "type": "scattercarpet"
           }
          ],
          "scattergeo": [
           {
            "marker": {
             "colorbar": {
              "outlinewidth": 0,
              "ticks": ""
             }
            },
            "type": "scattergeo"
           }
          ],
          "scattergl": [
           {
            "marker": {
             "colorbar": {
              "outlinewidth": 0,
              "ticks": ""
             }
            },
            "type": "scattergl"
           }
          ],
          "scattermapbox": [
           {
            "marker": {
             "colorbar": {
              "outlinewidth": 0,
              "ticks": ""
             }
            },
            "type": "scattermapbox"
           }
          ],
          "scatterpolar": [
           {
            "marker": {
             "colorbar": {
              "outlinewidth": 0,
              "ticks": ""
             }
            },
            "type": "scatterpolar"
           }
          ],
          "scatterpolargl": [
           {
            "marker": {
             "colorbar": {
              "outlinewidth": 0,
              "ticks": ""
             }
            },
            "type": "scatterpolargl"
           }
          ],
          "scatterternary": [
           {
            "marker": {
             "colorbar": {
              "outlinewidth": 0,
              "ticks": ""
             }
            },
            "type": "scatterternary"
           }
          ],
          "surface": [
           {
            "colorbar": {
             "outlinewidth": 0,
             "ticks": ""
            },
            "colorscale": [
             [
              0,
              "#0d0887"
             ],
             [
              0.1111111111111111,
              "#46039f"
             ],
             [
              0.2222222222222222,
              "#7201a8"
             ],
             [
              0.3333333333333333,
              "#9c179e"
             ],
             [
              0.4444444444444444,
              "#bd3786"
             ],
             [
              0.5555555555555556,
              "#d8576b"
             ],
             [
              0.6666666666666666,
              "#ed7953"
             ],
             [
              0.7777777777777778,
              "#fb9f3a"
             ],
             [
              0.8888888888888888,
              "#fdca26"
             ],
             [
              1,
              "#f0f921"
             ]
            ],
            "type": "surface"
           }
          ],
          "table": [
           {
            "cells": {
             "fill": {
              "color": "#EBF0F8"
             },
             "line": {
              "color": "white"
             }
            },
            "header": {
             "fill": {
              "color": "#C8D4E3"
             },
             "line": {
              "color": "white"
             }
            },
            "type": "table"
           }
          ]
         },
         "layout": {
          "annotationdefaults": {
           "arrowcolor": "#2a3f5f",
           "arrowhead": 0,
           "arrowwidth": 1
          },
          "autotypenumbers": "strict",
          "coloraxis": {
           "colorbar": {
            "outlinewidth": 0,
            "ticks": ""
           }
          },
          "colorscale": {
           "diverging": [
            [
             0,
             "#8e0152"
            ],
            [
             0.1,
             "#c51b7d"
            ],
            [
             0.2,
             "#de77ae"
            ],
            [
             0.3,
             "#f1b6da"
            ],
            [
             0.4,
             "#fde0ef"
            ],
            [
             0.5,
             "#f7f7f7"
            ],
            [
             0.6,
             "#e6f5d0"
            ],
            [
             0.7,
             "#b8e186"
            ],
            [
             0.8,
             "#7fbc41"
            ],
            [
             0.9,
             "#4d9221"
            ],
            [
             1,
             "#276419"
            ]
           ],
           "sequential": [
            [
             0,
             "#0d0887"
            ],
            [
             0.1111111111111111,
             "#46039f"
            ],
            [
             0.2222222222222222,
             "#7201a8"
            ],
            [
             0.3333333333333333,
             "#9c179e"
            ],
            [
             0.4444444444444444,
             "#bd3786"
            ],
            [
             0.5555555555555556,
             "#d8576b"
            ],
            [
             0.6666666666666666,
             "#ed7953"
            ],
            [
             0.7777777777777778,
             "#fb9f3a"
            ],
            [
             0.8888888888888888,
             "#fdca26"
            ],
            [
             1,
             "#f0f921"
            ]
           ],
           "sequentialminus": [
            [
             0,
             "#0d0887"
            ],
            [
             0.1111111111111111,
             "#46039f"
            ],
            [
             0.2222222222222222,
             "#7201a8"
            ],
            [
             0.3333333333333333,
             "#9c179e"
            ],
            [
             0.4444444444444444,
             "#bd3786"
            ],
            [
             0.5555555555555556,
             "#d8576b"
            ],
            [
             0.6666666666666666,
             "#ed7953"
            ],
            [
             0.7777777777777778,
             "#fb9f3a"
            ],
            [
             0.8888888888888888,
             "#fdca26"
            ],
            [
             1,
             "#f0f921"
            ]
           ]
          },
          "colorway": [
           "#636efa",
           "#EF553B",
           "#00cc96",
           "#ab63fa",
           "#FFA15A",
           "#19d3f3",
           "#FF6692",
           "#B6E880",
           "#FF97FF",
           "#FECB52"
          ],
          "font": {
           "color": "#2a3f5f"
          },
          "geo": {
           "bgcolor": "white",
           "lakecolor": "white",
           "landcolor": "#E5ECF6",
           "showlakes": true,
           "showland": true,
           "subunitcolor": "white"
          },
          "hoverlabel": {
           "align": "left"
          },
          "hovermode": "closest",
          "mapbox": {
           "style": "light"
          },
          "paper_bgcolor": "white",
          "plot_bgcolor": "#E5ECF6",
          "polar": {
           "angularaxis": {
            "gridcolor": "white",
            "linecolor": "white",
            "ticks": ""
           },
           "bgcolor": "#E5ECF6",
           "radialaxis": {
            "gridcolor": "white",
            "linecolor": "white",
            "ticks": ""
           }
          },
          "scene": {
           "xaxis": {
            "backgroundcolor": "#E5ECF6",
            "gridcolor": "white",
            "gridwidth": 2,
            "linecolor": "white",
            "showbackground": true,
            "ticks": "",
            "zerolinecolor": "white"
           },
           "yaxis": {
            "backgroundcolor": "#E5ECF6",
            "gridcolor": "white",
            "gridwidth": 2,
            "linecolor": "white",
            "showbackground": true,
            "ticks": "",
            "zerolinecolor": "white"
           },
           "zaxis": {
            "backgroundcolor": "#E5ECF6",
            "gridcolor": "white",
            "gridwidth": 2,
            "linecolor": "white",
            "showbackground": true,
            "ticks": "",
            "zerolinecolor": "white"
           }
          },
          "shapedefaults": {
           "line": {
            "color": "#2a3f5f"
           }
          },
          "ternary": {
           "aaxis": {
            "gridcolor": "white",
            "linecolor": "white",
            "ticks": ""
           },
           "baxis": {
            "gridcolor": "white",
            "linecolor": "white",
            "ticks": ""
           },
           "bgcolor": "#E5ECF6",
           "caxis": {
            "gridcolor": "white",
            "linecolor": "white",
            "ticks": ""
           }
          },
          "title": {
           "x": 0.05
          },
          "xaxis": {
           "automargin": true,
           "gridcolor": "white",
           "linecolor": "white",
           "ticks": "",
           "title": {
            "standoff": 15
           },
           "zerolinecolor": "white",
           "zerolinewidth": 2
          },
          "yaxis": {
           "automargin": true,
           "gridcolor": "white",
           "linecolor": "white",
           "ticks": "",
           "title": {
            "standoff": 15
           },
           "zerolinecolor": "white",
           "zerolinewidth": 2
          }
         }
        },
        "title": {
         "text": "Between Fertility Rate vs GDP vs Median Age"
        },
        "xaxis": {
         "anchor": "y",
         "domain": [
          0,
          1
         ],
         "title": {
          "text": "Fertility Rate"
         }
        },
        "yaxis": {
         "anchor": "x",
         "domain": [
          0,
          1
         ],
         "title": {
          "text": "GDP per capita"
         }
        }
       }
      }
     },
     "metadata": {}
    }
   ],
   "source": [
    "fig = px.scatter(df1pop,\n",
    "    x=\"Fert. Rate\", y='GDP per capita', size=\"Med. Age\", color=\"Regional indicator\",\n",
    "    labels={\"Ladder score\": 'Happiness Score',\n",
    "           'pop_quantile': 'Population Quantile',\n",
    "           'Fert. Rate': 'Fertility Rate'},size_max=20,\n",
    "    title=\"Between Fertility Rate vs GDP vs Median Age\",\n",
    "                 opacity=0.7,hover_name='Country',hover_data=['Fert. Rate','GDP per capita','Med. Age','Ladder score'])\n",
    "fig.update_traces(marker_sizemode='area')\n",
    "fig.update_traces(showlegend=True)\n",
    "fig.show()"
   ]
  },
  {
   "source": [
    "We can see that countries with higher GDP have low fertility rate whereas in low GDP Countries, fertility is high.\n",
    "Also as we saw before, happier countries have higher median age. Here Median age is described as the size of marker & we can see that bigger bubble are toward left-top of plot, i.e High GDP per Capita & low Fertility Rate"
   ],
   "cell_type": "markdown",
   "metadata": {}
  },
  {
   "cell_type": "code",
   "execution_count": null,
   "metadata": {},
   "outputs": [],
   "source": []
  }
 ],
 "metadata": {
  "kernelspec": {
   "name": "python394jvsc74a57bd0b335c95ae88232a212f7d1150f25dc077afb14c9c4735fcd545a3b68cae5b7b0",
   "display_name": "Python 3.9.4 64-bit"
  },
  "language_info": {
   "codemirror_mode": {
    "name": "ipython",
    "version": 3
   },
   "file_extension": ".py",
   "mimetype": "text/x-python",
   "name": "python",
   "nbconvert_exporter": "python",
   "pygments_lexer": "ipython3",
   "version": "3.9.4"
  },
  "toc": {
   "base_numbering": 1,
   "nav_menu": {},
   "number_sections": true,
   "sideBar": true,
   "skip_h1_title": false,
   "title_cell": "Table of Contents",
   "title_sidebar": "Contents",
   "toc_cell": false,
   "toc_position": {},
   "toc_section_display": true,
   "toc_window_display": true
  }
 },
 "nbformat": 4,
 "nbformat_minor": 5
}